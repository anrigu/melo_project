{
 "cells": [
  {
   "cell_type": "markdown",
   "metadata": {},
   "source": [
    "# MELO Simulator and Subgame Search Testing Notebook\n",
    "\n",
    "This notebook tests the MELO simulator adapter and subgame search implementation with the fixed code.\n",
    "\n",
    "## Contents:\n",
    "1. Setup and Environment Configuration\n",
    "2. Testing Individual Strategy Profiles\n",
    "3. Running Subgame Search\n",
    "4. Analyzing Results"
   ]
  },
  {
   "cell_type": "markdown",
   "metadata": {},
   "source": [
    "## 1. Setup and Environment Configuration"
   ]
  },
  {
   "cell_type": "code",
   "execution_count": 20,
   "metadata": {},
   "outputs": [
    {
     "name": "stdout",
     "output_type": "stream",
     "text": [
      "Current directory: /Users/gabesmithline/Desktop/SRG/melo_project/marketsim/egta/subgame_search\n",
      "Python path: ['/Users/gabesmithline/Desktop/SRG/melo_project', '/Users/gabesmithline/Desktop/SRG/melo_project/marketsim', '/Users/gabesmithline/.pyenv/versions/3.11.9/lib/python311.zip', '/Users/gabesmithline/.pyenv/versions/3.11.9/lib/python3.11', '/Users/gabesmithline/.pyenv/versions/3.11.9/lib/python3.11/lib-dynload', '', '/Users/gabesmithline/.pyenv/versions/3.11.9/lib/python3.11/site-packages', '/Users/gabesmithline/Desktop/SRG/melo_project/marketsim']\n"
     ]
    }
   ],
   "source": [
    "import os\n",
    "import sys\n",
    "import logging\n",
    "import numpy as np\n",
    "import matplotlib.pyplot as plt\n",
    "import pandas as pd\n",
    "import torch\n",
    "\n",
    "# Add the project directory to the path\n",
    "project_dir = os.path.abspath(os.path.join(os.getcwd(), '../..'))\n",
    "if project_dir not in sys.path:\n",
    "    sys.path.insert(0, project_dir)\n",
    "\n",
    "# Configure logging\n",
    "logging.basicConfig(\n",
    "    level=logging.INFO,\n",
    "    format='%(asctime)s - %(name)s - %(levelname)s - %(message)s'\n",
    ")\n",
    "\n",
    "# Print debug information\n",
    "print(f\"Current directory: {os.getcwd()}\")\n",
    "print(f\"Python path: {sys.path}\")"
   ]
  },
  {
   "cell_type": "code",
   "execution_count": 21,
   "metadata": {},
   "outputs": [
    {
     "name": "stdout",
     "output_type": "stream",
     "text": [
      "Successfully imported EGTA modules!\n"
     ]
    }
   ],
   "source": [
    "# Import the necessary modules\n",
    "from melo_simulator_adapter import MeloSimulatorAdapter\n",
    "from subgame_search import SubgameSearch\n",
    "from symmetric_game import SymmetricGame\n",
    "from run_subgame_search import run_subgame_search\n",
    "\n",
    "print(\"Successfully imported EGTA modules!\")"
   ]
  },
  {
   "cell_type": "markdown",
   "metadata": {},
   "source": [
    "## 2. Testing Individual Strategy Profiles"
   ]
  },
  {
   "cell_type": "code",
   "execution_count": 22,
   "metadata": {},
   "outputs": [
    {
     "name": "stdout",
     "output_type": "stream",
     "text": [
      "Created MeloSimulatorAdapter instance\n"
     ]
    }
   ],
   "source": [
    "# Create an instance of the MeloSimulatorAdapter with optimized parameters\n",
    "adapter = MeloSimulatorAdapter(\n",
    "    num_background_agents=20,  # Reduced for faster simulations\n",
    "    sim_time=12000,\n",
    "    num_assets=1,\n",
    "    num_simulations=5,  # Reduced for faster testing\n",
    "    lam=5e-2,           # Arrival rate\n",
    "    mean=1e5,           # Mean fundamental value (100,000)\n",
    "    r=0.05,             # Interest rate\n",
    "    shock_var=5e6,      # Variance for price shocks (5,000,000)\n",
    "    q_max=10,           # Maximum quantity\n",
    "    pv_var=5e6,         # Variance for private values\n",
    "    shade=[500, 1000]   # Shading parameter\n",
    ")\n",
    "\n",
    "print(\"Created MeloSimulatorAdapter instance\")"
   ]
  },
  {
   "cell_type": "markdown",
   "metadata": {},
   "source": [
    "### Test 1: MELO_Only vs CDA_Only"
   ]
  },
  {
   "cell_type": "code",
   "execution_count": 23,
   "metadata": {},
   "outputs": [
    {
     "name": "stderr",
     "output_type": "stream",
     "text": [
      "2025-03-11 16:21:43,152 - melo_simulator_adapter - INFO - Simulating profile: {'MELO_Only': 1, 'CDA_Only': 1} with parameters: {'lam': 0.05, 'mean': 100000.0, 'r': 0.05, 'shock_var': 5000000.0, 'q_max': 10, 'pv_var': 5000000.0, 'shade': [500, 1000]}\n",
      "2025-03-11 16:21:43,153 - melo_simulator_adapter - INFO - Running simulation 1/5...\n",
      "2025-03-11 16:21:43,156 - melo_simulator_adapter - INFO - Simulator has 21 agents\n",
      "2025-03-11 16:21:43,156 - melo_simulator_adapter - INFO - Agent IDs in simulator: [0, 1, 2, 3, 4, 5, 6, 7, 8, 9, 10, 11, 12, 13, 14, 15, 16, 17, 18, 19, 20]\n",
      "2025-03-11 16:21:43,156 - melo_simulator_adapter - INFO - Using agent IDs for strategies: [19, 20]\n",
      "2025-03-11 16:21:43,156 - melo_simulator_adapter - INFO - Starting simulation run...\n",
      "2025-03-11 16:21:43,369 - melo_simulator_adapter - INFO - Simulation run completed\n",
      "2025-03-11 16:21:43,369 - melo_simulator_adapter - INFO - Attempting to get end_sim results (new format)...\n",
      "2025-03-11 16:21:43,372 - melo_simulator_adapter - INFO - Got CDA values: {0: tensor(1977.6719), 1: tensor(-2051.8984), 2: tensor(1975.5000), 3: tensor(-3146.), 4: tensor(2763.4375), 5: tensor(0.), 6: tensor(0.), 7: tensor(0.), 8: tensor(0.), 9: tensor(0.), 10: tensor(0.), 11: tensor(0.), 12: tensor(0.), 13: tensor(0.), 14: tensor(0.), 15: tensor(0.), 16: tensor(0.), 17: tensor(0.), 18: tensor(0.), 19: tensor(0.), 20: tensor(0.)}\n",
      "2025-03-11 16:21:43,372 - melo_simulator_adapter - INFO - Got MELO profits: {0: 0, 1: 0, 2: 0, 3: 0, 4: 0, 5: 0, 6: 0, 7: 0, 8: 0, 9: 0, 10: 0, 11: 0, 12: 0, 13: 0, 14: 0, 15: 0, 16: 0, 17: 0, 18: 0, 19: 0, 20: 0}\n",
      "2025-03-11 16:21:43,373 - melo_simulator_adapter - INFO - Total agents: 21\n",
      "2025-03-11 16:21:43,373 - melo_simulator_adapter - INFO - Agent strategies: {19: 'MELO_Only', 20: 'CDA_Only'}\n",
      "2025-03-11 16:21:43,373 - melo_simulator_adapter - INFO - Background agent 0 has non-zero profit: CDA=1977.67, MELO=0.00, Total=1977.67\n",
      "2025-03-11 16:21:43,373 - melo_simulator_adapter - INFO - Background agent 1 has non-zero profit: CDA=-2051.90, MELO=0.00, Total=-2051.90\n",
      "2025-03-11 16:21:43,374 - melo_simulator_adapter - INFO - Background agent 2 has non-zero profit: CDA=1975.50, MELO=0.00, Total=1975.50\n",
      "2025-03-11 16:21:43,374 - melo_simulator_adapter - INFO - Background agent 3 has non-zero profit: CDA=-3146.00, MELO=0.00, Total=-3146.00\n",
      "2025-03-11 16:21:43,374 - melo_simulator_adapter - INFO - Background agent 4 has non-zero profit: CDA=2763.44, MELO=0.00, Total=2763.44\n",
      "2025-03-11 16:21:43,374 - melo_simulator_adapter - INFO - Strategy agent 19 (MELO_Only): CDA=0.00, MELO=0.00, Total=0.00\n",
      "2025-03-11 16:21:43,375 - melo_simulator_adapter - INFO - Strategy agent 20 (CDA_Only): CDA=0.00, MELO=0.00, Total=0.00\n",
      "2025-03-11 16:21:43,375 - melo_simulator_adapter - INFO - Strategy payoffs: {'MELO_Only': 0.0, 'CDA_Only': 0.0}\n",
      "2025-03-11 16:21:43,375 - melo_simulator_adapter - INFO - Simulation 1 payoffs: {'MELO_Only': 0.0, 'CDA_Only': 0.0}\n",
      "2025-03-11 16:21:43,375 - melo_simulator_adapter - INFO - Running simulation 2/5...\n",
      "2025-03-11 16:21:43,380 - melo_simulator_adapter - INFO - Simulator has 21 agents\n",
      "2025-03-11 16:21:43,380 - melo_simulator_adapter - INFO - Agent IDs in simulator: [0, 1, 2, 3, 4, 5, 6, 7, 8, 9, 10, 11, 12, 13, 14, 15, 16, 17, 18, 19, 20]\n",
      "2025-03-11 16:21:43,380 - melo_simulator_adapter - INFO - Using agent IDs for strategies: [19, 20]\n",
      "2025-03-11 16:21:43,382 - melo_simulator_adapter - INFO - Starting simulation run...\n"
     ]
    },
    {
     "name": "stdout",
     "output_type": "stream",
     "text": [
      "At the end of the simulation we get {0: tensor(1977.6719), 1: tensor(-2051.8984), 2: tensor(1975.5000), 3: tensor(-3146.), 4: tensor(2763.4375), 5: tensor(0.), 6: tensor(0.), 7: tensor(0.), 8: tensor(0.), 9: tensor(0.), 10: tensor(0.), 11: tensor(0.), 12: tensor(0.), 13: tensor(0.), 14: tensor(0.), 15: tensor(0.), 16: tensor(0.), 17: tensor(0.), 18: tensor(0.), 19: tensor(0.), 20: tensor(0.)}\n",
      "MELO_ At the end of the simulation we get {0: 0, 1: 0, 2: 0, 3: 0, 4: 0, 5: 0, 6: 0, 7: 0, 8: 0, 9: 0, 10: 0, 11: 0, 12: 0, 13: 0, 14: 0, 15: 0, 16: 0, 17: 0, 18: 0, 19: 0, 20: 0}\n",
      "At the end of the simulation we get {0: tensor(1977.6719), 1: tensor(-2051.8984), 2: tensor(1975.5000), 3: tensor(-3146.), 4: tensor(2763.4375), 5: tensor(0.), 6: tensor(0.), 7: tensor(0.), 8: tensor(0.), 9: tensor(0.), 10: tensor(0.), 11: tensor(0.), 12: tensor(0.), 13: tensor(0.), 14: tensor(0.), 15: tensor(0.), 16: tensor(0.), 17: tensor(0.), 18: tensor(0.), 19: tensor(0.), 20: tensor(0.)}\n",
      "MELO_ At the end of the simulation we get {0: 0, 1: 0, 2: 0, 3: 0, 4: 0, 5: 0, 6: 0, 7: 0, 8: 0, 9: 0, 10: 0, 11: 0, 12: 0, 13: 0, 14: 0, 15: 0, 16: 0, 17: 0, 18: 0, 19: 0, 20: 0}\n"
     ]
    },
    {
     "name": "stderr",
     "output_type": "stream",
     "text": [
      "2025-03-11 16:21:43,591 - melo_simulator_adapter - INFO - Simulation run completed\n",
      "2025-03-11 16:21:43,591 - melo_simulator_adapter - INFO - Attempting to get end_sim results (new format)...\n",
      "2025-03-11 16:21:43,597 - melo_simulator_adapter - INFO - Got CDA values: {0: tensor(-672.7031), 1: tensor(2067.9688), 2: tensor(2633.8125), 3: tensor(0.), 4: tensor(-1874.2500), 5: tensor(0.), 6: tensor(0.), 7: tensor(0.), 8: tensor(0.), 9: tensor(0.), 10: tensor(0.), 11: tensor(0.), 12: tensor(0.), 13: tensor(0.), 14: tensor(0.), 15: tensor(0.), 16: tensor(0.), 17: tensor(0.), 18: tensor(0.), 19: tensor(0.), 20: tensor(0.)}\n",
      "2025-03-11 16:21:43,597 - melo_simulator_adapter - INFO - Got MELO profits: {0: 0, 1: 0, 2: 0, 3: 0, 4: 0, 5: 0, 6: 0, 7: 0, 8: 0, 9: 0, 10: 0, 11: 0, 12: 0, 13: 0, 14: 0, 15: 0, 16: 0, 17: 0, 18: 0, 19: 0, 20: 0}\n",
      "2025-03-11 16:21:43,597 - melo_simulator_adapter - INFO - Total agents: 21\n",
      "2025-03-11 16:21:43,598 - melo_simulator_adapter - INFO - Agent strategies: {19: 'MELO_Only', 20: 'CDA_Only'}\n",
      "2025-03-11 16:21:43,598 - melo_simulator_adapter - INFO - Background agent 0 has non-zero profit: CDA=-672.70, MELO=0.00, Total=-672.70\n",
      "2025-03-11 16:21:43,598 - melo_simulator_adapter - INFO - Background agent 1 has non-zero profit: CDA=2067.97, MELO=0.00, Total=2067.97\n",
      "2025-03-11 16:21:43,599 - melo_simulator_adapter - INFO - Background agent 2 has non-zero profit: CDA=2633.81, MELO=0.00, Total=2633.81\n",
      "2025-03-11 16:21:43,599 - melo_simulator_adapter - INFO - Background agent 4 has non-zero profit: CDA=-1874.25, MELO=0.00, Total=-1874.25\n",
      "2025-03-11 16:21:43,599 - melo_simulator_adapter - INFO - Strategy agent 19 (MELO_Only): CDA=0.00, MELO=0.00, Total=0.00\n",
      "2025-03-11 16:21:43,599 - melo_simulator_adapter - INFO - Strategy agent 20 (CDA_Only): CDA=0.00, MELO=0.00, Total=0.00\n",
      "2025-03-11 16:21:43,600 - melo_simulator_adapter - INFO - Strategy payoffs: {'MELO_Only': 0.0, 'CDA_Only': 0.0}\n",
      "2025-03-11 16:21:43,600 - melo_simulator_adapter - INFO - Simulation 2 payoffs: {'MELO_Only': 0.0, 'CDA_Only': 0.0}\n",
      "2025-03-11 16:21:43,601 - melo_simulator_adapter - INFO - Running simulation 3/5...\n",
      "2025-03-11 16:21:43,605 - melo_simulator_adapter - INFO - Simulator has 21 agents\n",
      "2025-03-11 16:21:43,606 - melo_simulator_adapter - INFO - Agent IDs in simulator: [0, 1, 2, 3, 4, 5, 6, 7, 8, 9, 10, 11, 12, 13, 14, 15, 16, 17, 18, 19, 20]\n",
      "2025-03-11 16:21:43,606 - melo_simulator_adapter - INFO - Using agent IDs for strategies: [19, 20]\n",
      "2025-03-11 16:21:43,607 - melo_simulator_adapter - INFO - Starting simulation run...\n"
     ]
    },
    {
     "name": "stdout",
     "output_type": "stream",
     "text": [
      "At the end of the simulation we get {0: tensor(-672.7031), 1: tensor(2067.9688), 2: tensor(2633.8125), 3: tensor(0.), 4: tensor(-1874.2500), 5: tensor(0.), 6: tensor(0.), 7: tensor(0.), 8: tensor(0.), 9: tensor(0.), 10: tensor(0.), 11: tensor(0.), 12: tensor(0.), 13: tensor(0.), 14: tensor(0.), 15: tensor(0.), 16: tensor(0.), 17: tensor(0.), 18: tensor(0.), 19: tensor(0.), 20: tensor(0.)}\n",
      "MELO_ At the end of the simulation we get {0: 0, 1: 0, 2: 0, 3: 0, 4: 0, 5: 0, 6: 0, 7: 0, 8: 0, 9: 0, 10: 0, 11: 0, 12: 0, 13: 0, 14: 0, 15: 0, 16: 0, 17: 0, 18: 0, 19: 0, 20: 0}\n",
      "At the end of the simulation we get {0: tensor(-672.7031), 1: tensor(2067.9688), 2: tensor(2633.8125), 3: tensor(0.), 4: tensor(-1874.2500), 5: tensor(0.), 6: tensor(0.), 7: tensor(0.), 8: tensor(0.), 9: tensor(0.), 10: tensor(0.), 11: tensor(0.), 12: tensor(0.), 13: tensor(0.), 14: tensor(0.), 15: tensor(0.), 16: tensor(0.), 17: tensor(0.), 18: tensor(0.), 19: tensor(0.), 20: tensor(0.)}\n",
      "MELO_ At the end of the simulation we get {0: 0, 1: 0, 2: 0, 3: 0, 4: 0, 5: 0, 6: 0, 7: 0, 8: 0, 9: 0, 10: 0, 11: 0, 12: 0, 13: 0, 14: 0, 15: 0, 16: 0, 17: 0, 18: 0, 19: 0, 20: 0}\n"
     ]
    },
    {
     "name": "stderr",
     "output_type": "stream",
     "text": [
      "2025-03-11 16:21:43,885 - melo_simulator_adapter - INFO - Simulation run completed\n",
      "2025-03-11 16:21:43,885 - melo_simulator_adapter - INFO - Attempting to get end_sim results (new format)...\n",
      "2025-03-11 16:21:43,888 - melo_simulator_adapter - INFO - Got CDA values: {0: tensor(-15205.0156), 1: tensor(23147.0312), 2: tensor(3572.0938), 3: tensor(-11334.0391), 4: tensor(-1158.6062), 5: tensor(0.), 6: tensor(0.), 7: tensor(0.), 8: tensor(0.), 9: tensor(0.), 10: tensor(0.), 11: tensor(0.), 12: tensor(0.), 13: tensor(0.), 14: tensor(0.), 15: tensor(0.), 16: tensor(0.), 17: tensor(0.), 18: tensor(0.), 19: tensor(0.), 20: tensor(0.)}\n",
      "2025-03-11 16:21:43,889 - melo_simulator_adapter - INFO - Got MELO profits: {0: 0, 1: 0, 2: 0, 3: 0, 4: 0, 5: 0, 6: 0, 7: 0, 8: 0, 9: 0, 10: 0, 11: 0, 12: 0, 13: 0, 14: 0, 15: 0, 16: 0, 17: 0, 18: 0, 19: 0, 20: 0}\n",
      "2025-03-11 16:21:43,889 - melo_simulator_adapter - INFO - Total agents: 21\n",
      "2025-03-11 16:21:43,889 - melo_simulator_adapter - INFO - Agent strategies: {19: 'MELO_Only', 20: 'CDA_Only'}\n",
      "2025-03-11 16:21:43,889 - melo_simulator_adapter - INFO - Background agent 0 has non-zero profit: CDA=-15205.02, MELO=0.00, Total=-15205.02\n",
      "2025-03-11 16:21:43,889 - melo_simulator_adapter - INFO - Background agent 1 has non-zero profit: CDA=23147.03, MELO=0.00, Total=23147.03\n",
      "2025-03-11 16:21:43,890 - melo_simulator_adapter - INFO - Background agent 2 has non-zero profit: CDA=3572.09, MELO=0.00, Total=3572.09\n",
      "2025-03-11 16:21:43,890 - melo_simulator_adapter - INFO - Background agent 3 has non-zero profit: CDA=-11334.04, MELO=0.00, Total=-11334.04\n",
      "2025-03-11 16:21:43,890 - melo_simulator_adapter - INFO - Background agent 4 has non-zero profit: CDA=-1158.61, MELO=0.00, Total=-1158.61\n",
      "2025-03-11 16:21:43,890 - melo_simulator_adapter - INFO - Strategy agent 19 (MELO_Only): CDA=0.00, MELO=0.00, Total=0.00\n",
      "2025-03-11 16:21:43,890 - melo_simulator_adapter - INFO - Strategy agent 20 (CDA_Only): CDA=0.00, MELO=0.00, Total=0.00\n",
      "2025-03-11 16:21:43,891 - melo_simulator_adapter - INFO - Strategy payoffs: {'MELO_Only': 0.0, 'CDA_Only': 0.0}\n",
      "2025-03-11 16:21:43,891 - melo_simulator_adapter - INFO - Simulation 3 payoffs: {'MELO_Only': 0.0, 'CDA_Only': 0.0}\n",
      "2025-03-11 16:21:43,891 - melo_simulator_adapter - INFO - Running simulation 4/5...\n",
      "2025-03-11 16:21:43,895 - melo_simulator_adapter - INFO - Simulator has 21 agents\n",
      "2025-03-11 16:21:43,895 - melo_simulator_adapter - INFO - Agent IDs in simulator: [0, 1, 2, 3, 4, 5, 6, 7, 8, 9, 10, 11, 12, 13, 14, 15, 16, 17, 18, 19, 20]\n",
      "2025-03-11 16:21:43,895 - melo_simulator_adapter - INFO - Using agent IDs for strategies: [19, 20]\n",
      "2025-03-11 16:21:43,897 - melo_simulator_adapter - INFO - Starting simulation run...\n"
     ]
    },
    {
     "name": "stdout",
     "output_type": "stream",
     "text": [
      "At the end of the simulation we get {0: tensor(-15205.0156), 1: tensor(23147.0312), 2: tensor(3572.0938), 3: tensor(-11334.0391), 4: tensor(-1158.6062), 5: tensor(0.), 6: tensor(0.), 7: tensor(0.), 8: tensor(0.), 9: tensor(0.), 10: tensor(0.), 11: tensor(0.), 12: tensor(0.), 13: tensor(0.), 14: tensor(0.), 15: tensor(0.), 16: tensor(0.), 17: tensor(0.), 18: tensor(0.), 19: tensor(0.), 20: tensor(0.)}\n",
      "MELO_ At the end of the simulation we get {0: 0, 1: 0, 2: 0, 3: 0, 4: 0, 5: 0, 6: 0, 7: 0, 8: 0, 9: 0, 10: 0, 11: 0, 12: 0, 13: 0, 14: 0, 15: 0, 16: 0, 17: 0, 18: 0, 19: 0, 20: 0}\n",
      "At the end of the simulation we get {0: tensor(-15205.0156), 1: tensor(23147.0312), 2: tensor(3572.0938), 3: tensor(-11334.0391), 4: tensor(-1158.6062), 5: tensor(0.), 6: tensor(0.), 7: tensor(0.), 8: tensor(0.), 9: tensor(0.), 10: tensor(0.), 11: tensor(0.), 12: tensor(0.), 13: tensor(0.), 14: tensor(0.), 15: tensor(0.), 16: tensor(0.), 17: tensor(0.), 18: tensor(0.), 19: tensor(0.), 20: tensor(0.)}\n",
      "MELO_ At the end of the simulation we get {0: 0, 1: 0, 2: 0, 3: 0, 4: 0, 5: 0, 6: 0, 7: 0, 8: 0, 9: 0, 10: 0, 11: 0, 12: 0, 13: 0, 14: 0, 15: 0, 16: 0, 17: 0, 18: 0, 19: 0, 20: 0}\n"
     ]
    },
    {
     "name": "stderr",
     "output_type": "stream",
     "text": [
      "2025-03-11 16:21:44,100 - melo_simulator_adapter - INFO - Simulation run completed\n",
      "2025-03-11 16:21:44,100 - melo_simulator_adapter - INFO - Attempting to get end_sim results (new format)...\n",
      "2025-03-11 16:21:44,103 - melo_simulator_adapter - INFO - Got CDA values: {0: tensor(60135.5625), 1: tensor(-40802.6562), 2: tensor(0.), 3: tensor(14980.4219), 4: tensor(-27191.4688), 5: tensor(0.), 6: tensor(0.), 7: tensor(0.), 8: tensor(0.), 9: tensor(0.), 10: tensor(0.), 11: tensor(0.), 12: tensor(0.), 13: tensor(0.), 14: tensor(0.), 15: tensor(0.), 16: tensor(0.), 17: tensor(0.), 18: tensor(0.), 19: tensor(0.), 20: tensor(0.)}\n",
      "2025-03-11 16:21:44,103 - melo_simulator_adapter - INFO - Got MELO profits: {0: 0, 1: 0, 2: 0, 3: 0, 4: 0, 5: 0, 6: 0, 7: 0, 8: 0, 9: 0, 10: 0, 11: 0, 12: 0, 13: 0, 14: 0, 15: 0, 16: 0, 17: 0, 18: 0, 19: 0, 20: 0}\n",
      "2025-03-11 16:21:44,103 - melo_simulator_adapter - INFO - Total agents: 21\n",
      "2025-03-11 16:21:44,103 - melo_simulator_adapter - INFO - Agent strategies: {19: 'MELO_Only', 20: 'CDA_Only'}\n",
      "2025-03-11 16:21:44,104 - melo_simulator_adapter - INFO - Background agent 0 has non-zero profit: CDA=60135.56, MELO=0.00, Total=60135.56\n",
      "2025-03-11 16:21:44,104 - melo_simulator_adapter - INFO - Background agent 1 has non-zero profit: CDA=-40802.66, MELO=0.00, Total=-40802.66\n",
      "2025-03-11 16:21:44,104 - melo_simulator_adapter - INFO - Background agent 3 has non-zero profit: CDA=14980.42, MELO=0.00, Total=14980.42\n",
      "2025-03-11 16:21:44,104 - melo_simulator_adapter - INFO - Background agent 4 has non-zero profit: CDA=-27191.47, MELO=0.00, Total=-27191.47\n",
      "2025-03-11 16:21:44,104 - melo_simulator_adapter - INFO - Strategy agent 19 (MELO_Only): CDA=0.00, MELO=0.00, Total=0.00\n",
      "2025-03-11 16:21:44,105 - melo_simulator_adapter - INFO - Strategy agent 20 (CDA_Only): CDA=0.00, MELO=0.00, Total=0.00\n",
      "2025-03-11 16:21:44,105 - melo_simulator_adapter - INFO - Strategy payoffs: {'MELO_Only': 0.0, 'CDA_Only': 0.0}\n",
      "2025-03-11 16:21:44,105 - melo_simulator_adapter - INFO - Simulation 4 payoffs: {'MELO_Only': 0.0, 'CDA_Only': 0.0}\n",
      "2025-03-11 16:21:44,105 - melo_simulator_adapter - INFO - Running simulation 5/5...\n",
      "2025-03-11 16:21:44,109 - melo_simulator_adapter - INFO - Simulator has 21 agents\n",
      "2025-03-11 16:21:44,109 - melo_simulator_adapter - INFO - Agent IDs in simulator: [0, 1, 2, 3, 4, 5, 6, 7, 8, 9, 10, 11, 12, 13, 14, 15, 16, 17, 18, 19, 20]\n",
      "2025-03-11 16:21:44,109 - melo_simulator_adapter - INFO - Using agent IDs for strategies: [19, 20]\n",
      "2025-03-11 16:21:44,110 - melo_simulator_adapter - INFO - Starting simulation run...\n"
     ]
    },
    {
     "name": "stdout",
     "output_type": "stream",
     "text": [
      "At the end of the simulation we get {0: tensor(60135.5625), 1: tensor(-40802.6562), 2: tensor(0.), 3: tensor(14980.4219), 4: tensor(-27191.4688), 5: tensor(0.), 6: tensor(0.), 7: tensor(0.), 8: tensor(0.), 9: tensor(0.), 10: tensor(0.), 11: tensor(0.), 12: tensor(0.), 13: tensor(0.), 14: tensor(0.), 15: tensor(0.), 16: tensor(0.), 17: tensor(0.), 18: tensor(0.), 19: tensor(0.), 20: tensor(0.)}\n",
      "MELO_ At the end of the simulation we get {0: 0, 1: 0, 2: 0, 3: 0, 4: 0, 5: 0, 6: 0, 7: 0, 8: 0, 9: 0, 10: 0, 11: 0, 12: 0, 13: 0, 14: 0, 15: 0, 16: 0, 17: 0, 18: 0, 19: 0, 20: 0}\n",
      "At the end of the simulation we get {0: tensor(60135.5625), 1: tensor(-40802.6562), 2: tensor(0.), 3: tensor(14980.4219), 4: tensor(-27191.4688), 5: tensor(0.), 6: tensor(0.), 7: tensor(0.), 8: tensor(0.), 9: tensor(0.), 10: tensor(0.), 11: tensor(0.), 12: tensor(0.), 13: tensor(0.), 14: tensor(0.), 15: tensor(0.), 16: tensor(0.), 17: tensor(0.), 18: tensor(0.), 19: tensor(0.), 20: tensor(0.)}\n",
      "MELO_ At the end of the simulation we get {0: 0, 1: 0, 2: 0, 3: 0, 4: 0, 5: 0, 6: 0, 7: 0, 8: 0, 9: 0, 10: 0, 11: 0, 12: 0, 13: 0, 14: 0, 15: 0, 16: 0, 17: 0, 18: 0, 19: 0, 20: 0}\n"
     ]
    },
    {
     "name": "stderr",
     "output_type": "stream",
     "text": [
      "2025-03-11 16:21:44,317 - melo_simulator_adapter - INFO - Simulation run completed\n",
      "2025-03-11 16:21:44,317 - melo_simulator_adapter - INFO - Attempting to get end_sim results (new format)...\n",
      "2025-03-11 16:21:44,320 - melo_simulator_adapter - INFO - Got CDA values: {0: tensor(0.), 1: tensor(0.), 2: tensor(339.6016), 3: tensor(1118.6172), 4: tensor(0.), 5: tensor(0.), 6: tensor(0.), 7: tensor(0.), 8: tensor(0.), 9: tensor(0.), 10: tensor(0.), 11: tensor(0.), 12: tensor(0.), 13: tensor(0.), 14: tensor(0.), 15: tensor(0.), 16: tensor(0.), 17: tensor(0.), 18: tensor(0.), 19: tensor(0.), 20: tensor(0.)}\n",
      "2025-03-11 16:21:44,321 - melo_simulator_adapter - INFO - Got MELO profits: {0: 0, 1: 0, 2: 0, 3: 0, 4: 0, 5: 0, 6: 0, 7: 0, 8: 0, 9: 0, 10: 0, 11: 0, 12: 0, 13: 0, 14: 0, 15: 0, 16: 0, 17: 0, 18: 0, 19: 0, 20: 0}\n",
      "2025-03-11 16:21:44,321 - melo_simulator_adapter - INFO - Total agents: 21\n",
      "2025-03-11 16:21:44,322 - melo_simulator_adapter - INFO - Agent strategies: {19: 'MELO_Only', 20: 'CDA_Only'}\n",
      "2025-03-11 16:21:44,322 - melo_simulator_adapter - INFO - Background agent 2 has non-zero profit: CDA=339.60, MELO=0.00, Total=339.60\n",
      "2025-03-11 16:21:44,322 - melo_simulator_adapter - INFO - Background agent 3 has non-zero profit: CDA=1118.62, MELO=0.00, Total=1118.62\n",
      "2025-03-11 16:21:44,323 - melo_simulator_adapter - INFO - Strategy agent 19 (MELO_Only): CDA=0.00, MELO=0.00, Total=0.00\n",
      "2025-03-11 16:21:44,323 - melo_simulator_adapter - INFO - Strategy agent 20 (CDA_Only): CDA=0.00, MELO=0.00, Total=0.00\n",
      "2025-03-11 16:21:44,324 - melo_simulator_adapter - INFO - Strategy payoffs: {'MELO_Only': 0.0, 'CDA_Only': 0.0}\n",
      "2025-03-11 16:21:44,326 - melo_simulator_adapter - INFO - Simulation 5 payoffs: {'MELO_Only': 0.0, 'CDA_Only': 0.0}\n",
      "2025-03-11 16:21:44,327 - melo_simulator_adapter - INFO - Final average payoffs after 5 simulations: {'MELO_Only': 0.0, 'CDA_Only': 0.0}\n"
     ]
    },
    {
     "name": "stdout",
     "output_type": "stream",
     "text": [
      "At the end of the simulation we get {0: tensor(0.), 1: tensor(0.), 2: tensor(339.6016), 3: tensor(1118.6172), 4: tensor(0.), 5: tensor(0.), 6: tensor(0.), 7: tensor(0.), 8: tensor(0.), 9: tensor(0.), 10: tensor(0.), 11: tensor(0.), 12: tensor(0.), 13: tensor(0.), 14: tensor(0.), 15: tensor(0.), 16: tensor(0.), 17: tensor(0.), 18: tensor(0.), 19: tensor(0.), 20: tensor(0.)}\n",
      "MELO_ At the end of the simulation we get {0: 0, 1: 0, 2: 0, 3: 0, 4: 0, 5: 0, 6: 0, 7: 0, 8: 0, 9: 0, 10: 0, 11: 0, 12: 0, 13: 0, 14: 0, 15: 0, 16: 0, 17: 0, 18: 0, 19: 0, 20: 0}\n",
      "At the end of the simulation we get {0: tensor(0.), 1: tensor(0.), 2: tensor(339.6016), 3: tensor(1118.6172), 4: tensor(0.), 5: tensor(0.), 6: tensor(0.), 7: tensor(0.), 8: tensor(0.), 9: tensor(0.), 10: tensor(0.), 11: tensor(0.), 12: tensor(0.), 13: tensor(0.), 14: tensor(0.), 15: tensor(0.), 16: tensor(0.), 17: tensor(0.), 18: tensor(0.), 19: tensor(0.), 20: tensor(0.)}\n",
      "MELO_ At the end of the simulation we get {0: 0, 1: 0, 2: 0, 3: 0, 4: 0, 5: 0, 6: 0, 7: 0, 8: 0, 9: 0, 10: 0, 11: 0, 12: 0, 13: 0, 14: 0, 15: 0, 16: 0, 17: 0, 18: 0, 19: 0, 20: 0}\n",
      "Payoffs for profile {'MELO_Only': 1, 'CDA_Only': 1}: {'MELO_Only': 0.0, 'CDA_Only': 0.0}\n"
     ]
    }
   ],
   "source": [
    "# Test a profile with one agent using MELO_Only and one agent using CDA_Only\n",
    "profile1 = {'MELO_Only': 1, 'CDA_Only': 1}\n",
    "payoffs1 = adapter.simulate_profile(profile1)\n",
    "print(f\"Payoffs for profile {profile1}: {payoffs1}\")"
   ]
  },
  {
   "cell_type": "markdown",
   "metadata": {},
   "source": [
    "### Test 2: Balanced Strategy"
   ]
  },
  {
   "cell_type": "code",
   "execution_count": 24,
   "metadata": {},
   "outputs": [
    {
     "name": "stderr",
     "output_type": "stream",
     "text": [
      "2025-03-11 16:21:44,334 - melo_simulator_adapter - INFO - Simulating profile: {'Balanced': 2} with parameters: {'lam': 0.05, 'mean': 100000.0, 'r': 0.05, 'shock_var': 5000000.0, 'q_max': 10, 'pv_var': 5000000.0, 'shade': [500, 1000]}\n",
      "2025-03-11 16:21:44,356 - melo_simulator_adapter - INFO - Running simulation 1/5...\n",
      "2025-03-11 16:21:44,362 - melo_simulator_adapter - INFO - Simulator has 21 agents\n",
      "2025-03-11 16:21:44,363 - melo_simulator_adapter - INFO - Agent IDs in simulator: [0, 1, 2, 3, 4, 5, 6, 7, 8, 9, 10, 11, 12, 13, 14, 15, 16, 17, 18, 19, 20]\n",
      "2025-03-11 16:21:44,363 - melo_simulator_adapter - INFO - Using agent IDs for strategies: [19, 20]\n",
      "2025-03-11 16:21:44,363 - melo_simulator_adapter - INFO - Starting simulation run...\n",
      "2025-03-11 16:21:44,595 - melo_simulator_adapter - INFO - Simulation run completed\n",
      "2025-03-11 16:21:44,595 - melo_simulator_adapter - INFO - Attempting to get end_sim results (new format)...\n",
      "2025-03-11 16:21:44,598 - melo_simulator_adapter - INFO - Got CDA values: {0: tensor(0.), 1: tensor(0.), 2: tensor(0.), 3: tensor(0.), 4: tensor(0.), 5: tensor(0.), 6: tensor(0.), 7: tensor(0.), 8: tensor(0.), 9: tensor(0.), 10: tensor(0.), 11: tensor(0.), 12: tensor(0.), 13: tensor(0.), 14: tensor(0.), 15: tensor(0.), 16: tensor(0.), 17: tensor(0.), 18: tensor(0.), 19: tensor(0.), 20: tensor(0.)}\n",
      "2025-03-11 16:21:44,599 - melo_simulator_adapter - INFO - Got MELO profits: {0: 0, 1: 0, 2: 0, 3: 0, 4: 0, 5: 0, 6: 0, 7: 0, 8: 0, 9: 0, 10: 0, 11: 0, 12: 0, 13: 0, 14: 0, 15: 0, 16: 0, 17: 0, 18: 0, 19: 0, 20: 0}\n",
      "2025-03-11 16:21:44,599 - melo_simulator_adapter - INFO - Total agents: 21\n",
      "2025-03-11 16:21:44,599 - melo_simulator_adapter - INFO - Agent strategies: {19: 'Balanced', 20: 'Balanced'}\n",
      "2025-03-11 16:21:44,600 - melo_simulator_adapter - INFO - Strategy agent 19 (Balanced): CDA=0.00, MELO=0.00, Total=0.00\n",
      "2025-03-11 16:21:44,600 - melo_simulator_adapter - INFO - Strategy agent 20 (Balanced): CDA=0.00, MELO=0.00, Total=0.00\n",
      "2025-03-11 16:21:44,600 - melo_simulator_adapter - INFO - Strategy payoffs: {'Balanced': 0.0}\n",
      "2025-03-11 16:21:44,600 - melo_simulator_adapter - INFO - Simulation 1 payoffs: {'Balanced': 0.0}\n",
      "2025-03-11 16:21:44,601 - melo_simulator_adapter - INFO - Running simulation 2/5...\n",
      "2025-03-11 16:21:44,603 - melo_simulator_adapter - INFO - Simulator has 21 agents\n",
      "2025-03-11 16:21:44,604 - melo_simulator_adapter - INFO - Agent IDs in simulator: [0, 1, 2, 3, 4, 5, 6, 7, 8, 9, 10, 11, 12, 13, 14, 15, 16, 17, 18, 19, 20]\n",
      "2025-03-11 16:21:44,604 - melo_simulator_adapter - INFO - Using agent IDs for strategies: [19, 20]\n",
      "2025-03-11 16:21:44,605 - melo_simulator_adapter - INFO - Starting simulation run...\n"
     ]
    },
    {
     "name": "stdout",
     "output_type": "stream",
     "text": [
      "At the end of the simulation we get {0: tensor(0.), 1: tensor(0.), 2: tensor(0.), 3: tensor(0.), 4: tensor(0.), 5: tensor(0.), 6: tensor(0.), 7: tensor(0.), 8: tensor(0.), 9: tensor(0.), 10: tensor(0.), 11: tensor(0.), 12: tensor(0.), 13: tensor(0.), 14: tensor(0.), 15: tensor(0.), 16: tensor(0.), 17: tensor(0.), 18: tensor(0.), 19: tensor(0.), 20: tensor(0.)}\n",
      "MELO_ At the end of the simulation we get {0: 0, 1: 0, 2: 0, 3: 0, 4: 0, 5: 0, 6: 0, 7: 0, 8: 0, 9: 0, 10: 0, 11: 0, 12: 0, 13: 0, 14: 0, 15: 0, 16: 0, 17: 0, 18: 0, 19: 0, 20: 0}\n",
      "At the end of the simulation we get {0: tensor(0.), 1: tensor(0.), 2: tensor(0.), 3: tensor(0.), 4: tensor(0.), 5: tensor(0.), 6: tensor(0.), 7: tensor(0.), 8: tensor(0.), 9: tensor(0.), 10: tensor(0.), 11: tensor(0.), 12: tensor(0.), 13: tensor(0.), 14: tensor(0.), 15: tensor(0.), 16: tensor(0.), 17: tensor(0.), 18: tensor(0.), 19: tensor(0.), 20: tensor(0.)}\n",
      "MELO_ At the end of the simulation we get {0: 0, 1: 0, 2: 0, 3: 0, 4: 0, 5: 0, 6: 0, 7: 0, 8: 0, 9: 0, 10: 0, 11: 0, 12: 0, 13: 0, 14: 0, 15: 0, 16: 0, 17: 0, 18: 0, 19: 0, 20: 0}\n"
     ]
    },
    {
     "name": "stderr",
     "output_type": "stream",
     "text": [
      "2025-03-11 16:21:44,859 - melo_simulator_adapter - INFO - Simulation run completed\n",
      "2025-03-11 16:21:44,859 - melo_simulator_adapter - INFO - Attempting to get end_sim results (new format)...\n",
      "2025-03-11 16:21:44,862 - melo_simulator_adapter - INFO - Got CDA values: {0: tensor(0.), 1: tensor(6024.2734), 2: tensor(-5605.0312), 3: tensor(6919.5234), 4: tensor(-6795.7422), 5: tensor(0.), 6: tensor(0.), 7: tensor(0.), 8: tensor(0.), 9: tensor(0.), 10: tensor(0.), 11: tensor(0.), 12: tensor(0.), 13: tensor(0.), 14: tensor(0.), 15: tensor(0.), 16: tensor(0.), 17: tensor(0.), 18: tensor(0.), 19: tensor(0.), 20: tensor(0.)}\n",
      "2025-03-11 16:21:44,862 - melo_simulator_adapter - INFO - Got MELO profits: {0: 0, 1: 0, 2: 0, 3: 0, 4: 0, 5: 0, 6: 0, 7: 0, 8: 0, 9: 0, 10: 0, 11: 0, 12: 0, 13: 0, 14: 0, 15: 0, 16: 0, 17: 0, 18: 0, 19: 0, 20: 0}\n",
      "2025-03-11 16:21:44,862 - melo_simulator_adapter - INFO - Total agents: 21\n",
      "2025-03-11 16:21:44,862 - melo_simulator_adapter - INFO - Agent strategies: {19: 'Balanced', 20: 'Balanced'}\n",
      "2025-03-11 16:21:44,862 - melo_simulator_adapter - INFO - Background agent 1 has non-zero profit: CDA=6024.27, MELO=0.00, Total=6024.27\n",
      "2025-03-11 16:21:44,863 - melo_simulator_adapter - INFO - Background agent 2 has non-zero profit: CDA=-5605.03, MELO=0.00, Total=-5605.03\n",
      "2025-03-11 16:21:44,863 - melo_simulator_adapter - INFO - Background agent 3 has non-zero profit: CDA=6919.52, MELO=0.00, Total=6919.52\n",
      "2025-03-11 16:21:44,863 - melo_simulator_adapter - INFO - Background agent 4 has non-zero profit: CDA=-6795.74, MELO=0.00, Total=-6795.74\n",
      "2025-03-11 16:21:44,863 - melo_simulator_adapter - INFO - Strategy agent 19 (Balanced): CDA=0.00, MELO=0.00, Total=0.00\n",
      "2025-03-11 16:21:44,863 - melo_simulator_adapter - INFO - Strategy agent 20 (Balanced): CDA=0.00, MELO=0.00, Total=0.00\n",
      "2025-03-11 16:21:44,864 - melo_simulator_adapter - INFO - Strategy payoffs: {'Balanced': 0.0}\n",
      "2025-03-11 16:21:44,864 - melo_simulator_adapter - INFO - Simulation 2 payoffs: {'Balanced': 0.0}\n",
      "2025-03-11 16:21:44,864 - melo_simulator_adapter - INFO - Running simulation 3/5...\n",
      "2025-03-11 16:21:44,868 - melo_simulator_adapter - INFO - Simulator has 21 agents\n",
      "2025-03-11 16:21:44,868 - melo_simulator_adapter - INFO - Agent IDs in simulator: [0, 1, 2, 3, 4, 5, 6, 7, 8, 9, 10, 11, 12, 13, 14, 15, 16, 17, 18, 19, 20]\n",
      "2025-03-11 16:21:44,869 - melo_simulator_adapter - INFO - Using agent IDs for strategies: [19, 20]\n",
      "2025-03-11 16:21:44,870 - melo_simulator_adapter - INFO - Starting simulation run...\n"
     ]
    },
    {
     "name": "stdout",
     "output_type": "stream",
     "text": [
      "At the end of the simulation we get {0: tensor(0.), 1: tensor(6024.2734), 2: tensor(-5605.0312), 3: tensor(6919.5234), 4: tensor(-6795.7422), 5: tensor(0.), 6: tensor(0.), 7: tensor(0.), 8: tensor(0.), 9: tensor(0.), 10: tensor(0.), 11: tensor(0.), 12: tensor(0.), 13: tensor(0.), 14: tensor(0.), 15: tensor(0.), 16: tensor(0.), 17: tensor(0.), 18: tensor(0.), 19: tensor(0.), 20: tensor(0.)}\n",
      "MELO_ At the end of the simulation we get {0: 0, 1: 0, 2: 0, 3: 0, 4: 0, 5: 0, 6: 0, 7: 0, 8: 0, 9: 0, 10: 0, 11: 0, 12: 0, 13: 0, 14: 0, 15: 0, 16: 0, 17: 0, 18: 0, 19: 0, 20: 0}\n",
      "At the end of the simulation we get {0: tensor(0.), 1: tensor(6024.2734), 2: tensor(-5605.0312), 3: tensor(6919.5234), 4: tensor(-6795.7422), 5: tensor(0.), 6: tensor(0.), 7: tensor(0.), 8: tensor(0.), 9: tensor(0.), 10: tensor(0.), 11: tensor(0.), 12: tensor(0.), 13: tensor(0.), 14: tensor(0.), 15: tensor(0.), 16: tensor(0.), 17: tensor(0.), 18: tensor(0.), 19: tensor(0.), 20: tensor(0.)}\n",
      "MELO_ At the end of the simulation we get {0: 0, 1: 0, 2: 0, 3: 0, 4: 0, 5: 0, 6: 0, 7: 0, 8: 0, 9: 0, 10: 0, 11: 0, 12: 0, 13: 0, 14: 0, 15: 0, 16: 0, 17: 0, 18: 0, 19: 0, 20: 0}\n"
     ]
    },
    {
     "name": "stderr",
     "output_type": "stream",
     "text": [
      "2025-03-11 16:21:45,069 - melo_simulator_adapter - INFO - Simulation run completed\n",
      "2025-03-11 16:21:45,069 - melo_simulator_adapter - INFO - Attempting to get end_sim results (new format)...\n",
      "2025-03-11 16:21:45,072 - melo_simulator_adapter - INFO - Got CDA values: {0: tensor(-291.5391), 1: tensor(0.), 2: tensor(0.), 3: tensor(0.), 4: tensor(-392.6328), 5: tensor(0.), 6: tensor(0.), 7: tensor(0.), 8: tensor(0.), 9: tensor(0.), 10: tensor(0.), 11: tensor(0.), 12: tensor(0.), 13: tensor(0.), 14: tensor(0.), 15: tensor(0.), 16: tensor(0.), 17: tensor(0.), 18: tensor(0.), 19: tensor(0.), 20: tensor(0.)}\n",
      "2025-03-11 16:21:45,072 - melo_simulator_adapter - INFO - Got MELO profits: {0: 0, 1: 0, 2: 0, 3: 0, 4: 0, 5: 0, 6: 0, 7: 0, 8: 0, 9: 0, 10: 0, 11: 0, 12: 0, 13: 0, 14: 0, 15: 0, 16: 0, 17: 0, 18: 0, 19: 0, 20: 0}\n",
      "2025-03-11 16:21:45,072 - melo_simulator_adapter - INFO - Total agents: 21\n",
      "2025-03-11 16:21:45,072 - melo_simulator_adapter - INFO - Agent strategies: {19: 'Balanced', 20: 'Balanced'}\n",
      "2025-03-11 16:21:45,072 - melo_simulator_adapter - INFO - Background agent 0 has non-zero profit: CDA=-291.54, MELO=0.00, Total=-291.54\n",
      "2025-03-11 16:21:45,073 - melo_simulator_adapter - INFO - Background agent 4 has non-zero profit: CDA=-392.63, MELO=0.00, Total=-392.63\n",
      "2025-03-11 16:21:45,073 - melo_simulator_adapter - INFO - Strategy agent 19 (Balanced): CDA=0.00, MELO=0.00, Total=0.00\n",
      "2025-03-11 16:21:45,073 - melo_simulator_adapter - INFO - Strategy agent 20 (Balanced): CDA=0.00, MELO=0.00, Total=0.00\n",
      "2025-03-11 16:21:45,073 - melo_simulator_adapter - INFO - Strategy payoffs: {'Balanced': 0.0}\n",
      "2025-03-11 16:21:45,074 - melo_simulator_adapter - INFO - Simulation 3 payoffs: {'Balanced': 0.0}\n",
      "2025-03-11 16:21:45,074 - melo_simulator_adapter - INFO - Running simulation 4/5...\n",
      "2025-03-11 16:21:45,078 - melo_simulator_adapter - INFO - Simulator has 21 agents\n",
      "2025-03-11 16:21:45,079 - melo_simulator_adapter - INFO - Agent IDs in simulator: [0, 1, 2, 3, 4, 5, 6, 7, 8, 9, 10, 11, 12, 13, 14, 15, 16, 17, 18, 19, 20]\n",
      "2025-03-11 16:21:45,079 - melo_simulator_adapter - INFO - Using agent IDs for strategies: [19, 20]\n",
      "2025-03-11 16:21:45,080 - melo_simulator_adapter - INFO - Starting simulation run...\n"
     ]
    },
    {
     "name": "stdout",
     "output_type": "stream",
     "text": [
      "At the end of the simulation we get {0: tensor(-291.5391), 1: tensor(0.), 2: tensor(0.), 3: tensor(0.), 4: tensor(-392.6328), 5: tensor(0.), 6: tensor(0.), 7: tensor(0.), 8: tensor(0.), 9: tensor(0.), 10: tensor(0.), 11: tensor(0.), 12: tensor(0.), 13: tensor(0.), 14: tensor(0.), 15: tensor(0.), 16: tensor(0.), 17: tensor(0.), 18: tensor(0.), 19: tensor(0.), 20: tensor(0.)}\n",
      "MELO_ At the end of the simulation we get {0: 0, 1: 0, 2: 0, 3: 0, 4: 0, 5: 0, 6: 0, 7: 0, 8: 0, 9: 0, 10: 0, 11: 0, 12: 0, 13: 0, 14: 0, 15: 0, 16: 0, 17: 0, 18: 0, 19: 0, 20: 0}\n",
      "At the end of the simulation we get {0: tensor(-291.5391), 1: tensor(0.), 2: tensor(0.), 3: tensor(0.), 4: tensor(-392.6328), 5: tensor(0.), 6: tensor(0.), 7: tensor(0.), 8: tensor(0.), 9: tensor(0.), 10: tensor(0.), 11: tensor(0.), 12: tensor(0.), 13: tensor(0.), 14: tensor(0.), 15: tensor(0.), 16: tensor(0.), 17: tensor(0.), 18: tensor(0.), 19: tensor(0.), 20: tensor(0.)}\n",
      "MELO_ At the end of the simulation we get {0: 0, 1: 0, 2: 0, 3: 0, 4: 0, 5: 0, 6: 0, 7: 0, 8: 0, 9: 0, 10: 0, 11: 0, 12: 0, 13: 0, 14: 0, 15: 0, 16: 0, 17: 0, 18: 0, 19: 0, 20: 0}\n"
     ]
    },
    {
     "name": "stderr",
     "output_type": "stream",
     "text": [
      "2025-03-11 16:21:45,291 - melo_simulator_adapter - INFO - Simulation run completed\n",
      "2025-03-11 16:21:45,291 - melo_simulator_adapter - INFO - Attempting to get end_sim results (new format)...\n",
      "2025-03-11 16:21:45,295 - melo_simulator_adapter - INFO - Got CDA values: {0: tensor(1850.0234), 1: tensor(-3150.5938), 2: tensor(13637.1562), 3: tensor(-2432.9272), 4: tensor(-6280.3125), 5: tensor(0.), 6: tensor(0.), 7: tensor(0.), 8: tensor(0.), 9: tensor(0.), 10: tensor(0.), 11: tensor(0.), 12: tensor(0.), 13: tensor(0.), 14: tensor(0.), 15: tensor(0.), 16: tensor(0.), 17: tensor(0.), 18: tensor(0.), 19: tensor(0.), 20: tensor(0.)}\n",
      "2025-03-11 16:21:45,295 - melo_simulator_adapter - INFO - Got MELO profits: {0: 0, 1: 0, 2: 0, 3: 0, 4: 0, 5: 0, 6: 0, 7: 0, 8: 0, 9: 0, 10: 0, 11: 0, 12: 0, 13: 0, 14: 0, 15: 0, 16: 0, 17: 0, 18: 0, 19: 0, 20: 0}\n",
      "2025-03-11 16:21:45,295 - melo_simulator_adapter - INFO - Total agents: 21\n",
      "2025-03-11 16:21:45,295 - melo_simulator_adapter - INFO - Agent strategies: {19: 'Balanced', 20: 'Balanced'}\n",
      "2025-03-11 16:21:45,295 - melo_simulator_adapter - INFO - Background agent 0 has non-zero profit: CDA=1850.02, MELO=0.00, Total=1850.02\n",
      "2025-03-11 16:21:45,296 - melo_simulator_adapter - INFO - Background agent 1 has non-zero profit: CDA=-3150.59, MELO=0.00, Total=-3150.59\n",
      "2025-03-11 16:21:45,296 - melo_simulator_adapter - INFO - Background agent 2 has non-zero profit: CDA=13637.16, MELO=0.00, Total=13637.16\n",
      "2025-03-11 16:21:45,296 - melo_simulator_adapter - INFO - Background agent 3 has non-zero profit: CDA=-2432.93, MELO=0.00, Total=-2432.93\n",
      "2025-03-11 16:21:45,296 - melo_simulator_adapter - INFO - Background agent 4 has non-zero profit: CDA=-6280.31, MELO=0.00, Total=-6280.31\n",
      "2025-03-11 16:21:45,296 - melo_simulator_adapter - INFO - Strategy agent 19 (Balanced): CDA=0.00, MELO=0.00, Total=0.00\n",
      "2025-03-11 16:21:45,297 - melo_simulator_adapter - INFO - Strategy agent 20 (Balanced): CDA=0.00, MELO=0.00, Total=0.00\n",
      "2025-03-11 16:21:45,297 - melo_simulator_adapter - INFO - Strategy payoffs: {'Balanced': 0.0}\n",
      "2025-03-11 16:21:45,297 - melo_simulator_adapter - INFO - Simulation 4 payoffs: {'Balanced': 0.0}\n",
      "2025-03-11 16:21:45,297 - melo_simulator_adapter - INFO - Running simulation 5/5...\n",
      "2025-03-11 16:21:45,303 - melo_simulator_adapter - INFO - Simulator has 21 agents\n",
      "2025-03-11 16:21:45,303 - melo_simulator_adapter - INFO - Agent IDs in simulator: [0, 1, 2, 3, 4, 5, 6, 7, 8, 9, 10, 11, 12, 13, 14, 15, 16, 17, 18, 19, 20]\n",
      "2025-03-11 16:21:45,303 - melo_simulator_adapter - INFO - Using agent IDs for strategies: [19, 20]\n",
      "2025-03-11 16:21:45,305 - melo_simulator_adapter - INFO - Starting simulation run...\n"
     ]
    },
    {
     "name": "stdout",
     "output_type": "stream",
     "text": [
      "At the end of the simulation we get {0: tensor(1850.0234), 1: tensor(-3150.5938), 2: tensor(13637.1562), 3: tensor(-2432.9272), 4: tensor(-6280.3125), 5: tensor(0.), 6: tensor(0.), 7: tensor(0.), 8: tensor(0.), 9: tensor(0.), 10: tensor(0.), 11: tensor(0.), 12: tensor(0.), 13: tensor(0.), 14: tensor(0.), 15: tensor(0.), 16: tensor(0.), 17: tensor(0.), 18: tensor(0.), 19: tensor(0.), 20: tensor(0.)}\n",
      "MELO_ At the end of the simulation we get {0: 0, 1: 0, 2: 0, 3: 0, 4: 0, 5: 0, 6: 0, 7: 0, 8: 0, 9: 0, 10: 0, 11: 0, 12: 0, 13: 0, 14: 0, 15: 0, 16: 0, 17: 0, 18: 0, 19: 0, 20: 0}\n",
      "At the end of the simulation we get {0: tensor(1850.0234), 1: tensor(-3150.5938), 2: tensor(13637.1562), 3: tensor(-2432.9272), 4: tensor(-6280.3125), 5: tensor(0.), 6: tensor(0.), 7: tensor(0.), 8: tensor(0.), 9: tensor(0.), 10: tensor(0.), 11: tensor(0.), 12: tensor(0.), 13: tensor(0.), 14: tensor(0.), 15: tensor(0.), 16: tensor(0.), 17: tensor(0.), 18: tensor(0.), 19: tensor(0.), 20: tensor(0.)}\n",
      "MELO_ At the end of the simulation we get {0: 0, 1: 0, 2: 0, 3: 0, 4: 0, 5: 0, 6: 0, 7: 0, 8: 0, 9: 0, 10: 0, 11: 0, 12: 0, 13: 0, 14: 0, 15: 0, 16: 0, 17: 0, 18: 0, 19: 0, 20: 0}\n"
     ]
    },
    {
     "name": "stderr",
     "output_type": "stream",
     "text": [
      "2025-03-11 16:21:45,518 - melo_simulator_adapter - INFO - Simulation run completed\n",
      "2025-03-11 16:21:45,519 - melo_simulator_adapter - INFO - Attempting to get end_sim results (new format)...\n",
      "2025-03-11 16:21:45,521 - melo_simulator_adapter - INFO - Got CDA values: {0: tensor(100584.8438), 1: tensor(-17844.0625), 2: tensor(-20102.5625), 3: tensor(-313.2003), 4: tensor(-56730.4688), 5: tensor(0.), 6: tensor(0.), 7: tensor(0.), 8: tensor(0.), 9: tensor(0.), 10: tensor(0.), 11: tensor(0.), 12: tensor(0.), 13: tensor(0.), 14: tensor(0.), 15: tensor(0.), 16: tensor(0.), 17: tensor(0.), 18: tensor(0.), 19: tensor(0.), 20: tensor(0.)}\n",
      "2025-03-11 16:21:45,522 - melo_simulator_adapter - INFO - Got MELO profits: {0: 0, 1: 0, 2: 0, 3: 0, 4: 0, 5: 0, 6: 0, 7: 0, 8: 0, 9: 0, 10: 0, 11: 0, 12: 0, 13: 0, 14: 0, 15: 0, 16: 0, 17: 0, 18: 0, 19: 0, 20: 0}\n",
      "2025-03-11 16:21:45,522 - melo_simulator_adapter - INFO - Total agents: 21\n",
      "2025-03-11 16:21:45,522 - melo_simulator_adapter - INFO - Agent strategies: {19: 'Balanced', 20: 'Balanced'}\n",
      "2025-03-11 16:21:45,522 - melo_simulator_adapter - INFO - Background agent 0 has non-zero profit: CDA=100584.84, MELO=0.00, Total=100584.84\n",
      "2025-03-11 16:21:45,522 - melo_simulator_adapter - INFO - Background agent 1 has non-zero profit: CDA=-17844.06, MELO=0.00, Total=-17844.06\n",
      "2025-03-11 16:21:45,522 - melo_simulator_adapter - INFO - Background agent 2 has non-zero profit: CDA=-20102.56, MELO=0.00, Total=-20102.56\n",
      "2025-03-11 16:21:45,523 - melo_simulator_adapter - INFO - Background agent 3 has non-zero profit: CDA=-313.20, MELO=0.00, Total=-313.20\n",
      "2025-03-11 16:21:45,523 - melo_simulator_adapter - INFO - Background agent 4 has non-zero profit: CDA=-56730.47, MELO=0.00, Total=-56730.47\n",
      "2025-03-11 16:21:45,523 - melo_simulator_adapter - INFO - Strategy agent 19 (Balanced): CDA=0.00, MELO=0.00, Total=0.00\n",
      "2025-03-11 16:21:45,523 - melo_simulator_adapter - INFO - Strategy agent 20 (Balanced): CDA=0.00, MELO=0.00, Total=0.00\n",
      "2025-03-11 16:21:45,524 - melo_simulator_adapter - INFO - Strategy payoffs: {'Balanced': 0.0}\n",
      "2025-03-11 16:21:45,524 - melo_simulator_adapter - INFO - Simulation 5 payoffs: {'Balanced': 0.0}\n",
      "2025-03-11 16:21:45,524 - melo_simulator_adapter - INFO - Final average payoffs after 5 simulations: {'Balanced': 0.0}\n"
     ]
    },
    {
     "name": "stdout",
     "output_type": "stream",
     "text": [
      "At the end of the simulation we get {0: tensor(100584.8438), 1: tensor(-17844.0625), 2: tensor(-20102.5625), 3: tensor(-313.2003), 4: tensor(-56730.4688), 5: tensor(0.), 6: tensor(0.), 7: tensor(0.), 8: tensor(0.), 9: tensor(0.), 10: tensor(0.), 11: tensor(0.), 12: tensor(0.), 13: tensor(0.), 14: tensor(0.), 15: tensor(0.), 16: tensor(0.), 17: tensor(0.), 18: tensor(0.), 19: tensor(0.), 20: tensor(0.)}\n",
      "MELO_ At the end of the simulation we get {0: 0, 1: 0, 2: 0, 3: 0, 4: 0, 5: 0, 6: 0, 7: 0, 8: 0, 9: 0, 10: 0, 11: 0, 12: 0, 13: 0, 14: 0, 15: 0, 16: 0, 17: 0, 18: 0, 19: 0, 20: 0}\n",
      "At the end of the simulation we get {0: tensor(100584.8438), 1: tensor(-17844.0625), 2: tensor(-20102.5625), 3: tensor(-313.2003), 4: tensor(-56730.4688), 5: tensor(0.), 6: tensor(0.), 7: tensor(0.), 8: tensor(0.), 9: tensor(0.), 10: tensor(0.), 11: tensor(0.), 12: tensor(0.), 13: tensor(0.), 14: tensor(0.), 15: tensor(0.), 16: tensor(0.), 17: tensor(0.), 18: tensor(0.), 19: tensor(0.), 20: tensor(0.)}\n",
      "MELO_ At the end of the simulation we get {0: 0, 1: 0, 2: 0, 3: 0, 4: 0, 5: 0, 6: 0, 7: 0, 8: 0, 9: 0, 10: 0, 11: 0, 12: 0, 13: 0, 14: 0, 15: 0, 16: 0, 17: 0, 18: 0, 19: 0, 20: 0}\n",
      "Payoffs for profile {'Balanced': 2}: {'Balanced': 0.0}\n"
     ]
    }
   ],
   "source": [
    "# Test a profile with two agents using the Balanced strategy\n",
    "profile2 = {'Balanced': 2}\n",
    "payoffs2 = adapter.simulate_profile(profile2)\n",
    "print(f\"Payoffs for profile {profile2}: {payoffs2}\")"
   ]
  },
  {
   "cell_type": "markdown",
   "metadata": {},
   "source": [
    "### Test 3: Multiple Strategies"
   ]
  },
  {
   "cell_type": "code",
   "execution_count": 25,
   "metadata": {},
   "outputs": [
    {
     "name": "stderr",
     "output_type": "stream",
     "text": [
      "2025-03-11 16:21:45,530 - melo_simulator_adapter - INFO - Simulating profile: {'MELO_Only': 1, 'CDA_Only': 1, 'Balanced': 1, 'MELO_Biased': 1, 'CDA_Biased': 1} with parameters: {'lam': 0.05, 'mean': 100000.0, 'r': 0.05, 'shock_var': 5000000.0, 'q_max': 10, 'pv_var': 5000000.0, 'shade': [500, 1000]}\n",
      "2025-03-11 16:21:45,530 - melo_simulator_adapter - INFO - Running simulation 1/5...\n",
      "2025-03-11 16:21:45,534 - melo_simulator_adapter - INFO - Simulator has 21 agents\n",
      "2025-03-11 16:21:45,534 - melo_simulator_adapter - INFO - Agent IDs in simulator: [0, 1, 2, 3, 4, 5, 6, 7, 8, 9, 10, 11, 12, 13, 14, 15, 16, 17, 18, 19, 20]\n",
      "2025-03-11 16:21:45,534 - melo_simulator_adapter - INFO - Using agent IDs for strategies: [16, 17, 18, 19, 20]\n",
      "2025-03-11 16:21:45,534 - melo_simulator_adapter - INFO - Starting simulation run...\n",
      "2025-03-11 16:21:45,790 - melo_simulator_adapter - INFO - Simulation run completed\n",
      "2025-03-11 16:21:45,791 - melo_simulator_adapter - INFO - Attempting to get end_sim results (new format)...\n",
      "2025-03-11 16:21:45,793 - melo_simulator_adapter - INFO - Got CDA values: {0: tensor(2628.5312), 1: tensor(2151.3125), 2: tensor(1781.0078), 3: tensor(386.9297), 4: tensor(-1739.0598), 5: tensor(0.), 6: tensor(0.), 7: tensor(0.), 8: tensor(0.), 9: tensor(0.), 10: tensor(0.), 11: tensor(0.), 12: tensor(0.), 13: tensor(0.), 14: tensor(0.), 15: tensor(0.), 16: tensor(0.), 17: tensor(0.), 18: tensor(0.), 19: tensor(0.), 20: tensor(0.)}\n",
      "2025-03-11 16:21:45,794 - melo_simulator_adapter - INFO - Got MELO profits: {0: 0, 1: 0, 2: 0, 3: 0, 4: 0, 5: 0, 6: 0, 7: 0, 8: 0, 9: 0, 10: 0, 11: 0, 12: 0, 13: 0, 14: 0, 15: 0, 16: 0, 17: 0, 18: 0, 19: 0, 20: 0}\n",
      "2025-03-11 16:21:45,794 - melo_simulator_adapter - INFO - Total agents: 21\n",
      "2025-03-11 16:21:45,794 - melo_simulator_adapter - INFO - Agent strategies: {16: 'MELO_Only', 17: 'CDA_Only', 18: 'Balanced', 19: 'MELO_Biased', 20: 'CDA_Biased'}\n",
      "2025-03-11 16:21:45,794 - melo_simulator_adapter - INFO - Background agent 0 has non-zero profit: CDA=2628.53, MELO=0.00, Total=2628.53\n",
      "2025-03-11 16:21:45,795 - melo_simulator_adapter - INFO - Background agent 1 has non-zero profit: CDA=2151.31, MELO=0.00, Total=2151.31\n",
      "2025-03-11 16:21:45,795 - melo_simulator_adapter - INFO - Background agent 2 has non-zero profit: CDA=1781.01, MELO=0.00, Total=1781.01\n",
      "2025-03-11 16:21:45,795 - melo_simulator_adapter - INFO - Background agent 3 has non-zero profit: CDA=386.93, MELO=0.00, Total=386.93\n",
      "2025-03-11 16:21:45,795 - melo_simulator_adapter - INFO - Background agent 4 has non-zero profit: CDA=-1739.06, MELO=0.00, Total=-1739.06\n",
      "2025-03-11 16:21:45,796 - melo_simulator_adapter - INFO - Strategy agent 16 (MELO_Only): CDA=0.00, MELO=0.00, Total=0.00\n",
      "2025-03-11 16:21:45,796 - melo_simulator_adapter - INFO - Strategy agent 17 (CDA_Only): CDA=0.00, MELO=0.00, Total=0.00\n",
      "2025-03-11 16:21:45,796 - melo_simulator_adapter - INFO - Strategy agent 18 (Balanced): CDA=0.00, MELO=0.00, Total=0.00\n",
      "2025-03-11 16:21:45,796 - melo_simulator_adapter - INFO - Strategy agent 19 (MELO_Biased): CDA=0.00, MELO=0.00, Total=0.00\n",
      "2025-03-11 16:21:45,797 - melo_simulator_adapter - INFO - Strategy agent 20 (CDA_Biased): CDA=0.00, MELO=0.00, Total=0.00\n",
      "2025-03-11 16:21:45,797 - melo_simulator_adapter - INFO - Strategy payoffs: {'MELO_Only': 0.0, 'CDA_Only': 0.0, 'Balanced': 0.0, 'MELO_Biased': 0.0, 'CDA_Biased': 0.0}\n",
      "2025-03-11 16:21:45,797 - melo_simulator_adapter - INFO - Simulation 1 payoffs: {'MELO_Only': 0.0, 'CDA_Only': 0.0, 'Balanced': 0.0, 'MELO_Biased': 0.0, 'CDA_Biased': 0.0}\n",
      "2025-03-11 16:21:45,798 - melo_simulator_adapter - INFO - Running simulation 2/5...\n",
      "2025-03-11 16:21:45,803 - melo_simulator_adapter - INFO - Simulator has 21 agents\n",
      "2025-03-11 16:21:45,803 - melo_simulator_adapter - INFO - Agent IDs in simulator: [0, 1, 2, 3, 4, 5, 6, 7, 8, 9, 10, 11, 12, 13, 14, 15, 16, 17, 18, 19, 20]\n",
      "2025-03-11 16:21:45,803 - melo_simulator_adapter - INFO - Using agent IDs for strategies: [16, 17, 18, 19, 20]\n",
      "2025-03-11 16:21:45,805 - melo_simulator_adapter - INFO - Starting simulation run...\n"
     ]
    },
    {
     "name": "stdout",
     "output_type": "stream",
     "text": [
      "At the end of the simulation we get {0: tensor(2628.5312), 1: tensor(2151.3125), 2: tensor(1781.0078), 3: tensor(386.9297), 4: tensor(-1739.0598), 5: tensor(0.), 6: tensor(0.), 7: tensor(0.), 8: tensor(0.), 9: tensor(0.), 10: tensor(0.), 11: tensor(0.), 12: tensor(0.), 13: tensor(0.), 14: tensor(0.), 15: tensor(0.), 16: tensor(0.), 17: tensor(0.), 18: tensor(0.), 19: tensor(0.), 20: tensor(0.)}\n",
      "MELO_ At the end of the simulation we get {0: 0, 1: 0, 2: 0, 3: 0, 4: 0, 5: 0, 6: 0, 7: 0, 8: 0, 9: 0, 10: 0, 11: 0, 12: 0, 13: 0, 14: 0, 15: 0, 16: 0, 17: 0, 18: 0, 19: 0, 20: 0}\n",
      "At the end of the simulation we get {0: tensor(2628.5312), 1: tensor(2151.3125), 2: tensor(1781.0078), 3: tensor(386.9297), 4: tensor(-1739.0598), 5: tensor(0.), 6: tensor(0.), 7: tensor(0.), 8: tensor(0.), 9: tensor(0.), 10: tensor(0.), 11: tensor(0.), 12: tensor(0.), 13: tensor(0.), 14: tensor(0.), 15: tensor(0.), 16: tensor(0.), 17: tensor(0.), 18: tensor(0.), 19: tensor(0.), 20: tensor(0.)}\n",
      "MELO_ At the end of the simulation we get {0: 0, 1: 0, 2: 0, 3: 0, 4: 0, 5: 0, 6: 0, 7: 0, 8: 0, 9: 0, 10: 0, 11: 0, 12: 0, 13: 0, 14: 0, 15: 0, 16: 0, 17: 0, 18: 0, 19: 0, 20: 0}\n"
     ]
    },
    {
     "name": "stderr",
     "output_type": "stream",
     "text": [
      "2025-03-11 16:21:46,012 - melo_simulator_adapter - INFO - Simulation run completed\n",
      "2025-03-11 16:21:46,012 - melo_simulator_adapter - INFO - Attempting to get end_sim results (new format)...\n",
      "2025-03-11 16:21:46,015 - melo_simulator_adapter - INFO - Got CDA values: {0: tensor(1233.5746), 1: tensor(12132.4844), 2: tensor(-12860.8203), 3: tensor(-10491.0156), 4: tensor(10004.3906), 5: tensor(0.), 6: tensor(0.), 7: tensor(0.), 8: tensor(0.), 9: tensor(0.), 10: tensor(0.), 11: tensor(0.), 12: tensor(0.), 13: tensor(0.), 14: tensor(0.), 15: tensor(0.), 16: tensor(0.), 17: tensor(0.), 18: tensor(0.), 19: tensor(0.), 20: tensor(0.)}\n",
      "2025-03-11 16:21:46,015 - melo_simulator_adapter - INFO - Got MELO profits: {0: 0, 1: 0, 2: 0, 3: 0, 4: 0, 5: 0, 6: 0, 7: 0, 8: 0, 9: 0, 10: 0, 11: 0, 12: 0, 13: 0, 14: 0, 15: 0, 16: 0, 17: 0, 18: 0, 19: 0, 20: 0}\n",
      "2025-03-11 16:21:46,015 - melo_simulator_adapter - INFO - Total agents: 21\n",
      "2025-03-11 16:21:46,016 - melo_simulator_adapter - INFO - Agent strategies: {16: 'MELO_Only', 17: 'CDA_Only', 18: 'Balanced', 19: 'MELO_Biased', 20: 'CDA_Biased'}\n",
      "2025-03-11 16:21:46,016 - melo_simulator_adapter - INFO - Background agent 0 has non-zero profit: CDA=1233.57, MELO=0.00, Total=1233.57\n",
      "2025-03-11 16:21:46,016 - melo_simulator_adapter - INFO - Background agent 1 has non-zero profit: CDA=12132.48, MELO=0.00, Total=12132.48\n",
      "2025-03-11 16:21:46,016 - melo_simulator_adapter - INFO - Background agent 2 has non-zero profit: CDA=-12860.82, MELO=0.00, Total=-12860.82\n",
      "2025-03-11 16:21:46,017 - melo_simulator_adapter - INFO - Background agent 3 has non-zero profit: CDA=-10491.02, MELO=0.00, Total=-10491.02\n",
      "2025-03-11 16:21:46,017 - melo_simulator_adapter - INFO - Background agent 4 has non-zero profit: CDA=10004.39, MELO=0.00, Total=10004.39\n",
      "2025-03-11 16:21:46,017 - melo_simulator_adapter - INFO - Strategy agent 16 (MELO_Only): CDA=0.00, MELO=0.00, Total=0.00\n",
      "2025-03-11 16:21:46,017 - melo_simulator_adapter - INFO - Strategy agent 17 (CDA_Only): CDA=0.00, MELO=0.00, Total=0.00\n",
      "2025-03-11 16:21:46,017 - melo_simulator_adapter - INFO - Strategy agent 18 (Balanced): CDA=0.00, MELO=0.00, Total=0.00\n",
      "2025-03-11 16:21:46,018 - melo_simulator_adapter - INFO - Strategy agent 19 (MELO_Biased): CDA=0.00, MELO=0.00, Total=0.00\n",
      "2025-03-11 16:21:46,018 - melo_simulator_adapter - INFO - Strategy agent 20 (CDA_Biased): CDA=0.00, MELO=0.00, Total=0.00\n",
      "2025-03-11 16:21:46,018 - melo_simulator_adapter - INFO - Strategy payoffs: {'MELO_Only': 0.0, 'CDA_Only': 0.0, 'Balanced': 0.0, 'MELO_Biased': 0.0, 'CDA_Biased': 0.0}\n",
      "2025-03-11 16:21:46,018 - melo_simulator_adapter - INFO - Simulation 2 payoffs: {'MELO_Only': 0.0, 'CDA_Only': 0.0, 'Balanced': 0.0, 'MELO_Biased': 0.0, 'CDA_Biased': 0.0}\n",
      "2025-03-11 16:21:46,019 - melo_simulator_adapter - INFO - Running simulation 3/5...\n",
      "2025-03-11 16:21:46,023 - melo_simulator_adapter - INFO - Simulator has 21 agents\n",
      "2025-03-11 16:21:46,023 - melo_simulator_adapter - INFO - Agent IDs in simulator: [0, 1, 2, 3, 4, 5, 6, 7, 8, 9, 10, 11, 12, 13, 14, 15, 16, 17, 18, 19, 20]\n",
      "2025-03-11 16:21:46,023 - melo_simulator_adapter - INFO - Using agent IDs for strategies: [16, 17, 18, 19, 20]\n",
      "2025-03-11 16:21:46,025 - melo_simulator_adapter - INFO - Starting simulation run...\n"
     ]
    },
    {
     "name": "stdout",
     "output_type": "stream",
     "text": [
      "At the end of the simulation we get {0: tensor(1233.5746), 1: tensor(12132.4844), 2: tensor(-12860.8203), 3: tensor(-10491.0156), 4: tensor(10004.3906), 5: tensor(0.), 6: tensor(0.), 7: tensor(0.), 8: tensor(0.), 9: tensor(0.), 10: tensor(0.), 11: tensor(0.), 12: tensor(0.), 13: tensor(0.), 14: tensor(0.), 15: tensor(0.), 16: tensor(0.), 17: tensor(0.), 18: tensor(0.), 19: tensor(0.), 20: tensor(0.)}\n",
      "MELO_ At the end of the simulation we get {0: 0, 1: 0, 2: 0, 3: 0, 4: 0, 5: 0, 6: 0, 7: 0, 8: 0, 9: 0, 10: 0, 11: 0, 12: 0, 13: 0, 14: 0, 15: 0, 16: 0, 17: 0, 18: 0, 19: 0, 20: 0}\n",
      "At the end of the simulation we get {0: tensor(1233.5746), 1: tensor(12132.4844), 2: tensor(-12860.8203), 3: tensor(-10491.0156), 4: tensor(10004.3906), 5: tensor(0.), 6: tensor(0.), 7: tensor(0.), 8: tensor(0.), 9: tensor(0.), 10: tensor(0.), 11: tensor(0.), 12: tensor(0.), 13: tensor(0.), 14: tensor(0.), 15: tensor(0.), 16: tensor(0.), 17: tensor(0.), 18: tensor(0.), 19: tensor(0.), 20: tensor(0.)}\n",
      "MELO_ At the end of the simulation we get {0: 0, 1: 0, 2: 0, 3: 0, 4: 0, 5: 0, 6: 0, 7: 0, 8: 0, 9: 0, 10: 0, 11: 0, 12: 0, 13: 0, 14: 0, 15: 0, 16: 0, 17: 0, 18: 0, 19: 0, 20: 0}\n"
     ]
    },
    {
     "name": "stderr",
     "output_type": "stream",
     "text": [
      "2025-03-11 16:21:46,235 - melo_simulator_adapter - INFO - Simulation run completed\n",
      "2025-03-11 16:21:46,235 - melo_simulator_adapter - INFO - Attempting to get end_sim results (new format)...\n",
      "2025-03-11 16:21:46,238 - melo_simulator_adapter - INFO - Got CDA values: {0: tensor(9694.9531), 1: tensor(-8216.0938), 2: tensor(-3216.0547), 3: tensor(4667.5312), 4: tensor(-1131.3572), 5: tensor(0.), 6: tensor(0.), 7: tensor(0.), 8: tensor(0.), 9: tensor(0.), 10: tensor(0.), 11: tensor(0.), 12: tensor(0.), 13: tensor(0.), 14: tensor(0.), 15: tensor(0.), 16: tensor(0.), 17: tensor(0.), 18: tensor(0.), 19: tensor(0.), 20: tensor(0.)}\n",
      "2025-03-11 16:21:46,238 - melo_simulator_adapter - INFO - Got MELO profits: {0: 0, 1: 0, 2: 0, 3: 0, 4: 0, 5: 0, 6: 0, 7: 0, 8: 0, 9: 0, 10: 0, 11: 0, 12: 0, 13: 0, 14: 0, 15: 0, 16: 0, 17: 0, 18: 0, 19: 0, 20: 0}\n",
      "2025-03-11 16:21:46,238 - melo_simulator_adapter - INFO - Total agents: 21\n",
      "2025-03-11 16:21:46,239 - melo_simulator_adapter - INFO - Agent strategies: {16: 'MELO_Only', 17: 'CDA_Only', 18: 'Balanced', 19: 'MELO_Biased', 20: 'CDA_Biased'}\n",
      "2025-03-11 16:21:46,239 - melo_simulator_adapter - INFO - Background agent 0 has non-zero profit: CDA=9694.95, MELO=0.00, Total=9694.95\n",
      "2025-03-11 16:21:46,239 - melo_simulator_adapter - INFO - Background agent 1 has non-zero profit: CDA=-8216.09, MELO=0.00, Total=-8216.09\n",
      "2025-03-11 16:21:46,240 - melo_simulator_adapter - INFO - Background agent 2 has non-zero profit: CDA=-3216.05, MELO=0.00, Total=-3216.05\n",
      "2025-03-11 16:21:46,240 - melo_simulator_adapter - INFO - Background agent 3 has non-zero profit: CDA=4667.53, MELO=0.00, Total=4667.53\n",
      "2025-03-11 16:21:46,240 - melo_simulator_adapter - INFO - Background agent 4 has non-zero profit: CDA=-1131.36, MELO=0.00, Total=-1131.36\n",
      "2025-03-11 16:21:46,240 - melo_simulator_adapter - INFO - Strategy agent 16 (MELO_Only): CDA=0.00, MELO=0.00, Total=0.00\n",
      "2025-03-11 16:21:46,240 - melo_simulator_adapter - INFO - Strategy agent 17 (CDA_Only): CDA=0.00, MELO=0.00, Total=0.00\n",
      "2025-03-11 16:21:46,241 - melo_simulator_adapter - INFO - Strategy agent 18 (Balanced): CDA=0.00, MELO=0.00, Total=0.00\n",
      "2025-03-11 16:21:46,241 - melo_simulator_adapter - INFO - Strategy agent 19 (MELO_Biased): CDA=0.00, MELO=0.00, Total=0.00\n",
      "2025-03-11 16:21:46,241 - melo_simulator_adapter - INFO - Strategy agent 20 (CDA_Biased): CDA=0.00, MELO=0.00, Total=0.00\n",
      "2025-03-11 16:21:46,241 - melo_simulator_adapter - INFO - Strategy payoffs: {'MELO_Only': 0.0, 'CDA_Only': 0.0, 'Balanced': 0.0, 'MELO_Biased': 0.0, 'CDA_Biased': 0.0}\n",
      "2025-03-11 16:21:46,242 - melo_simulator_adapter - INFO - Simulation 3 payoffs: {'MELO_Only': 0.0, 'CDA_Only': 0.0, 'Balanced': 0.0, 'MELO_Biased': 0.0, 'CDA_Biased': 0.0}\n",
      "2025-03-11 16:21:46,242 - melo_simulator_adapter - INFO - Running simulation 4/5...\n",
      "2025-03-11 16:21:46,247 - melo_simulator_adapter - INFO - Simulator has 21 agents\n",
      "2025-03-11 16:21:46,247 - melo_simulator_adapter - INFO - Agent IDs in simulator: [0, 1, 2, 3, 4, 5, 6, 7, 8, 9, 10, 11, 12, 13, 14, 15, 16, 17, 18, 19, 20]\n",
      "2025-03-11 16:21:46,247 - melo_simulator_adapter - INFO - Using agent IDs for strategies: [16, 17, 18, 19, 20]\n",
      "2025-03-11 16:21:46,249 - melo_simulator_adapter - INFO - Starting simulation run...\n"
     ]
    },
    {
     "name": "stdout",
     "output_type": "stream",
     "text": [
      "At the end of the simulation we get {0: tensor(9694.9531), 1: tensor(-8216.0938), 2: tensor(-3216.0547), 3: tensor(4667.5312), 4: tensor(-1131.3572), 5: tensor(0.), 6: tensor(0.), 7: tensor(0.), 8: tensor(0.), 9: tensor(0.), 10: tensor(0.), 11: tensor(0.), 12: tensor(0.), 13: tensor(0.), 14: tensor(0.), 15: tensor(0.), 16: tensor(0.), 17: tensor(0.), 18: tensor(0.), 19: tensor(0.), 20: tensor(0.)}\n",
      "MELO_ At the end of the simulation we get {0: 0, 1: 0, 2: 0, 3: 0, 4: 0, 5: 0, 6: 0, 7: 0, 8: 0, 9: 0, 10: 0, 11: 0, 12: 0, 13: 0, 14: 0, 15: 0, 16: 0, 17: 0, 18: 0, 19: 0, 20: 0}\n",
      "At the end of the simulation we get {0: tensor(9694.9531), 1: tensor(-8216.0938), 2: tensor(-3216.0547), 3: tensor(4667.5312), 4: tensor(-1131.3572), 5: tensor(0.), 6: tensor(0.), 7: tensor(0.), 8: tensor(0.), 9: tensor(0.), 10: tensor(0.), 11: tensor(0.), 12: tensor(0.), 13: tensor(0.), 14: tensor(0.), 15: tensor(0.), 16: tensor(0.), 17: tensor(0.), 18: tensor(0.), 19: tensor(0.), 20: tensor(0.)}\n",
      "MELO_ At the end of the simulation we get {0: 0, 1: 0, 2: 0, 3: 0, 4: 0, 5: 0, 6: 0, 7: 0, 8: 0, 9: 0, 10: 0, 11: 0, 12: 0, 13: 0, 14: 0, 15: 0, 16: 0, 17: 0, 18: 0, 19: 0, 20: 0}\n"
     ]
    },
    {
     "name": "stderr",
     "output_type": "stream",
     "text": [
      "2025-03-11 16:21:46,511 - melo_simulator_adapter - INFO - Simulation run completed\n",
      "2025-03-11 16:21:46,511 - melo_simulator_adapter - INFO - Attempting to get end_sim results (new format)...\n",
      "2025-03-11 16:21:46,514 - melo_simulator_adapter - INFO - Got CDA values: {0: tensor(491.7644), 1: tensor(826.7812), 2: tensor(1023.1562), 3: tensor(-958.1406), 4: tensor(-715.2812), 5: tensor(0.), 6: tensor(0.), 7: tensor(0.), 8: tensor(0.), 9: tensor(0.), 10: tensor(0.), 11: tensor(0.), 12: tensor(0.), 13: tensor(0.), 14: tensor(0.), 15: tensor(0.), 16: tensor(0.), 17: tensor(0.), 18: tensor(0.), 19: tensor(0.), 20: tensor(0.)}\n",
      "2025-03-11 16:21:46,514 - melo_simulator_adapter - INFO - Got MELO profits: {0: 0, 1: 0, 2: 0, 3: 0, 4: 0, 5: 0, 6: 0, 7: 0, 8: 0, 9: 0, 10: 0, 11: 0, 12: 0, 13: 0, 14: 0, 15: 0, 16: 0, 17: 0, 18: 0, 19: 0, 20: 0}\n",
      "2025-03-11 16:21:46,514 - melo_simulator_adapter - INFO - Total agents: 21\n",
      "2025-03-11 16:21:46,515 - melo_simulator_adapter - INFO - Agent strategies: {16: 'MELO_Only', 17: 'CDA_Only', 18: 'Balanced', 19: 'MELO_Biased', 20: 'CDA_Biased'}\n",
      "2025-03-11 16:21:46,515 - melo_simulator_adapter - INFO - Background agent 0 has non-zero profit: CDA=491.76, MELO=0.00, Total=491.76\n",
      "2025-03-11 16:21:46,515 - melo_simulator_adapter - INFO - Background agent 1 has non-zero profit: CDA=826.78, MELO=0.00, Total=826.78\n",
      "2025-03-11 16:21:46,515 - melo_simulator_adapter - INFO - Background agent 2 has non-zero profit: CDA=1023.16, MELO=0.00, Total=1023.16\n",
      "2025-03-11 16:21:46,515 - melo_simulator_adapter - INFO - Background agent 3 has non-zero profit: CDA=-958.14, MELO=0.00, Total=-958.14\n",
      "2025-03-11 16:21:46,516 - melo_simulator_adapter - INFO - Background agent 4 has non-zero profit: CDA=-715.28, MELO=0.00, Total=-715.28\n",
      "2025-03-11 16:21:46,516 - melo_simulator_adapter - INFO - Strategy agent 16 (MELO_Only): CDA=0.00, MELO=0.00, Total=0.00\n",
      "2025-03-11 16:21:46,516 - melo_simulator_adapter - INFO - Strategy agent 17 (CDA_Only): CDA=0.00, MELO=0.00, Total=0.00\n",
      "2025-03-11 16:21:46,516 - melo_simulator_adapter - INFO - Strategy agent 18 (Balanced): CDA=0.00, MELO=0.00, Total=0.00\n",
      "2025-03-11 16:21:46,517 - melo_simulator_adapter - INFO - Strategy agent 19 (MELO_Biased): CDA=0.00, MELO=0.00, Total=0.00\n",
      "2025-03-11 16:21:46,517 - melo_simulator_adapter - INFO - Strategy agent 20 (CDA_Biased): CDA=0.00, MELO=0.00, Total=0.00\n",
      "2025-03-11 16:21:46,517 - melo_simulator_adapter - INFO - Strategy payoffs: {'MELO_Only': 0.0, 'CDA_Only': 0.0, 'Balanced': 0.0, 'MELO_Biased': 0.0, 'CDA_Biased': 0.0}\n",
      "2025-03-11 16:21:46,517 - melo_simulator_adapter - INFO - Simulation 4 payoffs: {'MELO_Only': 0.0, 'CDA_Only': 0.0, 'Balanced': 0.0, 'MELO_Biased': 0.0, 'CDA_Biased': 0.0}\n",
      "2025-03-11 16:21:46,518 - melo_simulator_adapter - INFO - Running simulation 5/5...\n",
      "2025-03-11 16:21:46,522 - melo_simulator_adapter - INFO - Simulator has 21 agents\n",
      "2025-03-11 16:21:46,522 - melo_simulator_adapter - INFO - Agent IDs in simulator: [0, 1, 2, 3, 4, 5, 6, 7, 8, 9, 10, 11, 12, 13, 14, 15, 16, 17, 18, 19, 20]\n",
      "2025-03-11 16:21:46,523 - melo_simulator_adapter - INFO - Using agent IDs for strategies: [16, 17, 18, 19, 20]\n",
      "2025-03-11 16:21:46,524 - melo_simulator_adapter - INFO - Starting simulation run...\n"
     ]
    },
    {
     "name": "stdout",
     "output_type": "stream",
     "text": [
      "At the end of the simulation we get {0: tensor(491.7644), 1: tensor(826.7812), 2: tensor(1023.1562), 3: tensor(-958.1406), 4: tensor(-715.2812), 5: tensor(0.), 6: tensor(0.), 7: tensor(0.), 8: tensor(0.), 9: tensor(0.), 10: tensor(0.), 11: tensor(0.), 12: tensor(0.), 13: tensor(0.), 14: tensor(0.), 15: tensor(0.), 16: tensor(0.), 17: tensor(0.), 18: tensor(0.), 19: tensor(0.), 20: tensor(0.)}\n",
      "MELO_ At the end of the simulation we get {0: 0, 1: 0, 2: 0, 3: 0, 4: 0, 5: 0, 6: 0, 7: 0, 8: 0, 9: 0, 10: 0, 11: 0, 12: 0, 13: 0, 14: 0, 15: 0, 16: 0, 17: 0, 18: 0, 19: 0, 20: 0}\n",
      "At the end of the simulation we get {0: tensor(491.7644), 1: tensor(826.7812), 2: tensor(1023.1562), 3: tensor(-958.1406), 4: tensor(-715.2812), 5: tensor(0.), 6: tensor(0.), 7: tensor(0.), 8: tensor(0.), 9: tensor(0.), 10: tensor(0.), 11: tensor(0.), 12: tensor(0.), 13: tensor(0.), 14: tensor(0.), 15: tensor(0.), 16: tensor(0.), 17: tensor(0.), 18: tensor(0.), 19: tensor(0.), 20: tensor(0.)}\n",
      "MELO_ At the end of the simulation we get {0: 0, 1: 0, 2: 0, 3: 0, 4: 0, 5: 0, 6: 0, 7: 0, 8: 0, 9: 0, 10: 0, 11: 0, 12: 0, 13: 0, 14: 0, 15: 0, 16: 0, 17: 0, 18: 0, 19: 0, 20: 0}\n"
     ]
    },
    {
     "name": "stderr",
     "output_type": "stream",
     "text": [
      "2025-03-11 16:21:46,728 - melo_simulator_adapter - INFO - Simulation run completed\n",
      "2025-03-11 16:21:46,729 - melo_simulator_adapter - INFO - Attempting to get end_sim results (new format)...\n",
      "2025-03-11 16:21:46,732 - melo_simulator_adapter - INFO - Got CDA values: {0: tensor(-2467.0859), 1: tensor(-9131.8438), 2: tensor(0.), 3: tensor(5708.5625), 4: tensor(6054.5000), 5: tensor(0.), 6: tensor(0.), 7: tensor(0.), 8: tensor(0.), 9: tensor(0.), 10: tensor(0.), 11: tensor(0.), 12: tensor(0.), 13: tensor(0.), 14: tensor(0.), 15: tensor(0.), 16: tensor(0.), 17: tensor(0.), 18: tensor(0.), 19: tensor(0.), 20: tensor(0.)}\n",
      "2025-03-11 16:21:46,732 - melo_simulator_adapter - INFO - Got MELO profits: {0: 0, 1: 0, 2: 0, 3: 0, 4: 0, 5: 0, 6: 0, 7: 0, 8: 0, 9: 0, 10: 0, 11: 0, 12: 0, 13: 0, 14: 0, 15: 0, 16: 0, 17: 0, 18: 0, 19: 0, 20: 0}\n",
      "2025-03-11 16:21:46,732 - melo_simulator_adapter - INFO - Total agents: 21\n",
      "2025-03-11 16:21:46,732 - melo_simulator_adapter - INFO - Agent strategies: {16: 'MELO_Only', 17: 'CDA_Only', 18: 'Balanced', 19: 'MELO_Biased', 20: 'CDA_Biased'}\n",
      "2025-03-11 16:21:46,732 - melo_simulator_adapter - INFO - Background agent 0 has non-zero profit: CDA=-2467.09, MELO=0.00, Total=-2467.09\n",
      "2025-03-11 16:21:46,733 - melo_simulator_adapter - INFO - Background agent 1 has non-zero profit: CDA=-9131.84, MELO=0.00, Total=-9131.84\n",
      "2025-03-11 16:21:46,733 - melo_simulator_adapter - INFO - Background agent 3 has non-zero profit: CDA=5708.56, MELO=0.00, Total=5708.56\n",
      "2025-03-11 16:21:46,733 - melo_simulator_adapter - INFO - Background agent 4 has non-zero profit: CDA=6054.50, MELO=0.00, Total=6054.50\n",
      "2025-03-11 16:21:46,733 - melo_simulator_adapter - INFO - Strategy agent 16 (MELO_Only): CDA=0.00, MELO=0.00, Total=0.00\n",
      "2025-03-11 16:21:46,733 - melo_simulator_adapter - INFO - Strategy agent 17 (CDA_Only): CDA=0.00, MELO=0.00, Total=0.00\n",
      "2025-03-11 16:21:46,734 - melo_simulator_adapter - INFO - Strategy agent 18 (Balanced): CDA=0.00, MELO=0.00, Total=0.00\n",
      "2025-03-11 16:21:46,734 - melo_simulator_adapter - INFO - Strategy agent 19 (MELO_Biased): CDA=0.00, MELO=0.00, Total=0.00\n",
      "2025-03-11 16:21:46,734 - melo_simulator_adapter - INFO - Strategy agent 20 (CDA_Biased): CDA=0.00, MELO=0.00, Total=0.00\n",
      "2025-03-11 16:21:46,734 - melo_simulator_adapter - INFO - Strategy payoffs: {'MELO_Only': 0.0, 'CDA_Only': 0.0, 'Balanced': 0.0, 'MELO_Biased': 0.0, 'CDA_Biased': 0.0}\n",
      "2025-03-11 16:21:46,735 - melo_simulator_adapter - INFO - Simulation 5 payoffs: {'MELO_Only': 0.0, 'CDA_Only': 0.0, 'Balanced': 0.0, 'MELO_Biased': 0.0, 'CDA_Biased': 0.0}\n",
      "2025-03-11 16:21:46,735 - melo_simulator_adapter - INFO - Final average payoffs after 5 simulations: {'MELO_Only': 0.0, 'CDA_Only': 0.0, 'Balanced': 0.0, 'MELO_Biased': 0.0, 'CDA_Biased': 0.0}\n"
     ]
    },
    {
     "name": "stdout",
     "output_type": "stream",
     "text": [
      "At the end of the simulation we get {0: tensor(-2467.0859), 1: tensor(-9131.8438), 2: tensor(0.), 3: tensor(5708.5625), 4: tensor(6054.5000), 5: tensor(0.), 6: tensor(0.), 7: tensor(0.), 8: tensor(0.), 9: tensor(0.), 10: tensor(0.), 11: tensor(0.), 12: tensor(0.), 13: tensor(0.), 14: tensor(0.), 15: tensor(0.), 16: tensor(0.), 17: tensor(0.), 18: tensor(0.), 19: tensor(0.), 20: tensor(0.)}\n",
      "MELO_ At the end of the simulation we get {0: 0, 1: 0, 2: 0, 3: 0, 4: 0, 5: 0, 6: 0, 7: 0, 8: 0, 9: 0, 10: 0, 11: 0, 12: 0, 13: 0, 14: 0, 15: 0, 16: 0, 17: 0, 18: 0, 19: 0, 20: 0}\n",
      "At the end of the simulation we get {0: tensor(-2467.0859), 1: tensor(-9131.8438), 2: tensor(0.), 3: tensor(5708.5625), 4: tensor(6054.5000), 5: tensor(0.), 6: tensor(0.), 7: tensor(0.), 8: tensor(0.), 9: tensor(0.), 10: tensor(0.), 11: tensor(0.), 12: tensor(0.), 13: tensor(0.), 14: tensor(0.), 15: tensor(0.), 16: tensor(0.), 17: tensor(0.), 18: tensor(0.), 19: tensor(0.), 20: tensor(0.)}\n",
      "MELO_ At the end of the simulation we get {0: 0, 1: 0, 2: 0, 3: 0, 4: 0, 5: 0, 6: 0, 7: 0, 8: 0, 9: 0, 10: 0, 11: 0, 12: 0, 13: 0, 14: 0, 15: 0, 16: 0, 17: 0, 18: 0, 19: 0, 20: 0}\n",
      "Payoffs for profile {'MELO_Only': 1, 'CDA_Only': 1, 'Balanced': 1, 'MELO_Biased': 1, 'CDA_Biased': 1}: {'MELO_Only': 0.0, 'CDA_Only': 0.0, 'Balanced': 0.0, 'MELO_Biased': 0.0, 'CDA_Biased': 0.0}\n"
     ]
    }
   ],
   "source": [
    "# Test a profile with multiple strategies\n",
    "profile3 = {'MELO_Only': 1, 'CDA_Only': 1, 'Balanced': 1, 'MELO_Biased': 1, 'CDA_Biased': 1}\n",
    "payoffs3 = adapter.simulate_profile(profile3)\n",
    "print(f\"Payoffs for profile {profile3}: {payoffs3}\")"
   ]
  },
  {
   "cell_type": "markdown",
   "metadata": {},
   "source": [
    "### Results Visualization"
   ]
  },
  {
   "cell_type": "code",
   "execution_count": 26,
   "metadata": {},
   "outputs": [
    {
     "data": {
      "text/html": [
       "<div>\n",
       "<style scoped>\n",
       "    .dataframe tbody tr th:only-of-type {\n",
       "        vertical-align: middle;\n",
       "    }\n",
       "\n",
       "    .dataframe tbody tr th {\n",
       "        vertical-align: top;\n",
       "    }\n",
       "\n",
       "    .dataframe thead th {\n",
       "        text-align: right;\n",
       "    }\n",
       "</style>\n",
       "<table border=\"1\" class=\"dataframe\">\n",
       "  <thead>\n",
       "    <tr style=\"text-align: right;\">\n",
       "      <th></th>\n",
       "      <th>Test 1: MELO vs CDA</th>\n",
       "      <th>Test 2: Balanced</th>\n",
       "      <th>Test 3: Multiple</th>\n",
       "    </tr>\n",
       "  </thead>\n",
       "  <tbody>\n",
       "    <tr>\n",
       "      <th>MELO_Only</th>\n",
       "      <td>0.0</td>\n",
       "      <td>0.0</td>\n",
       "      <td>0.0</td>\n",
       "    </tr>\n",
       "    <tr>\n",
       "      <th>CDA_Only</th>\n",
       "      <td>0.0</td>\n",
       "      <td>0.0</td>\n",
       "      <td>0.0</td>\n",
       "    </tr>\n",
       "    <tr>\n",
       "      <th>Balanced</th>\n",
       "      <td>0.0</td>\n",
       "      <td>0.0</td>\n",
       "      <td>0.0</td>\n",
       "    </tr>\n",
       "    <tr>\n",
       "      <th>MELO_Biased</th>\n",
       "      <td>0.0</td>\n",
       "      <td>0.0</td>\n",
       "      <td>0.0</td>\n",
       "    </tr>\n",
       "    <tr>\n",
       "      <th>CDA_Biased</th>\n",
       "      <td>0.0</td>\n",
       "      <td>0.0</td>\n",
       "      <td>0.0</td>\n",
       "    </tr>\n",
       "  </tbody>\n",
       "</table>\n",
       "</div>"
      ],
      "text/plain": [
       "             Test 1: MELO vs CDA  Test 2: Balanced  Test 3: Multiple\n",
       "MELO_Only                    0.0               0.0               0.0\n",
       "CDA_Only                     0.0               0.0               0.0\n",
       "Balanced                     0.0               0.0               0.0\n",
       "MELO_Biased                  0.0               0.0               0.0\n",
       "CDA_Biased                   0.0               0.0               0.0"
      ]
     },
     "execution_count": 26,
     "metadata": {},
     "output_type": "execute_result"
    }
   ],
   "source": [
    "# Create a DataFrame to visualize results from all tests\n",
    "results_data = {\n",
    "    'Test 1: MELO vs CDA': [payoffs1.get('MELO_Only', 0), payoffs1.get('CDA_Only', 0), 0, 0, 0],\n",
    "    'Test 2: Balanced': [0, 0, payoffs2.get('Balanced', 0), 0, 0],\n",
    "    'Test 3: Multiple': [payoffs3.get('MELO_Only', 0), payoffs3.get('CDA_Only', 0), \n",
    "                         payoffs3.get('Balanced', 0), payoffs3.get('MELO_Biased', 0), \n",
    "                         payoffs3.get('CDA_Biased', 0)]\n",
    "}\n",
    "\n",
    "results_df = pd.DataFrame(results_data, index=['MELO_Only', 'CDA_Only', 'Balanced', 'MELO_Biased', 'CDA_Biased'])\n",
    "results_df"
   ]
  },
  {
   "cell_type": "code",
   "execution_count": 27,
   "metadata": {},
   "outputs": [
    {
     "data": {
      "text/plain": [
       "<Figure size 1200x600 with 0 Axes>"
      ]
     },
     "metadata": {},
     "output_type": "display_data"
    },
    {
     "data": {
      "image/png": "[encoded data removed]",
      "text/plain": [
       "<Figure size 640x480 with 1 Axes>"
      ]
     },
     "metadata": {},
     "output_type": "display_data"
    }
   ],
   "source": [
    "# Visualize the results\n",
    "plt.figure(figsize=(12, 6))\n",
    "results_df.plot(kind='bar')\n",
    "plt.title('Payoffs by Strategy and Test')\n",
    "plt.ylabel('Payoff')\n",
    "plt.xlabel('Strategy')\n",
    "plt.xticks(rotation=45)\n",
    "plt.grid(axis='y', linestyle='--', alpha=0.7)\n",
    "plt.legend(title='Test')\n",
    "plt.tight_layout()\n",
    "plt.show()"
   ]
  },
  {
   "cell_type": "markdown",
   "metadata": {},
   "source": [
    "## 3. Running Subgame Search"
   ]
  },
  {
   "cell_type": "markdown",
   "metadata": {},
   "source": [
    "### Set up the Subgame Search"
   ]
  },
  {
   "cell_type": "code",
   "execution_count": 36,
   "metadata": {},
   "outputs": [
    {
     "name": "stdout",
     "output_type": "stream",
     "text": [
      "Subgame search instance created\n"
     ]
    }
   ],
   "source": [
    "# Define the strategy space\n",
    "strategies = ['MELO_Only', 'CDA_Only', 'Balanced', 'MELO_Biased', 'CDA_Biased']\n",
    "num_players = 5  # Total number of players in the game\n",
    "num_actions = len(strategies)\n",
    "\n",
    "# We need to create empty config_table and payoff_table for initialization\n",
    "# These will be populated during the subgame search\n",
    "config_table = np.zeros((1, num_actions))  # Start with a minimal configuration\n",
    "payoff_table = np.zeros((num_actions, 1))  # Start with empty payoffs\n",
    "\n",
    "# Create a symmetric game with the defined strategy space\n",
    "game = SymmetricGame(\n",
    "    num_players=num_players,\n",
    "    num_actions=num_actions,\n",
    "    config_table=config_table,\n",
    "    payoff_table=payoff_table,\n",
    "    strategy_names=strategies,\n",
    "    device=\"cpu\"\n",
    ")\n",
    "\n",
    "# Create a subgame search instance\n",
    "subgame_search = SubgameSearch(\n",
    "    strategy_names=strategies,\n",
    "    simulator=adapter,\n",
    "    num_players=num_players,\n",
    "    regret_threshold=1e-3,\n",
    "    distance_threshold=0.1,\n",
    "    support_threshold=1e-4,\n",
    "    restricted_game_size=3,\n",
    "    eq_method=\"replicator_dynamics\"\n",
    ")\n",
    "\n",
    "print(\"Subgame search instance created\")"
   ]
  },
  {
   "cell_type": "markdown",
   "metadata": {},
   "source": [
    "### Run the Subgame Search"
   ]
  },
  {
   "cell_type": "code",
   "execution_count": 37,
   "metadata": {},
   "outputs": [
    {
     "name": "stderr",
     "output_type": "stream",
     "text": [
      "2025-03-11 16:23:00,137 - subgame_search - INFO - Initializing subgame search with single-strategy subgames\n",
      "2025-03-11 16:23:00,139 - subgame_search - INFO - Added subgame with strategies ['MELO_Only'], priority 1.000000\n",
      "2025-03-11 16:23:00,140 - subgame_search - INFO - Added subgame with strategies ['CDA_Only'], priority 1.000000\n",
      "2025-03-11 16:23:00,140 - subgame_search - INFO - Added subgame with strategies ['Balanced'], priority 1.000000\n",
      "2025-03-11 16:23:00,140 - subgame_search - INFO - Added subgame with strategies ['MELO_Biased'], priority 1.000000\n",
      "2025-03-11 16:23:00,141 - subgame_search - INFO - Added subgame with strategies ['CDA_Biased'], priority 1.000000\n",
      "2025-03-11 16:23:00,141 - subgame_search - INFO - Added 5 initial single-strategy subgames\n",
      "2025-03-11 16:23:00,141 - subgame_search - INFO - The algorithm will build up to larger subgames as needed\n",
      "2025-03-11 16:23:00,142 - subgame_search - INFO - Starting subgame search with 100 max iterations\n",
      "2025-03-11 16:23:00,142 - subgame_search - INFO - Iteration 0: Exploring subgame with strategies ['MELO_Only']\n",
      "2025-03-11 16:23:00,142 - subgame_search - INFO - Sampling profiles for subgame with strategies ['MELO_Only']\n",
      "2025-03-11 16:23:00,143 - subgame_search - INFO - Simulating profile: {'MELO_Only': 5} (attempt 1/3)\n",
      "2025-03-11 16:23:00,143 - melo_simulator_adapter - INFO - Simulating profile: {'MELO_Only': 5} with parameters: {'lam': 0.05, 'mean': 100000.0, 'r': 0.05, 'shock_var': 5000000.0, 'q_max': 10, 'pv_var': 5000000.0, 'shade': [500, 1000]}\n",
      "2025-03-11 16:23:00,143 - melo_simulator_adapter - INFO - Running simulation 1/5...\n",
      "2025-03-11 16:23:00,149 - melo_simulator_adapter - INFO - Simulator has 21 agents\n",
      "2025-03-11 16:23:00,149 - melo_simulator_adapter - INFO - Agent IDs in simulator: [0, 1, 2, 3, 4, 5, 6, 7, 8, 9, 10, 11, 12, 13, 14, 15, 16, 17, 18, 19, 20]\n",
      "2025-03-11 16:23:00,150 - melo_simulator_adapter - INFO - Using agent IDs for strategies: [16, 17, 18, 19, 20]\n",
      "2025-03-11 16:23:00,150 - melo_simulator_adapter - INFO - Starting simulation run...\n",
      "2025-03-11 16:23:00,367 - melo_simulator_adapter - INFO - Simulation run completed\n",
      "2025-03-11 16:23:00,367 - melo_simulator_adapter - INFO - Attempting to get end_sim results (new format)...\n",
      "2025-03-11 16:23:00,370 - melo_simulator_adapter - INFO - Got CDA values: {0: tensor(-5479.2812), 1: tensor(-274.0156), 2: tensor(-166.2266), 3: tensor(7070.4688), 4: tensor(2904.7734), 5: tensor(0.), 6: tensor(0.), 7: tensor(0.), 8: tensor(0.), 9: tensor(0.), 10: tensor(0.), 11: tensor(0.), 12: tensor(0.), 13: tensor(0.), 14: tensor(0.), 15: tensor(0.), 16: tensor(0.), 17: tensor(0.), 18: tensor(0.), 19: tensor(0.), 20: tensor(0.)}\n",
      "2025-03-11 16:23:00,371 - melo_simulator_adapter - INFO - Got MELO profits: {0: 0, 1: 0, 2: 0, 3: 0, 4: 0, 5: 0, 6: 0, 7: 0, 8: 0, 9: 0, 10: 0, 11: 0, 12: 0, 13: 0, 14: 0, 15: 0, 16: 0, 17: 0, 18: 0, 19: 0, 20: 0}\n",
      "2025-03-11 16:23:00,371 - melo_simulator_adapter - INFO - Total agents: 21\n",
      "2025-03-11 16:23:00,372 - melo_simulator_adapter - INFO - Agent strategies: {16: 'MELO_Only', 17: 'MELO_Only', 18: 'MELO_Only', 19: 'MELO_Only', 20: 'MELO_Only'}\n",
      "2025-03-11 16:23:00,372 - melo_simulator_adapter - INFO - Background agent 0 has non-zero profit: CDA=-5479.28, MELO=0.00, Total=-5479.28\n",
      "2025-03-11 16:23:00,372 - melo_simulator_adapter - INFO - Background agent 1 has non-zero profit: CDA=-274.02, MELO=0.00, Total=-274.02\n",
      "2025-03-11 16:23:00,372 - melo_simulator_adapter - INFO - Background agent 2 has non-zero profit: CDA=-166.23, MELO=0.00, Total=-166.23\n",
      "2025-03-11 16:23:00,373 - melo_simulator_adapter - INFO - Background agent 3 has non-zero profit: CDA=7070.47, MELO=0.00, Total=7070.47\n",
      "2025-03-11 16:23:00,373 - melo_simulator_adapter - INFO - Background agent 4 has non-zero profit: CDA=2904.77, MELO=0.00, Total=2904.77\n",
      "2025-03-11 16:23:00,373 - melo_simulator_adapter - INFO - Strategy agent 16 (MELO_Only): CDA=0.00, MELO=0.00, Total=0.00\n",
      "2025-03-11 16:23:00,373 - melo_simulator_adapter - INFO - Strategy agent 17 (MELO_Only): CDA=0.00, MELO=0.00, Total=0.00\n",
      "2025-03-11 16:23:00,374 - melo_simulator_adapter - INFO - Strategy agent 18 (MELO_Only): CDA=0.00, MELO=0.00, Total=0.00\n",
      "2025-03-11 16:23:00,374 - melo_simulator_adapter - INFO - Strategy agent 19 (MELO_Only): CDA=0.00, MELO=0.00, Total=0.00\n",
      "2025-03-11 16:23:00,374 - melo_simulator_adapter - INFO - Strategy agent 20 (MELO_Only): CDA=0.00, MELO=0.00, Total=0.00\n",
      "2025-03-11 16:23:00,374 - melo_simulator_adapter - INFO - Strategy payoffs: {'MELO_Only': 0.0}\n",
      "2025-03-11 16:23:00,375 - melo_simulator_adapter - INFO - Simulation 1 payoffs: {'MELO_Only': 0.0}\n",
      "2025-03-11 16:23:00,375 - melo_simulator_adapter - INFO - Running simulation 2/5...\n",
      "2025-03-11 16:23:00,380 - melo_simulator_adapter - INFO - Simulator has 21 agents\n",
      "2025-03-11 16:23:00,380 - melo_simulator_adapter - INFO - Agent IDs in simulator: [0, 1, 2, 3, 4, 5, 6, 7, 8, 9, 10, 11, 12, 13, 14, 15, 16, 17, 18, 19, 20]\n",
      "2025-03-11 16:23:00,380 - melo_simulator_adapter - INFO - Using agent IDs for strategies: [16, 17, 18, 19, 20]\n",
      "2025-03-11 16:23:00,382 - melo_simulator_adapter - INFO - Starting simulation run...\n"
     ]
    },
    {
     "name": "stdout",
     "output_type": "stream",
     "text": [
      "At the end of the simulation we get {0: tensor(-5479.2812), 1: tensor(-274.0156), 2: tensor(-166.2266), 3: tensor(7070.4688), 4: tensor(2904.7734), 5: tensor(0.), 6: tensor(0.), 7: tensor(0.), 8: tensor(0.), 9: tensor(0.), 10: tensor(0.), 11: tensor(0.), 12: tensor(0.), 13: tensor(0.), 14: tensor(0.), 15: tensor(0.), 16: tensor(0.), 17: tensor(0.), 18: tensor(0.), 19: tensor(0.), 20: tensor(0.)}\n",
      "MELO_ At the end of the simulation we get {0: 0, 1: 0, 2: 0, 3: 0, 4: 0, 5: 0, 6: 0, 7: 0, 8: 0, 9: 0, 10: 0, 11: 0, 12: 0, 13: 0, 14: 0, 15: 0, 16: 0, 17: 0, 18: 0, 19: 0, 20: 0}\n",
      "At the end of the simulation we get {0: tensor(-5479.2812), 1: tensor(-274.0156), 2: tensor(-166.2266), 3: tensor(7070.4688), 4: tensor(2904.7734), 5: tensor(0.), 6: tensor(0.), 7: tensor(0.), 8: tensor(0.), 9: tensor(0.), 10: tensor(0.), 11: tensor(0.), 12: tensor(0.), 13: tensor(0.), 14: tensor(0.), 15: tensor(0.), 16: tensor(0.), 17: tensor(0.), 18: tensor(0.), 19: tensor(0.), 20: tensor(0.)}\n",
      "MELO_ At the end of the simulation we get {0: 0, 1: 0, 2: 0, 3: 0, 4: 0, 5: 0, 6: 0, 7: 0, 8: 0, 9: 0, 10: 0, 11: 0, 12: 0, 13: 0, 14: 0, 15: 0, 16: 0, 17: 0, 18: 0, 19: 0, 20: 0}\n"
     ]
    },
    {
     "name": "stderr",
     "output_type": "stream",
     "text": [
      "2025-03-11 16:23:00,690 - melo_simulator_adapter - INFO - Simulation run completed\n",
      "2025-03-11 16:23:00,691 - melo_simulator_adapter - INFO - Attempting to get end_sim results (new format)...\n",
      "2025-03-11 16:23:00,693 - melo_simulator_adapter - INFO - Got CDA values: {0: tensor(6077.2891), 1: tensor(-9567.2656), 2: tensor(0.), 3: tensor(-2550.6172), 4: tensor(9637.5625), 5: tensor(0.), 6: tensor(0.), 7: tensor(0.), 8: tensor(0.), 9: tensor(0.), 10: tensor(0.), 11: tensor(0.), 12: tensor(0.), 13: tensor(0.), 14: tensor(0.), 15: tensor(0.), 16: tensor(0.), 17: tensor(0.), 18: tensor(0.), 19: tensor(0.), 20: tensor(0.)}\n",
      "2025-03-11 16:23:00,694 - melo_simulator_adapter - INFO - Got MELO profits: {0: 0, 1: 0, 2: 0, 3: 0, 4: 0, 5: 0, 6: 0, 7: 0, 8: 0, 9: 0, 10: 0, 11: 0, 12: 0, 13: 0, 14: 0, 15: 0, 16: 0, 17: 0, 18: 0, 19: 0, 20: 0}\n",
      "2025-03-11 16:23:00,694 - melo_simulator_adapter - INFO - Total agents: 21\n",
      "2025-03-11 16:23:00,694 - melo_simulator_adapter - INFO - Agent strategies: {16: 'MELO_Only', 17: 'MELO_Only', 18: 'MELO_Only', 19: 'MELO_Only', 20: 'MELO_Only'}\n",
      "2025-03-11 16:23:00,695 - melo_simulator_adapter - INFO - Background agent 0 has non-zero profit: CDA=6077.29, MELO=0.00, Total=6077.29\n",
      "2025-03-11 16:23:00,695 - melo_simulator_adapter - INFO - Background agent 1 has non-zero profit: CDA=-9567.27, MELO=0.00, Total=-9567.27\n",
      "2025-03-11 16:23:00,695 - melo_simulator_adapter - INFO - Background agent 3 has non-zero profit: CDA=-2550.62, MELO=0.00, Total=-2550.62\n",
      "2025-03-11 16:23:00,695 - melo_simulator_adapter - INFO - Background agent 4 has non-zero profit: CDA=9637.56, MELO=0.00, Total=9637.56\n",
      "2025-03-11 16:23:00,695 - melo_simulator_adapter - INFO - Strategy agent 16 (MELO_Only): CDA=0.00, MELO=0.00, Total=0.00\n",
      "2025-03-11 16:23:00,696 - melo_simulator_adapter - INFO - Strategy agent 17 (MELO_Only): CDA=0.00, MELO=0.00, Total=0.00\n",
      "2025-03-11 16:23:00,696 - melo_simulator_adapter - INFO - Strategy agent 18 (MELO_Only): CDA=0.00, MELO=0.00, Total=0.00\n",
      "2025-03-11 16:23:00,696 - melo_simulator_adapter - INFO - Strategy agent 19 (MELO_Only): CDA=0.00, MELO=0.00, Total=0.00\n",
      "2025-03-11 16:23:00,696 - melo_simulator_adapter - INFO - Strategy agent 20 (MELO_Only): CDA=0.00, MELO=0.00, Total=0.00\n",
      "2025-03-11 16:23:00,697 - melo_simulator_adapter - INFO - Strategy payoffs: {'MELO_Only': 0.0}\n",
      "2025-03-11 16:23:00,697 - melo_simulator_adapter - INFO - Simulation 2 payoffs: {'MELO_Only': 0.0}\n",
      "2025-03-11 16:23:00,697 - melo_simulator_adapter - INFO - Running simulation 3/5...\n",
      "2025-03-11 16:23:00,702 - melo_simulator_adapter - INFO - Simulator has 21 agents\n",
      "2025-03-11 16:23:00,702 - melo_simulator_adapter - INFO - Agent IDs in simulator: [0, 1, 2, 3, 4, 5, 6, 7, 8, 9, 10, 11, 12, 13, 14, 15, 16, 17, 18, 19, 20]\n",
      "2025-03-11 16:23:00,702 - melo_simulator_adapter - INFO - Using agent IDs for strategies: [16, 17, 18, 19, 20]\n",
      "2025-03-11 16:23:00,704 - melo_simulator_adapter - INFO - Starting simulation run...\n"
     ]
    },
    {
     "name": "stdout",
     "output_type": "stream",
     "text": [
      "At the end of the simulation we get {0: tensor(6077.2891), 1: tensor(-9567.2656), 2: tensor(0.), 3: tensor(-2550.6172), 4: tensor(9637.5625), 5: tensor(0.), 6: tensor(0.), 7: tensor(0.), 8: tensor(0.), 9: tensor(0.), 10: tensor(0.), 11: tensor(0.), 12: tensor(0.), 13: tensor(0.), 14: tensor(0.), 15: tensor(0.), 16: tensor(0.), 17: tensor(0.), 18: tensor(0.), 19: tensor(0.), 20: tensor(0.)}\n",
      "MELO_ At the end of the simulation we get {0: 0, 1: 0, 2: 0, 3: 0, 4: 0, 5: 0, 6: 0, 7: 0, 8: 0, 9: 0, 10: 0, 11: 0, 12: 0, 13: 0, 14: 0, 15: 0, 16: 0, 17: 0, 18: 0, 19: 0, 20: 0}\n",
      "At the end of the simulation we get {0: tensor(6077.2891), 1: tensor(-9567.2656), 2: tensor(0.), 3: tensor(-2550.6172), 4: tensor(9637.5625), 5: tensor(0.), 6: tensor(0.), 7: tensor(0.), 8: tensor(0.), 9: tensor(0.), 10: tensor(0.), 11: tensor(0.), 12: tensor(0.), 13: tensor(0.), 14: tensor(0.), 15: tensor(0.), 16: tensor(0.), 17: tensor(0.), 18: tensor(0.), 19: tensor(0.), 20: tensor(0.)}\n",
      "MELO_ At the end of the simulation we get {0: 0, 1: 0, 2: 0, 3: 0, 4: 0, 5: 0, 6: 0, 7: 0, 8: 0, 9: 0, 10: 0, 11: 0, 12: 0, 13: 0, 14: 0, 15: 0, 16: 0, 17: 0, 18: 0, 19: 0, 20: 0}\n"
     ]
    },
    {
     "name": "stderr",
     "output_type": "stream",
     "text": [
      "2025-03-11 16:23:00,945 - melo_simulator_adapter - INFO - Simulation run completed\n",
      "2025-03-11 16:23:00,945 - melo_simulator_adapter - INFO - Attempting to get end_sim results (new format)...\n",
      "2025-03-11 16:23:00,949 - melo_simulator_adapter - INFO - Got CDA values: {0: tensor(-1262.2969), 1: tensor(-911.9008), 2: tensor(0.), 3: tensor(36.9375), 4: tensor(3753.9922), 5: tensor(0.), 6: tensor(0.), 7: tensor(0.), 8: tensor(0.), 9: tensor(0.), 10: tensor(0.), 11: tensor(0.), 12: tensor(0.), 13: tensor(0.), 14: tensor(0.), 15: tensor(0.), 16: tensor(0.), 17: tensor(0.), 18: tensor(0.), 19: tensor(0.), 20: tensor(0.)}\n",
      "2025-03-11 16:23:00,949 - melo_simulator_adapter - INFO - Got MELO profits: {0: 0, 1: 0, 2: 0, 3: 0, 4: 0, 5: 0, 6: 0, 7: 0, 8: 0, 9: 0, 10: 0, 11: 0, 12: 0, 13: 0, 14: 0, 15: 0, 16: 0, 17: 0, 18: 0, 19: 0, 20: 0}\n",
      "2025-03-11 16:23:00,950 - melo_simulator_adapter - INFO - Total agents: 21\n",
      "2025-03-11 16:23:00,950 - melo_simulator_adapter - INFO - Agent strategies: {16: 'MELO_Only', 17: 'MELO_Only', 18: 'MELO_Only', 19: 'MELO_Only', 20: 'MELO_Only'}\n",
      "2025-03-11 16:23:00,950 - melo_simulator_adapter - INFO - Background agent 0 has non-zero profit: CDA=-1262.30, MELO=0.00, Total=-1262.30\n",
      "2025-03-11 16:23:00,951 - melo_simulator_adapter - INFO - Background agent 1 has non-zero profit: CDA=-911.90, MELO=0.00, Total=-911.90\n",
      "2025-03-11 16:23:00,951 - melo_simulator_adapter - INFO - Background agent 3 has non-zero profit: CDA=36.94, MELO=0.00, Total=36.94\n",
      "2025-03-11 16:23:00,952 - melo_simulator_adapter - INFO - Background agent 4 has non-zero profit: CDA=3753.99, MELO=0.00, Total=3753.99\n",
      "2025-03-11 16:23:00,952 - melo_simulator_adapter - INFO - Strategy agent 16 (MELO_Only): CDA=0.00, MELO=0.00, Total=0.00\n",
      "2025-03-11 16:23:00,952 - melo_simulator_adapter - INFO - Strategy agent 17 (MELO_Only): CDA=0.00, MELO=0.00, Total=0.00\n",
      "2025-03-11 16:23:00,953 - melo_simulator_adapter - INFO - Strategy agent 18 (MELO_Only): CDA=0.00, MELO=0.00, Total=0.00\n",
      "2025-03-11 16:23:00,953 - melo_simulator_adapter - INFO - Strategy agent 19 (MELO_Only): CDA=0.00, MELO=0.00, Total=0.00\n",
      "2025-03-11 16:23:00,953 - melo_simulator_adapter - INFO - Strategy agent 20 (MELO_Only): CDA=0.00, MELO=0.00, Total=0.00\n",
      "2025-03-11 16:23:00,954 - melo_simulator_adapter - INFO - Strategy payoffs: {'MELO_Only': 0.0}\n",
      "2025-03-11 16:23:00,954 - melo_simulator_adapter - INFO - Simulation 3 payoffs: {'MELO_Only': 0.0}\n",
      "2025-03-11 16:23:00,954 - melo_simulator_adapter - INFO - Running simulation 4/5...\n",
      "2025-03-11 16:23:00,960 - melo_simulator_adapter - INFO - Simulator has 21 agents\n",
      "2025-03-11 16:23:00,960 - melo_simulator_adapter - INFO - Agent IDs in simulator: [0, 1, 2, 3, 4, 5, 6, 7, 8, 9, 10, 11, 12, 13, 14, 15, 16, 17, 18, 19, 20]\n",
      "2025-03-11 16:23:00,960 - melo_simulator_adapter - INFO - Using agent IDs for strategies: [16, 17, 18, 19, 20]\n",
      "2025-03-11 16:23:00,962 - melo_simulator_adapter - INFO - Starting simulation run...\n"
     ]
    },
    {
     "name": "stdout",
     "output_type": "stream",
     "text": [
      "At the end of the simulation we get {0: tensor(-1262.2969), 1: tensor(-911.9008), 2: tensor(0.), 3: tensor(36.9375), 4: tensor(3753.9922), 5: tensor(0.), 6: tensor(0.), 7: tensor(0.), 8: tensor(0.), 9: tensor(0.), 10: tensor(0.), 11: tensor(0.), 12: tensor(0.), 13: tensor(0.), 14: tensor(0.), 15: tensor(0.), 16: tensor(0.), 17: tensor(0.), 18: tensor(0.), 19: tensor(0.), 20: tensor(0.)}\n",
      "MELO_ At the end of the simulation we get {0: 0, 1: 0, 2: 0, 3: 0, 4: 0, 5: 0, 6: 0, 7: 0, 8: 0, 9: 0, 10: 0, 11: 0, 12: 0, 13: 0, 14: 0, 15: 0, 16: 0, 17: 0, 18: 0, 19: 0, 20: 0}\n",
      "At the end of the simulation we get {0: tensor(-1262.2969), 1: tensor(-911.9008), 2: tensor(0.), 3: tensor(36.9375), 4: tensor(3753.9922), 5: tensor(0.), 6: tensor(0.), 7: tensor(0.), 8: tensor(0.), 9: tensor(0.), 10: tensor(0.), 11: tensor(0.), 12: tensor(0.), 13: tensor(0.), 14: tensor(0.), 15: tensor(0.), 16: tensor(0.), 17: tensor(0.), 18: tensor(0.), 19: tensor(0.), 20: tensor(0.)}\n",
      "MELO_ At the end of the simulation we get {0: 0, 1: 0, 2: 0, 3: 0, 4: 0, 5: 0, 6: 0, 7: 0, 8: 0, 9: 0, 10: 0, 11: 0, 12: 0, 13: 0, 14: 0, 15: 0, 16: 0, 17: 0, 18: 0, 19: 0, 20: 0}\n"
     ]
    },
    {
     "name": "stderr",
     "output_type": "stream",
     "text": [
      "2025-03-11 16:23:01,185 - melo_simulator_adapter - INFO - Simulation run completed\n",
      "2025-03-11 16:23:01,185 - melo_simulator_adapter - INFO - Attempting to get end_sim results (new format)...\n",
      "2025-03-11 16:23:01,188 - melo_simulator_adapter - INFO - Got CDA values: {0: tensor(0.), 1: tensor(0.), 2: tensor(0.), 3: tensor(0.), 4: tensor(0.), 5: tensor(0.), 6: tensor(0.), 7: tensor(0.), 8: tensor(0.), 9: tensor(0.), 10: tensor(0.), 11: tensor(0.), 12: tensor(0.), 13: tensor(0.), 14: tensor(0.), 15: tensor(0.), 16: tensor(0.), 17: tensor(0.), 18: tensor(0.), 19: tensor(0.), 20: tensor(0.)}\n",
      "2025-03-11 16:23:01,189 - melo_simulator_adapter - INFO - Got MELO profits: {0: 0, 1: 0, 2: 0, 3: 0, 4: 0, 5: 0, 6: 0, 7: 0, 8: 0, 9: 0, 10: 0, 11: 0, 12: 0, 13: 0, 14: 0, 15: 0, 16: 0, 17: 0, 18: 0, 19: 0, 20: 0}\n",
      "2025-03-11 16:23:01,189 - melo_simulator_adapter - INFO - Total agents: 21\n",
      "2025-03-11 16:23:01,189 - melo_simulator_adapter - INFO - Agent strategies: {16: 'MELO_Only', 17: 'MELO_Only', 18: 'MELO_Only', 19: 'MELO_Only', 20: 'MELO_Only'}\n",
      "2025-03-11 16:23:01,190 - melo_simulator_adapter - INFO - Strategy agent 16 (MELO_Only): CDA=0.00, MELO=0.00, Total=0.00\n",
      "2025-03-11 16:23:01,190 - melo_simulator_adapter - INFO - Strategy agent 17 (MELO_Only): CDA=0.00, MELO=0.00, Total=0.00\n",
      "2025-03-11 16:23:01,190 - melo_simulator_adapter - INFO - Strategy agent 18 (MELO_Only): CDA=0.00, MELO=0.00, Total=0.00\n",
      "2025-03-11 16:23:01,190 - melo_simulator_adapter - INFO - Strategy agent 19 (MELO_Only): CDA=0.00, MELO=0.00, Total=0.00\n",
      "2025-03-11 16:23:01,190 - melo_simulator_adapter - INFO - Strategy agent 20 (MELO_Only): CDA=0.00, MELO=0.00, Total=0.00\n",
      "2025-03-11 16:23:01,191 - melo_simulator_adapter - INFO - Strategy payoffs: {'MELO_Only': 0.0}\n",
      "2025-03-11 16:23:01,191 - melo_simulator_adapter - INFO - Simulation 4 payoffs: {'MELO_Only': 0.0}\n",
      "2025-03-11 16:23:01,191 - melo_simulator_adapter - INFO - Running simulation 5/5...\n",
      "2025-03-11 16:23:01,195 - melo_simulator_adapter - INFO - Simulator has 21 agents\n",
      "2025-03-11 16:23:01,196 - melo_simulator_adapter - INFO - Agent IDs in simulator: [0, 1, 2, 3, 4, 5, 6, 7, 8, 9, 10, 11, 12, 13, 14, 15, 16, 17, 18, 19, 20]\n",
      "2025-03-11 16:23:01,196 - melo_simulator_adapter - INFO - Using agent IDs for strategies: [16, 17, 18, 19, 20]\n",
      "2025-03-11 16:23:01,198 - melo_simulator_adapter - INFO - Starting simulation run...\n"
     ]
    },
    {
     "name": "stdout",
     "output_type": "stream",
     "text": [
      "At the end of the simulation we get {0: tensor(0.), 1: tensor(0.), 2: tensor(0.), 3: tensor(0.), 4: tensor(0.), 5: tensor(0.), 6: tensor(0.), 7: tensor(0.), 8: tensor(0.), 9: tensor(0.), 10: tensor(0.), 11: tensor(0.), 12: tensor(0.), 13: tensor(0.), 14: tensor(0.), 15: tensor(0.), 16: tensor(0.), 17: tensor(0.), 18: tensor(0.), 19: tensor(0.), 20: tensor(0.)}\n",
      "MELO_ At the end of the simulation we get {0: 0, 1: 0, 2: 0, 3: 0, 4: 0, 5: 0, 6: 0, 7: 0, 8: 0, 9: 0, 10: 0, 11: 0, 12: 0, 13: 0, 14: 0, 15: 0, 16: 0, 17: 0, 18: 0, 19: 0, 20: 0}\n",
      "At the end of the simulation we get {0: tensor(0.), 1: tensor(0.), 2: tensor(0.), 3: tensor(0.), 4: tensor(0.), 5: tensor(0.), 6: tensor(0.), 7: tensor(0.), 8: tensor(0.), 9: tensor(0.), 10: tensor(0.), 11: tensor(0.), 12: tensor(0.), 13: tensor(0.), 14: tensor(0.), 15: tensor(0.), 16: tensor(0.), 17: tensor(0.), 18: tensor(0.), 19: tensor(0.), 20: tensor(0.)}\n",
      "MELO_ At the end of the simulation we get {0: 0, 1: 0, 2: 0, 3: 0, 4: 0, 5: 0, 6: 0, 7: 0, 8: 0, 9: 0, 10: 0, 11: 0, 12: 0, 13: 0, 14: 0, 15: 0, 16: 0, 17: 0, 18: 0, 19: 0, 20: 0}\n"
     ]
    },
    {
     "name": "stderr",
     "output_type": "stream",
     "text": [
      "2025-03-11 16:23:01,413 - melo_simulator_adapter - INFO - Simulation run completed\n",
      "2025-03-11 16:23:01,413 - melo_simulator_adapter - INFO - Attempting to get end_sim results (new format)...\n",
      "2025-03-11 16:23:01,416 - melo_simulator_adapter - INFO - Got CDA values: {0: tensor(0.), 1: tensor(2394.8672), 2: tensor(0.), 3: tensor(-251.2084), 4: tensor(-2713.8516), 5: tensor(0.), 6: tensor(0.), 7: tensor(0.), 8: tensor(0.), 9: tensor(0.), 10: tensor(0.), 11: tensor(0.), 12: tensor(0.), 13: tensor(0.), 14: tensor(0.), 15: tensor(0.), 16: tensor(0.), 17: tensor(0.), 18: tensor(0.), 19: tensor(0.), 20: tensor(0.)}\n",
      "2025-03-11 16:23:01,416 - melo_simulator_adapter - INFO - Got MELO profits: {0: 0, 1: 0, 2: 0, 3: 0, 4: 0, 5: 0, 6: 0, 7: 0, 8: 0, 9: 0, 10: 0, 11: 0, 12: 0, 13: 0, 14: 0, 15: 0, 16: 0, 17: 0, 18: 0, 19: 0, 20: 0}\n",
      "2025-03-11 16:23:01,416 - melo_simulator_adapter - INFO - Total agents: 21\n",
      "2025-03-11 16:23:01,416 - melo_simulator_adapter - INFO - Agent strategies: {16: 'MELO_Only', 17: 'MELO_Only', 18: 'MELO_Only', 19: 'MELO_Only', 20: 'MELO_Only'}\n",
      "2025-03-11 16:23:01,416 - melo_simulator_adapter - INFO - Background agent 1 has non-zero profit: CDA=2394.87, MELO=0.00, Total=2394.87\n",
      "2025-03-11 16:23:01,417 - melo_simulator_adapter - INFO - Background agent 3 has non-zero profit: CDA=-251.21, MELO=0.00, Total=-251.21\n",
      "2025-03-11 16:23:01,417 - melo_simulator_adapter - INFO - Background agent 4 has non-zero profit: CDA=-2713.85, MELO=0.00, Total=-2713.85\n",
      "2025-03-11 16:23:01,417 - melo_simulator_adapter - INFO - Strategy agent 16 (MELO_Only): CDA=0.00, MELO=0.00, Total=0.00\n",
      "2025-03-11 16:23:01,418 - melo_simulator_adapter - INFO - Strategy agent 17 (MELO_Only): CDA=0.00, MELO=0.00, Total=0.00\n",
      "2025-03-11 16:23:01,418 - melo_simulator_adapter - INFO - Strategy agent 18 (MELO_Only): CDA=0.00, MELO=0.00, Total=0.00\n",
      "2025-03-11 16:23:01,418 - melo_simulator_adapter - INFO - Strategy agent 19 (MELO_Only): CDA=0.00, MELO=0.00, Total=0.00\n",
      "2025-03-11 16:23:01,419 - melo_simulator_adapter - INFO - Strategy agent 20 (MELO_Only): CDA=0.00, MELO=0.00, Total=0.00\n",
      "2025-03-11 16:23:01,419 - melo_simulator_adapter - INFO - Strategy payoffs: {'MELO_Only': 0.0}\n",
      "2025-03-11 16:23:01,420 - melo_simulator_adapter - INFO - Simulation 5 payoffs: {'MELO_Only': 0.0}\n",
      "2025-03-11 16:23:01,420 - melo_simulator_adapter - INFO - Final average payoffs after 5 simulations: {'MELO_Only': 0.0}\n",
      "2025-03-11 16:23:01,421 - subgame_search - INFO - Profile sampled successfully: {'MELO_Only': 5}, payoffs: {'MELO_Only': 0.0}\n",
      "2025-03-11 16:23:01,421 - subgame_search - INFO - Created full game with 1 profiles\n",
      "2025-03-11 16:23:01,422 - subgame_search - INFO - Successfully sampled profiles for subgame with 1 strategies\n",
      "2025-03-11 16:23:01,422 - subgame_search - INFO - Found single-strategy equilibrium: MELO_Only\n",
      "2025-03-11 16:23:01,423 - subgame_search - INFO - Expected payoff of mixture: 1.000000\n",
      "2025-03-11 16:23:01,424 - subgame_search - INFO - No beneficial deviations found for single-strategy subgame\n",
      "2025-03-11 16:23:01,424 - subgame_search - INFO - Iteration 1: Exploring subgame with strategies ['Balanced']\n",
      "2025-03-11 16:23:01,424 - subgame_search - INFO - Sampling profiles for subgame with strategies ['Balanced']\n",
      "2025-03-11 16:23:01,424 - subgame_search - INFO - Simulating profile: {'Balanced': 5} (attempt 1/3)\n",
      "2025-03-11 16:23:01,425 - melo_simulator_adapter - INFO - Simulating profile: {'Balanced': 5} with parameters: {'lam': 0.05, 'mean': 100000.0, 'r': 0.05, 'shock_var': 5000000.0, 'q_max': 10, 'pv_var': 5000000.0, 'shade': [500, 1000]}\n",
      "2025-03-11 16:23:01,425 - melo_simulator_adapter - INFO - Running simulation 1/5...\n",
      "2025-03-11 16:23:01,431 - melo_simulator_adapter - INFO - Simulator has 21 agents\n",
      "2025-03-11 16:23:01,431 - melo_simulator_adapter - INFO - Agent IDs in simulator: [0, 1, 2, 3, 4, 5, 6, 7, 8, 9, 10, 11, 12, 13, 14, 15, 16, 17, 18, 19, 20]\n",
      "2025-03-11 16:23:01,432 - melo_simulator_adapter - INFO - Using agent IDs for strategies: [16, 17, 18, 19, 20]\n",
      "2025-03-11 16:23:01,432 - melo_simulator_adapter - INFO - Starting simulation run...\n"
     ]
    },
    {
     "name": "stdout",
     "output_type": "stream",
     "text": [
      "At the end of the simulation we get {0: tensor(0.), 1: tensor(2394.8672), 2: tensor(0.), 3: tensor(-251.2084), 4: tensor(-2713.8516), 5: tensor(0.), 6: tensor(0.), 7: tensor(0.), 8: tensor(0.), 9: tensor(0.), 10: tensor(0.), 11: tensor(0.), 12: tensor(0.), 13: tensor(0.), 14: tensor(0.), 15: tensor(0.), 16: tensor(0.), 17: tensor(0.), 18: tensor(0.), 19: tensor(0.), 20: tensor(0.)}\n",
      "MELO_ At the end of the simulation we get {0: 0, 1: 0, 2: 0, 3: 0, 4: 0, 5: 0, 6: 0, 7: 0, 8: 0, 9: 0, 10: 0, 11: 0, 12: 0, 13: 0, 14: 0, 15: 0, 16: 0, 17: 0, 18: 0, 19: 0, 20: 0}\n",
      "At the end of the simulation we get {0: tensor(0.), 1: tensor(2394.8672), 2: tensor(0.), 3: tensor(-251.2084), 4: tensor(-2713.8516), 5: tensor(0.), 6: tensor(0.), 7: tensor(0.), 8: tensor(0.), 9: tensor(0.), 10: tensor(0.), 11: tensor(0.), 12: tensor(0.), 13: tensor(0.), 14: tensor(0.), 15: tensor(0.), 16: tensor(0.), 17: tensor(0.), 18: tensor(0.), 19: tensor(0.), 20: tensor(0.)}\n",
      "MELO_ At the end of the simulation we get {0: 0, 1: 0, 2: 0, 3: 0, 4: 0, 5: 0, 6: 0, 7: 0, 8: 0, 9: 0, 10: 0, 11: 0, 12: 0, 13: 0, 14: 0, 15: 0, 16: 0, 17: 0, 18: 0, 19: 0, 20: 0}\n"
     ]
    },
    {
     "name": "stderr",
     "output_type": "stream",
     "text": [
      "2025-03-11 16:23:01,686 - melo_simulator_adapter - INFO - Simulation run completed\n",
      "2025-03-11 16:23:01,686 - melo_simulator_adapter - INFO - Attempting to get end_sim results (new format)...\n",
      "2025-03-11 16:23:01,689 - melo_simulator_adapter - INFO - Got CDA values: {0: tensor(12190.7188), 1: tensor(2397.5547), 2: tensor(-8628.7812), 3: tensor(-3062.6328), 4: tensor(886.5881), 5: tensor(0.), 6: tensor(0.), 7: tensor(0.), 8: tensor(0.), 9: tensor(0.), 10: tensor(0.), 11: tensor(0.), 12: tensor(0.), 13: tensor(0.), 14: tensor(0.), 15: tensor(0.), 16: tensor(0.), 17: tensor(0.), 18: tensor(0.), 19: tensor(0.), 20: tensor(0.)}\n",
      "2025-03-11 16:23:01,689 - melo_simulator_adapter - INFO - Got MELO profits: {0: 0, 1: 0, 2: 0, 3: 0, 4: 0, 5: 0, 6: 0, 7: 0, 8: 0, 9: 0, 10: 0, 11: 0, 12: 0, 13: 0, 14: 0, 15: 0, 16: 0, 17: 0, 18: 0, 19: 0, 20: 0}\n",
      "2025-03-11 16:23:01,689 - melo_simulator_adapter - INFO - Total agents: 21\n",
      "2025-03-11 16:23:01,690 - melo_simulator_adapter - INFO - Agent strategies: {16: 'Balanced', 17: 'Balanced', 18: 'Balanced', 19: 'Balanced', 20: 'Balanced'}\n",
      "2025-03-11 16:23:01,690 - melo_simulator_adapter - INFO - Background agent 0 has non-zero profit: CDA=12190.72, MELO=0.00, Total=12190.72\n",
      "2025-03-11 16:23:01,690 - melo_simulator_adapter - INFO - Background agent 1 has non-zero profit: CDA=2397.55, MELO=0.00, Total=2397.55\n",
      "2025-03-11 16:23:01,690 - melo_simulator_adapter - INFO - Background agent 2 has non-zero profit: CDA=-8628.78, MELO=0.00, Total=-8628.78\n",
      "2025-03-11 16:23:01,690 - melo_simulator_adapter - INFO - Background agent 3 has non-zero profit: CDA=-3062.63, MELO=0.00, Total=-3062.63\n",
      "2025-03-11 16:23:01,690 - melo_simulator_adapter - INFO - Background agent 4 has non-zero profit: CDA=886.59, MELO=0.00, Total=886.59\n",
      "2025-03-11 16:23:01,691 - melo_simulator_adapter - INFO - Strategy agent 16 (Balanced): CDA=0.00, MELO=0.00, Total=0.00\n",
      "2025-03-11 16:23:01,691 - melo_simulator_adapter - INFO - Strategy agent 17 (Balanced): CDA=0.00, MELO=0.00, Total=0.00\n",
      "2025-03-11 16:23:01,691 - melo_simulator_adapter - INFO - Strategy agent 18 (Balanced): CDA=0.00, MELO=0.00, Total=0.00\n",
      "2025-03-11 16:23:01,691 - melo_simulator_adapter - INFO - Strategy agent 19 (Balanced): CDA=0.00, MELO=0.00, Total=0.00\n",
      "2025-03-11 16:23:01,691 - melo_simulator_adapter - INFO - Strategy agent 20 (Balanced): CDA=0.00, MELO=0.00, Total=0.00\n",
      "2025-03-11 16:23:01,692 - melo_simulator_adapter - INFO - Strategy payoffs: {'Balanced': 0.0}\n",
      "2025-03-11 16:23:01,692 - melo_simulator_adapter - INFO - Simulation 1 payoffs: {'Balanced': 0.0}\n",
      "2025-03-11 16:23:01,692 - melo_simulator_adapter - INFO - Running simulation 2/5...\n",
      "2025-03-11 16:23:01,697 - melo_simulator_adapter - INFO - Simulator has 21 agents\n",
      "2025-03-11 16:23:01,697 - melo_simulator_adapter - INFO - Agent IDs in simulator: [0, 1, 2, 3, 4, 5, 6, 7, 8, 9, 10, 11, 12, 13, 14, 15, 16, 17, 18, 19, 20]\n",
      "2025-03-11 16:23:01,697 - melo_simulator_adapter - INFO - Using agent IDs for strategies: [16, 17, 18, 19, 20]\n",
      "2025-03-11 16:23:01,699 - melo_simulator_adapter - INFO - Starting simulation run...\n"
     ]
    },
    {
     "name": "stdout",
     "output_type": "stream",
     "text": [
      "At the end of the simulation we get {0: tensor(12190.7188), 1: tensor(2397.5547), 2: tensor(-8628.7812), 3: tensor(-3062.6328), 4: tensor(886.5881), 5: tensor(0.), 6: tensor(0.), 7: tensor(0.), 8: tensor(0.), 9: tensor(0.), 10: tensor(0.), 11: tensor(0.), 12: tensor(0.), 13: tensor(0.), 14: tensor(0.), 15: tensor(0.), 16: tensor(0.), 17: tensor(0.), 18: tensor(0.), 19: tensor(0.), 20: tensor(0.)}\n",
      "MELO_ At the end of the simulation we get {0: 0, 1: 0, 2: 0, 3: 0, 4: 0, 5: 0, 6: 0, 7: 0, 8: 0, 9: 0, 10: 0, 11: 0, 12: 0, 13: 0, 14: 0, 15: 0, 16: 0, 17: 0, 18: 0, 19: 0, 20: 0}\n",
      "At the end of the simulation we get {0: tensor(12190.7188), 1: tensor(2397.5547), 2: tensor(-8628.7812), 3: tensor(-3062.6328), 4: tensor(886.5881), 5: tensor(0.), 6: tensor(0.), 7: tensor(0.), 8: tensor(0.), 9: tensor(0.), 10: tensor(0.), 11: tensor(0.), 12: tensor(0.), 13: tensor(0.), 14: tensor(0.), 15: tensor(0.), 16: tensor(0.), 17: tensor(0.), 18: tensor(0.), 19: tensor(0.), 20: tensor(0.)}\n",
      "MELO_ At the end of the simulation we get {0: 0, 1: 0, 2: 0, 3: 0, 4: 0, 5: 0, 6: 0, 7: 0, 8: 0, 9: 0, 10: 0, 11: 0, 12: 0, 13: 0, 14: 0, 15: 0, 16: 0, 17: 0, 18: 0, 19: 0, 20: 0}\n"
     ]
    },
    {
     "name": "stderr",
     "output_type": "stream",
     "text": [
      "2025-03-11 16:23:01,909 - melo_simulator_adapter - INFO - Simulation run completed\n",
      "2025-03-11 16:23:01,910 - melo_simulator_adapter - INFO - Attempting to get end_sim results (new format)...\n",
      "2025-03-11 16:23:01,912 - melo_simulator_adapter - INFO - Got CDA values: {0: tensor(0.), 1: tensor(-4582.7734), 2: tensor(0.), 3: tensor(0.), 4: tensor(4310.3281), 5: tensor(0.), 6: tensor(0.), 7: tensor(0.), 8: tensor(0.), 9: tensor(0.), 10: tensor(0.), 11: tensor(0.), 12: tensor(0.), 13: tensor(0.), 14: tensor(0.), 15: tensor(0.), 16: tensor(0.), 17: tensor(0.), 18: tensor(0.), 19: tensor(0.), 20: tensor(0.)}\n",
      "2025-03-11 16:23:01,913 - melo_simulator_adapter - INFO - Got MELO profits: {0: 0, 1: 0, 2: 0, 3: 0, 4: 0, 5: 0, 6: 0, 7: 0, 8: 0, 9: 0, 10: 0, 11: 0, 12: 0, 13: 0, 14: 0, 15: 0, 16: 0, 17: 0, 18: 0, 19: 0, 20: 0}\n",
      "2025-03-11 16:23:01,913 - melo_simulator_adapter - INFO - Total agents: 21\n",
      "2025-03-11 16:23:01,913 - melo_simulator_adapter - INFO - Agent strategies: {16: 'Balanced', 17: 'Balanced', 18: 'Balanced', 19: 'Balanced', 20: 'Balanced'}\n",
      "2025-03-11 16:23:01,913 - melo_simulator_adapter - INFO - Background agent 1 has non-zero profit: CDA=-4582.77, MELO=0.00, Total=-4582.77\n",
      "2025-03-11 16:23:01,913 - melo_simulator_adapter - INFO - Background agent 4 has non-zero profit: CDA=4310.33, MELO=0.00, Total=4310.33\n",
      "2025-03-11 16:23:01,914 - melo_simulator_adapter - INFO - Strategy agent 16 (Balanced): CDA=0.00, MELO=0.00, Total=0.00\n",
      "2025-03-11 16:23:01,914 - melo_simulator_adapter - INFO - Strategy agent 17 (Balanced): CDA=0.00, MELO=0.00, Total=0.00\n",
      "2025-03-11 16:23:01,914 - melo_simulator_adapter - INFO - Strategy agent 18 (Balanced): CDA=0.00, MELO=0.00, Total=0.00\n",
      "2025-03-11 16:23:01,914 - melo_simulator_adapter - INFO - Strategy agent 19 (Balanced): CDA=0.00, MELO=0.00, Total=0.00\n",
      "2025-03-11 16:23:01,915 - melo_simulator_adapter - INFO - Strategy agent 20 (Balanced): CDA=0.00, MELO=0.00, Total=0.00\n",
      "2025-03-11 16:23:01,915 - melo_simulator_adapter - INFO - Strategy payoffs: {'Balanced': 0.0}\n",
      "2025-03-11 16:23:01,915 - melo_simulator_adapter - INFO - Simulation 2 payoffs: {'Balanced': 0.0}\n",
      "2025-03-11 16:23:01,915 - melo_simulator_adapter - INFO - Running simulation 3/5...\n",
      "2025-03-11 16:23:01,919 - melo_simulator_adapter - INFO - Simulator has 21 agents\n",
      "2025-03-11 16:23:01,919 - melo_simulator_adapter - INFO - Agent IDs in simulator: [0, 1, 2, 3, 4, 5, 6, 7, 8, 9, 10, 11, 12, 13, 14, 15, 16, 17, 18, 19, 20]\n",
      "2025-03-11 16:23:01,920 - melo_simulator_adapter - INFO - Using agent IDs for strategies: [16, 17, 18, 19, 20]\n",
      "2025-03-11 16:23:01,921 - melo_simulator_adapter - INFO - Starting simulation run...\n"
     ]
    },
    {
     "name": "stdout",
     "output_type": "stream",
     "text": [
      "At the end of the simulation we get {0: tensor(0.), 1: tensor(-4582.7734), 2: tensor(0.), 3: tensor(0.), 4: tensor(4310.3281), 5: tensor(0.), 6: tensor(0.), 7: tensor(0.), 8: tensor(0.), 9: tensor(0.), 10: tensor(0.), 11: tensor(0.), 12: tensor(0.), 13: tensor(0.), 14: tensor(0.), 15: tensor(0.), 16: tensor(0.), 17: tensor(0.), 18: tensor(0.), 19: tensor(0.), 20: tensor(0.)}\n",
      "MELO_ At the end of the simulation we get {0: 0, 1: 0, 2: 0, 3: 0, 4: 0, 5: 0, 6: 0, 7: 0, 8: 0, 9: 0, 10: 0, 11: 0, 12: 0, 13: 0, 14: 0, 15: 0, 16: 0, 17: 0, 18: 0, 19: 0, 20: 0}\n",
      "At the end of the simulation we get {0: tensor(0.), 1: tensor(-4582.7734), 2: tensor(0.), 3: tensor(0.), 4: tensor(4310.3281), 5: tensor(0.), 6: tensor(0.), 7: tensor(0.), 8: tensor(0.), 9: tensor(0.), 10: tensor(0.), 11: tensor(0.), 12: tensor(0.), 13: tensor(0.), 14: tensor(0.), 15: tensor(0.), 16: tensor(0.), 17: tensor(0.), 18: tensor(0.), 19: tensor(0.), 20: tensor(0.)}\n",
      "MELO_ At the end of the simulation we get {0: 0, 1: 0, 2: 0, 3: 0, 4: 0, 5: 0, 6: 0, 7: 0, 8: 0, 9: 0, 10: 0, 11: 0, 12: 0, 13: 0, 14: 0, 15: 0, 16: 0, 17: 0, 18: 0, 19: 0, 20: 0}\n"
     ]
    },
    {
     "name": "stderr",
     "output_type": "stream",
     "text": [
      "2025-03-11 16:23:02,124 - melo_simulator_adapter - INFO - Simulation run completed\n",
      "2025-03-11 16:23:02,124 - melo_simulator_adapter - INFO - Attempting to get end_sim results (new format)...\n",
      "2025-03-11 16:23:02,128 - melo_simulator_adapter - INFO - Got CDA values: {0: tensor(-18336.7812), 1: tensor(31739.0938), 2: tensor(-9711.6641), 3: tensor(0.), 4: tensor(0.), 5: tensor(0.), 6: tensor(0.), 7: tensor(0.), 8: tensor(0.), 9: tensor(0.), 10: tensor(0.), 11: tensor(0.), 12: tensor(0.), 13: tensor(0.), 14: tensor(0.), 15: tensor(0.), 16: tensor(0.), 17: tensor(0.), 18: tensor(0.), 19: tensor(0.), 20: tensor(0.)}\n",
      "2025-03-11 16:23:02,128 - melo_simulator_adapter - INFO - Got MELO profits: {0: 0, 1: 0, 2: 0, 3: 0, 4: 0, 5: 0, 6: 0, 7: 0, 8: 0, 9: 0, 10: 0, 11: 0, 12: 0, 13: 0, 14: 0, 15: 0, 16: 0, 17: 0, 18: 0, 19: 0, 20: 0}\n",
      "2025-03-11 16:23:02,128 - melo_simulator_adapter - INFO - Total agents: 21\n",
      "2025-03-11 16:23:02,128 - melo_simulator_adapter - INFO - Agent strategies: {16: 'Balanced', 17: 'Balanced', 18: 'Balanced', 19: 'Balanced', 20: 'Balanced'}\n",
      "2025-03-11 16:23:02,129 - melo_simulator_adapter - INFO - Background agent 0 has non-zero profit: CDA=-18336.78, MELO=0.00, Total=-18336.78\n",
      "2025-03-11 16:23:02,129 - melo_simulator_adapter - INFO - Background agent 1 has non-zero profit: CDA=31739.09, MELO=0.00, Total=31739.09\n",
      "2025-03-11 16:23:02,129 - melo_simulator_adapter - INFO - Background agent 2 has non-zero profit: CDA=-9711.66, MELO=0.00, Total=-9711.66\n",
      "2025-03-11 16:23:02,129 - melo_simulator_adapter - INFO - Strategy agent 16 (Balanced): CDA=0.00, MELO=0.00, Total=0.00\n",
      "2025-03-11 16:23:02,130 - melo_simulator_adapter - INFO - Strategy agent 17 (Balanced): CDA=0.00, MELO=0.00, Total=0.00\n",
      "2025-03-11 16:23:02,130 - melo_simulator_adapter - INFO - Strategy agent 18 (Balanced): CDA=0.00, MELO=0.00, Total=0.00\n",
      "2025-03-11 16:23:02,130 - melo_simulator_adapter - INFO - Strategy agent 19 (Balanced): CDA=0.00, MELO=0.00, Total=0.00\n",
      "2025-03-11 16:23:02,130 - melo_simulator_adapter - INFO - Strategy agent 20 (Balanced): CDA=0.00, MELO=0.00, Total=0.00\n",
      "2025-03-11 16:23:02,131 - melo_simulator_adapter - INFO - Strategy payoffs: {'Balanced': 0.0}\n",
      "2025-03-11 16:23:02,131 - melo_simulator_adapter - INFO - Simulation 3 payoffs: {'Balanced': 0.0}\n",
      "2025-03-11 16:23:02,131 - melo_simulator_adapter - INFO - Running simulation 4/5...\n",
      "2025-03-11 16:23:02,136 - melo_simulator_adapter - INFO - Simulator has 21 agents\n",
      "2025-03-11 16:23:02,137 - melo_simulator_adapter - INFO - Agent IDs in simulator: [0, 1, 2, 3, 4, 5, 6, 7, 8, 9, 10, 11, 12, 13, 14, 15, 16, 17, 18, 19, 20]\n",
      "2025-03-11 16:23:02,137 - melo_simulator_adapter - INFO - Using agent IDs for strategies: [16, 17, 18, 19, 20]\n",
      "2025-03-11 16:23:02,138 - melo_simulator_adapter - INFO - Starting simulation run...\n"
     ]
    },
    {
     "name": "stdout",
     "output_type": "stream",
     "text": [
      "At the end of the simulation we get {0: tensor(-18336.7812), 1: tensor(31739.0938), 2: tensor(-9711.6641), 3: tensor(0.), 4: tensor(0.), 5: tensor(0.), 6: tensor(0.), 7: tensor(0.), 8: tensor(0.), 9: tensor(0.), 10: tensor(0.), 11: tensor(0.), 12: tensor(0.), 13: tensor(0.), 14: tensor(0.), 15: tensor(0.), 16: tensor(0.), 17: tensor(0.), 18: tensor(0.), 19: tensor(0.), 20: tensor(0.)}\n",
      "MELO_ At the end of the simulation we get {0: 0, 1: 0, 2: 0, 3: 0, 4: 0, 5: 0, 6: 0, 7: 0, 8: 0, 9: 0, 10: 0, 11: 0, 12: 0, 13: 0, 14: 0, 15: 0, 16: 0, 17: 0, 18: 0, 19: 0, 20: 0}\n",
      "At the end of the simulation we get {0: tensor(-18336.7812), 1: tensor(31739.0938), 2: tensor(-9711.6641), 3: tensor(0.), 4: tensor(0.), 5: tensor(0.), 6: tensor(0.), 7: tensor(0.), 8: tensor(0.), 9: tensor(0.), 10: tensor(0.), 11: tensor(0.), 12: tensor(0.), 13: tensor(0.), 14: tensor(0.), 15: tensor(0.), 16: tensor(0.), 17: tensor(0.), 18: tensor(0.), 19: tensor(0.), 20: tensor(0.)}\n",
      "MELO_ At the end of the simulation we get {0: 0, 1: 0, 2: 0, 3: 0, 4: 0, 5: 0, 6: 0, 7: 0, 8: 0, 9: 0, 10: 0, 11: 0, 12: 0, 13: 0, 14: 0, 15: 0, 16: 0, 17: 0, 18: 0, 19: 0, 20: 0}\n"
     ]
    },
    {
     "name": "stderr",
     "output_type": "stream",
     "text": [
      "2025-03-11 16:23:02,345 - melo_simulator_adapter - INFO - Simulation run completed\n",
      "2025-03-11 16:23:02,346 - melo_simulator_adapter - INFO - Attempting to get end_sim results (new format)...\n",
      "2025-03-11 16:23:02,349 - melo_simulator_adapter - INFO - Got CDA values: {0: tensor(5429.4844), 1: tensor(0.), 2: tensor(5505.8047), 3: tensor(-4301.3516), 4: tensor(-5151.4844), 5: tensor(0.), 6: tensor(0.), 7: tensor(0.), 8: tensor(0.), 9: tensor(0.), 10: tensor(0.), 11: tensor(0.), 12: tensor(0.), 13: tensor(0.), 14: tensor(0.), 15: tensor(0.), 16: tensor(0.), 17: tensor(0.), 18: tensor(0.), 19: tensor(0.), 20: tensor(0.)}\n",
      "2025-03-11 16:23:02,349 - melo_simulator_adapter - INFO - Got MELO profits: {0: 0, 1: 0, 2: 0, 3: 0, 4: 0, 5: 0, 6: 0, 7: 0, 8: 0, 9: 0, 10: 0, 11: 0, 12: 0, 13: 0, 14: 0, 15: 0, 16: 0, 17: 0, 18: 0, 19: 0, 20: 0}\n",
      "2025-03-11 16:23:02,349 - melo_simulator_adapter - INFO - Total agents: 21\n",
      "2025-03-11 16:23:02,350 - melo_simulator_adapter - INFO - Agent strategies: {16: 'Balanced', 17: 'Balanced', 18: 'Balanced', 19: 'Balanced', 20: 'Balanced'}\n",
      "2025-03-11 16:23:02,350 - melo_simulator_adapter - INFO - Background agent 0 has non-zero profit: CDA=5429.48, MELO=0.00, Total=5429.48\n",
      "2025-03-11 16:23:02,350 - melo_simulator_adapter - INFO - Background agent 2 has non-zero profit: CDA=5505.80, MELO=0.00, Total=5505.80\n",
      "2025-03-11 16:23:02,350 - melo_simulator_adapter - INFO - Background agent 3 has non-zero profit: CDA=-4301.35, MELO=0.00, Total=-4301.35\n",
      "2025-03-11 16:23:02,351 - melo_simulator_adapter - INFO - Background agent 4 has non-zero profit: CDA=-5151.48, MELO=0.00, Total=-5151.48\n",
      "2025-03-11 16:23:02,351 - melo_simulator_adapter - INFO - Strategy agent 16 (Balanced): CDA=0.00, MELO=0.00, Total=0.00\n",
      "2025-03-11 16:23:02,352 - melo_simulator_adapter - INFO - Strategy agent 17 (Balanced): CDA=0.00, MELO=0.00, Total=0.00\n",
      "2025-03-11 16:23:02,352 - melo_simulator_adapter - INFO - Strategy agent 18 (Balanced): CDA=0.00, MELO=0.00, Total=0.00\n",
      "2025-03-11 16:23:02,352 - melo_simulator_adapter - INFO - Strategy agent 19 (Balanced): CDA=0.00, MELO=0.00, Total=0.00\n",
      "2025-03-11 16:23:02,352 - melo_simulator_adapter - INFO - Strategy agent 20 (Balanced): CDA=0.00, MELO=0.00, Total=0.00\n",
      "2025-03-11 16:23:02,353 - melo_simulator_adapter - INFO - Strategy payoffs: {'Balanced': 0.0}\n",
      "2025-03-11 16:23:02,353 - melo_simulator_adapter - INFO - Simulation 4 payoffs: {'Balanced': 0.0}\n",
      "2025-03-11 16:23:02,353 - melo_simulator_adapter - INFO - Running simulation 5/5...\n",
      "2025-03-11 16:23:02,357 - melo_simulator_adapter - INFO - Simulator has 21 agents\n",
      "2025-03-11 16:23:02,358 - melo_simulator_adapter - INFO - Agent IDs in simulator: [0, 1, 2, 3, 4, 5, 6, 7, 8, 9, 10, 11, 12, 13, 14, 15, 16, 17, 18, 19, 20]\n",
      "2025-03-11 16:23:02,358 - melo_simulator_adapter - INFO - Using agent IDs for strategies: [16, 17, 18, 19, 20]\n",
      "2025-03-11 16:23:02,359 - melo_simulator_adapter - INFO - Starting simulation run...\n"
     ]
    },
    {
     "name": "stdout",
     "output_type": "stream",
     "text": [
      "At the end of the simulation we get {0: tensor(5429.4844), 1: tensor(0.), 2: tensor(5505.8047), 3: tensor(-4301.3516), 4: tensor(-5151.4844), 5: tensor(0.), 6: tensor(0.), 7: tensor(0.), 8: tensor(0.), 9: tensor(0.), 10: tensor(0.), 11: tensor(0.), 12: tensor(0.), 13: tensor(0.), 14: tensor(0.), 15: tensor(0.), 16: tensor(0.), 17: tensor(0.), 18: tensor(0.), 19: tensor(0.), 20: tensor(0.)}\n",
      "MELO_ At the end of the simulation we get {0: 0, 1: 0, 2: 0, 3: 0, 4: 0, 5: 0, 6: 0, 7: 0, 8: 0, 9: 0, 10: 0, 11: 0, 12: 0, 13: 0, 14: 0, 15: 0, 16: 0, 17: 0, 18: 0, 19: 0, 20: 0}\n",
      "At the end of the simulation we get {0: tensor(5429.4844), 1: tensor(0.), 2: tensor(5505.8047), 3: tensor(-4301.3516), 4: tensor(-5151.4844), 5: tensor(0.), 6: tensor(0.), 7: tensor(0.), 8: tensor(0.), 9: tensor(0.), 10: tensor(0.), 11: tensor(0.), 12: tensor(0.), 13: tensor(0.), 14: tensor(0.), 15: tensor(0.), 16: tensor(0.), 17: tensor(0.), 18: tensor(0.), 19: tensor(0.), 20: tensor(0.)}\n",
      "MELO_ At the end of the simulation we get {0: 0, 1: 0, 2: 0, 3: 0, 4: 0, 5: 0, 6: 0, 7: 0, 8: 0, 9: 0, 10: 0, 11: 0, 12: 0, 13: 0, 14: 0, 15: 0, 16: 0, 17: 0, 18: 0, 19: 0, 20: 0}\n"
     ]
    },
    {
     "name": "stderr",
     "output_type": "stream",
     "text": [
      "2025-03-11 16:23:02,617 - melo_simulator_adapter - INFO - Simulation run completed\n",
      "2025-03-11 16:23:02,617 - melo_simulator_adapter - INFO - Attempting to get end_sim results (new format)...\n",
      "2025-03-11 16:23:02,620 - melo_simulator_adapter - INFO - Got CDA values: {0: tensor(-30.1072), 1: tensor(741.9705), 2: tensor(-3173.7341), 3: tensor(4675.1719), 4: tensor(-2093.0859), 5: tensor(0.), 6: tensor(0.), 7: tensor(0.), 8: tensor(0.), 9: tensor(0.), 10: tensor(0.), 11: tensor(0.), 12: tensor(0.), 13: tensor(0.), 14: tensor(0.), 15: tensor(0.), 16: tensor(0.), 17: tensor(0.), 18: tensor(0.), 19: tensor(0.), 20: tensor(0.)}\n",
      "2025-03-11 16:23:02,621 - melo_simulator_adapter - INFO - Got MELO profits: {0: 0, 1: 0, 2: 0, 3: 0, 4: 0, 5: 0, 6: 0, 7: 0, 8: 0, 9: 0, 10: 0, 11: 0, 12: 0, 13: 0, 14: 0, 15: 0, 16: 0, 17: 0, 18: 0, 19: 0, 20: 0}\n",
      "2025-03-11 16:23:02,621 - melo_simulator_adapter - INFO - Total agents: 21\n",
      "2025-03-11 16:23:02,621 - melo_simulator_adapter - INFO - Agent strategies: {16: 'Balanced', 17: 'Balanced', 18: 'Balanced', 19: 'Balanced', 20: 'Balanced'}\n",
      "2025-03-11 16:23:02,621 - melo_simulator_adapter - INFO - Background agent 0 has non-zero profit: CDA=-30.11, MELO=0.00, Total=-30.11\n",
      "2025-03-11 16:23:02,621 - melo_simulator_adapter - INFO - Background agent 1 has non-zero profit: CDA=741.97, MELO=0.00, Total=741.97\n",
      "2025-03-11 16:23:02,621 - melo_simulator_adapter - INFO - Background agent 2 has non-zero profit: CDA=-3173.73, MELO=0.00, Total=-3173.73\n",
      "2025-03-11 16:23:02,622 - melo_simulator_adapter - INFO - Background agent 3 has non-zero profit: CDA=4675.17, MELO=0.00, Total=4675.17\n",
      "2025-03-11 16:23:02,622 - melo_simulator_adapter - INFO - Background agent 4 has non-zero profit: CDA=-2093.09, MELO=0.00, Total=-2093.09\n",
      "2025-03-11 16:23:02,622 - melo_simulator_adapter - INFO - Strategy agent 16 (Balanced): CDA=0.00, MELO=0.00, Total=0.00\n",
      "2025-03-11 16:23:02,622 - melo_simulator_adapter - INFO - Strategy agent 17 (Balanced): CDA=0.00, MELO=0.00, Total=0.00\n",
      "2025-03-11 16:23:02,623 - melo_simulator_adapter - INFO - Strategy agent 18 (Balanced): CDA=0.00, MELO=0.00, Total=0.00\n",
      "2025-03-11 16:23:02,623 - melo_simulator_adapter - INFO - Strategy agent 19 (Balanced): CDA=0.00, MELO=0.00, Total=0.00\n",
      "2025-03-11 16:23:02,623 - melo_simulator_adapter - INFO - Strategy agent 20 (Balanced): CDA=0.00, MELO=0.00, Total=0.00\n",
      "2025-03-11 16:23:02,623 - melo_simulator_adapter - INFO - Strategy payoffs: {'Balanced': 0.0}\n",
      "2025-03-11 16:23:02,623 - melo_simulator_adapter - INFO - Simulation 5 payoffs: {'Balanced': 0.0}\n",
      "2025-03-11 16:23:02,624 - melo_simulator_adapter - INFO - Final average payoffs after 5 simulations: {'Balanced': 0.0}\n",
      "2025-03-11 16:23:02,625 - subgame_search - INFO - Profile sampled successfully: {'Balanced': 5}, payoffs: {'Balanced': 0.0}\n",
      "2025-03-11 16:23:02,626 - subgame_search - INFO - Updated full game with new profile data\n",
      "2025-03-11 16:23:02,626 - subgame_search - INFO - Successfully sampled profiles for subgame with 1 strategies\n",
      "2025-03-11 16:23:02,627 - subgame_search - INFO - Found single-strategy equilibrium: Balanced\n",
      "2025-03-11 16:23:02,628 - subgame_search - INFO - Expected payoff of mixture: 0.000000\n",
      "2025-03-11 16:23:02,630 - subgame_search - INFO - No beneficial deviations found for single-strategy subgame\n",
      "2025-03-11 16:23:02,630 - subgame_search - INFO - Iteration 2: Exploring subgame with strategies ['CDA_Biased']\n",
      "2025-03-11 16:23:02,631 - subgame_search - INFO - Sampling profiles for subgame with strategies ['CDA_Biased']\n",
      "2025-03-11 16:23:02,631 - subgame_search - INFO - Simulating profile: {'CDA_Biased': 5} (attempt 1/3)\n",
      "2025-03-11 16:23:02,631 - melo_simulator_adapter - INFO - Simulating profile: {'CDA_Biased': 5} with parameters: {'lam': 0.05, 'mean': 100000.0, 'r': 0.05, 'shock_var': 5000000.0, 'q_max': 10, 'pv_var': 5000000.0, 'shade': [500, 1000]}\n",
      "2025-03-11 16:23:02,632 - melo_simulator_adapter - INFO - Running simulation 1/5...\n",
      "2025-03-11 16:23:02,636 - melo_simulator_adapter - INFO - Simulator has 21 agents\n",
      "2025-03-11 16:23:02,637 - melo_simulator_adapter - INFO - Agent IDs in simulator: [0, 1, 2, 3, 4, 5, 6, 7, 8, 9, 10, 11, 12, 13, 14, 15, 16, 17, 18, 19, 20]\n",
      "2025-03-11 16:23:02,637 - melo_simulator_adapter - INFO - Using agent IDs for strategies: [16, 17, 18, 19, 20]\n",
      "2025-03-11 16:23:02,637 - melo_simulator_adapter - INFO - Starting simulation run...\n"
     ]
    },
    {
     "name": "stdout",
     "output_type": "stream",
     "text": [
      "At the end of the simulation we get {0: tensor(-30.1072), 1: tensor(741.9705), 2: tensor(-3173.7341), 3: tensor(4675.1719), 4: tensor(-2093.0859), 5: tensor(0.), 6: tensor(0.), 7: tensor(0.), 8: tensor(0.), 9: tensor(0.), 10: tensor(0.), 11: tensor(0.), 12: tensor(0.), 13: tensor(0.), 14: tensor(0.), 15: tensor(0.), 16: tensor(0.), 17: tensor(0.), 18: tensor(0.), 19: tensor(0.), 20: tensor(0.)}\n",
      "MELO_ At the end of the simulation we get {0: 0, 1: 0, 2: 0, 3: 0, 4: 0, 5: 0, 6: 0, 7: 0, 8: 0, 9: 0, 10: 0, 11: 0, 12: 0, 13: 0, 14: 0, 15: 0, 16: 0, 17: 0, 18: 0, 19: 0, 20: 0}\n",
      "At the end of the simulation we get {0: tensor(-30.1072), 1: tensor(741.9705), 2: tensor(-3173.7341), 3: tensor(4675.1719), 4: tensor(-2093.0859), 5: tensor(0.), 6: tensor(0.), 7: tensor(0.), 8: tensor(0.), 9: tensor(0.), 10: tensor(0.), 11: tensor(0.), 12: tensor(0.), 13: tensor(0.), 14: tensor(0.), 15: tensor(0.), 16: tensor(0.), 17: tensor(0.), 18: tensor(0.), 19: tensor(0.), 20: tensor(0.)}\n",
      "MELO_ At the end of the simulation we get {0: 0, 1: 0, 2: 0, 3: 0, 4: 0, 5: 0, 6: 0, 7: 0, 8: 0, 9: 0, 10: 0, 11: 0, 12: 0, 13: 0, 14: 0, 15: 0, 16: 0, 17: 0, 18: 0, 19: 0, 20: 0}\n"
     ]
    },
    {
     "name": "stderr",
     "output_type": "stream",
     "text": [
      "2025-03-11 16:23:02,852 - melo_simulator_adapter - INFO - Simulation run completed\n",
      "2025-03-11 16:23:02,852 - melo_simulator_adapter - INFO - Attempting to get end_sim results (new format)...\n",
      "2025-03-11 16:23:02,855 - melo_simulator_adapter - INFO - Got CDA values: {0: tensor(0.), 1: tensor(-9.8256), 2: tensor(-5406.2578), 3: tensor(0.), 4: tensor(4866.8281), 5: tensor(0.), 6: tensor(0.), 7: tensor(0.), 8: tensor(0.), 9: tensor(0.), 10: tensor(0.), 11: tensor(0.), 12: tensor(0.), 13: tensor(0.), 14: tensor(0.), 15: tensor(0.), 16: tensor(0.), 17: tensor(0.), 18: tensor(0.), 19: tensor(0.), 20: tensor(0.)}\n",
      "2025-03-11 16:23:02,855 - melo_simulator_adapter - INFO - Got MELO profits: {0: 0, 1: 0, 2: 0, 3: 0, 4: 0, 5: 0, 6: 0, 7: 0, 8: 0, 9: 0, 10: 0, 11: 0, 12: 0, 13: 0, 14: 0, 15: 0, 16: 0, 17: 0, 18: 0, 19: 0, 20: 0}\n",
      "2025-03-11 16:23:02,855 - melo_simulator_adapter - INFO - Total agents: 21\n",
      "2025-03-11 16:23:02,855 - melo_simulator_adapter - INFO - Agent strategies: {16: 'CDA_Biased', 17: 'CDA_Biased', 18: 'CDA_Biased', 19: 'CDA_Biased', 20: 'CDA_Biased'}\n",
      "2025-03-11 16:23:02,856 - melo_simulator_adapter - INFO - Background agent 1 has non-zero profit: CDA=-9.83, MELO=0.00, Total=-9.83\n",
      "2025-03-11 16:23:02,856 - melo_simulator_adapter - INFO - Background agent 2 has non-zero profit: CDA=-5406.26, MELO=0.00, Total=-5406.26\n",
      "2025-03-11 16:23:02,856 - melo_simulator_adapter - INFO - Background agent 4 has non-zero profit: CDA=4866.83, MELO=0.00, Total=4866.83\n",
      "2025-03-11 16:23:02,856 - melo_simulator_adapter - INFO - Strategy agent 16 (CDA_Biased): CDA=0.00, MELO=0.00, Total=0.00\n",
      "2025-03-11 16:23:02,856 - melo_simulator_adapter - INFO - Strategy agent 17 (CDA_Biased): CDA=0.00, MELO=0.00, Total=0.00\n",
      "2025-03-11 16:23:02,857 - melo_simulator_adapter - INFO - Strategy agent 18 (CDA_Biased): CDA=0.00, MELO=0.00, Total=0.00\n",
      "2025-03-11 16:23:02,857 - melo_simulator_adapter - INFO - Strategy agent 19 (CDA_Biased): CDA=0.00, MELO=0.00, Total=0.00\n",
      "2025-03-11 16:23:02,857 - melo_simulator_adapter - INFO - Strategy agent 20 (CDA_Biased): CDA=0.00, MELO=0.00, Total=0.00\n",
      "2025-03-11 16:23:02,857 - melo_simulator_adapter - INFO - Strategy payoffs: {'CDA_Biased': 0.0}\n",
      "2025-03-11 16:23:02,857 - melo_simulator_adapter - INFO - Simulation 1 payoffs: {'CDA_Biased': 0.0}\n",
      "2025-03-11 16:23:02,858 - melo_simulator_adapter - INFO - Running simulation 2/5...\n",
      "2025-03-11 16:23:02,862 - melo_simulator_adapter - INFO - Simulator has 21 agents\n",
      "2025-03-11 16:23:02,862 - melo_simulator_adapter - INFO - Agent IDs in simulator: [0, 1, 2, 3, 4, 5, 6, 7, 8, 9, 10, 11, 12, 13, 14, 15, 16, 17, 18, 19, 20]\n",
      "2025-03-11 16:23:02,862 - melo_simulator_adapter - INFO - Using agent IDs for strategies: [16, 17, 18, 19, 20]\n",
      "2025-03-11 16:23:02,864 - melo_simulator_adapter - INFO - Starting simulation run...\n"
     ]
    },
    {
     "name": "stdout",
     "output_type": "stream",
     "text": [
      "At the end of the simulation we get {0: tensor(0.), 1: tensor(-9.8256), 2: tensor(-5406.2578), 3: tensor(0.), 4: tensor(4866.8281), 5: tensor(0.), 6: tensor(0.), 7: tensor(0.), 8: tensor(0.), 9: tensor(0.), 10: tensor(0.), 11: tensor(0.), 12: tensor(0.), 13: tensor(0.), 14: tensor(0.), 15: tensor(0.), 16: tensor(0.), 17: tensor(0.), 18: tensor(0.), 19: tensor(0.), 20: tensor(0.)}\n",
      "MELO_ At the end of the simulation we get {0: 0, 1: 0, 2: 0, 3: 0, 4: 0, 5: 0, 6: 0, 7: 0, 8: 0, 9: 0, 10: 0, 11: 0, 12: 0, 13: 0, 14: 0, 15: 0, 16: 0, 17: 0, 18: 0, 19: 0, 20: 0}\n",
      "At the end of the simulation we get {0: tensor(0.), 1: tensor(-9.8256), 2: tensor(-5406.2578), 3: tensor(0.), 4: tensor(4866.8281), 5: tensor(0.), 6: tensor(0.), 7: tensor(0.), 8: tensor(0.), 9: tensor(0.), 10: tensor(0.), 11: tensor(0.), 12: tensor(0.), 13: tensor(0.), 14: tensor(0.), 15: tensor(0.), 16: tensor(0.), 17: tensor(0.), 18: tensor(0.), 19: tensor(0.), 20: tensor(0.)}\n",
      "MELO_ At the end of the simulation we get {0: 0, 1: 0, 2: 0, 3: 0, 4: 0, 5: 0, 6: 0, 7: 0, 8: 0, 9: 0, 10: 0, 11: 0, 12: 0, 13: 0, 14: 0, 15: 0, 16: 0, 17: 0, 18: 0, 19: 0, 20: 0}\n"
     ]
    },
    {
     "name": "stderr",
     "output_type": "stream",
     "text": [
      "2025-03-11 16:23:03,076 - melo_simulator_adapter - INFO - Simulation run completed\n",
      "2025-03-11 16:23:03,076 - melo_simulator_adapter - INFO - Attempting to get end_sim results (new format)...\n",
      "2025-03-11 16:23:03,079 - melo_simulator_adapter - INFO - Got CDA values: {0: tensor(9710.5078), 1: tensor(0.), 2: tensor(0.), 3: tensor(0.), 4: tensor(-8792.4688), 5: tensor(0.), 6: tensor(0.), 7: tensor(0.), 8: tensor(0.), 9: tensor(0.), 10: tensor(0.), 11: tensor(0.), 12: tensor(0.), 13: tensor(0.), 14: tensor(0.), 15: tensor(0.), 16: tensor(0.), 17: tensor(0.), 18: tensor(0.), 19: tensor(0.), 20: tensor(0.)}\n",
      "2025-03-11 16:23:03,079 - melo_simulator_adapter - INFO - Got MELO profits: {0: 0, 1: 0, 2: 0, 3: 0, 4: 0, 5: 0, 6: 0, 7: 0, 8: 0, 9: 0, 10: 0, 11: 0, 12: 0, 13: 0, 14: 0, 15: 0, 16: 0, 17: 0, 18: 0, 19: 0, 20: 0}\n",
      "2025-03-11 16:23:03,079 - melo_simulator_adapter - INFO - Total agents: 21\n",
      "2025-03-11 16:23:03,079 - melo_simulator_adapter - INFO - Agent strategies: {16: 'CDA_Biased', 17: 'CDA_Biased', 18: 'CDA_Biased', 19: 'CDA_Biased', 20: 'CDA_Biased'}\n",
      "2025-03-11 16:23:03,080 - melo_simulator_adapter - INFO - Background agent 0 has non-zero profit: CDA=9710.51, MELO=0.00, Total=9710.51\n",
      "2025-03-11 16:23:03,080 - melo_simulator_adapter - INFO - Background agent 4 has non-zero profit: CDA=-8792.47, MELO=0.00, Total=-8792.47\n",
      "2025-03-11 16:23:03,080 - melo_simulator_adapter - INFO - Strategy agent 16 (CDA_Biased): CDA=0.00, MELO=0.00, Total=0.00\n",
      "2025-03-11 16:23:03,080 - melo_simulator_adapter - INFO - Strategy agent 17 (CDA_Biased): CDA=0.00, MELO=0.00, Total=0.00\n",
      "2025-03-11 16:23:03,080 - melo_simulator_adapter - INFO - Strategy agent 18 (CDA_Biased): CDA=0.00, MELO=0.00, Total=0.00\n",
      "2025-03-11 16:23:03,080 - melo_simulator_adapter - INFO - Strategy agent 19 (CDA_Biased): CDA=0.00, MELO=0.00, Total=0.00\n",
      "2025-03-11 16:23:03,081 - melo_simulator_adapter - INFO - Strategy agent 20 (CDA_Biased): CDA=0.00, MELO=0.00, Total=0.00\n",
      "2025-03-11 16:23:03,081 - melo_simulator_adapter - INFO - Strategy payoffs: {'CDA_Biased': 0.0}\n",
      "2025-03-11 16:23:03,081 - melo_simulator_adapter - INFO - Simulation 2 payoffs: {'CDA_Biased': 0.0}\n",
      "2025-03-11 16:23:03,081 - melo_simulator_adapter - INFO - Running simulation 3/5...\n",
      "2025-03-11 16:23:03,085 - melo_simulator_adapter - INFO - Simulator has 21 agents\n",
      "2025-03-11 16:23:03,085 - melo_simulator_adapter - INFO - Agent IDs in simulator: [0, 1, 2, 3, 4, 5, 6, 7, 8, 9, 10, 11, 12, 13, 14, 15, 16, 17, 18, 19, 20]\n",
      "2025-03-11 16:23:03,085 - melo_simulator_adapter - INFO - Using agent IDs for strategies: [16, 17, 18, 19, 20]\n",
      "2025-03-11 16:23:03,087 - melo_simulator_adapter - INFO - Starting simulation run...\n"
     ]
    },
    {
     "name": "stdout",
     "output_type": "stream",
     "text": [
      "At the end of the simulation we get {0: tensor(9710.5078), 1: tensor(0.), 2: tensor(0.), 3: tensor(0.), 4: tensor(-8792.4688), 5: tensor(0.), 6: tensor(0.), 7: tensor(0.), 8: tensor(0.), 9: tensor(0.), 10: tensor(0.), 11: tensor(0.), 12: tensor(0.), 13: tensor(0.), 14: tensor(0.), 15: tensor(0.), 16: tensor(0.), 17: tensor(0.), 18: tensor(0.), 19: tensor(0.), 20: tensor(0.)}\n",
      "MELO_ At the end of the simulation we get {0: 0, 1: 0, 2: 0, 3: 0, 4: 0, 5: 0, 6: 0, 7: 0, 8: 0, 9: 0, 10: 0, 11: 0, 12: 0, 13: 0, 14: 0, 15: 0, 16: 0, 17: 0, 18: 0, 19: 0, 20: 0}\n",
      "At the end of the simulation we get {0: tensor(9710.5078), 1: tensor(0.), 2: tensor(0.), 3: tensor(0.), 4: tensor(-8792.4688), 5: tensor(0.), 6: tensor(0.), 7: tensor(0.), 8: tensor(0.), 9: tensor(0.), 10: tensor(0.), 11: tensor(0.), 12: tensor(0.), 13: tensor(0.), 14: tensor(0.), 15: tensor(0.), 16: tensor(0.), 17: tensor(0.), 18: tensor(0.), 19: tensor(0.), 20: tensor(0.)}\n",
      "MELO_ At the end of the simulation we get {0: 0, 1: 0, 2: 0, 3: 0, 4: 0, 5: 0, 6: 0, 7: 0, 8: 0, 9: 0, 10: 0, 11: 0, 12: 0, 13: 0, 14: 0, 15: 0, 16: 0, 17: 0, 18: 0, 19: 0, 20: 0}\n"
     ]
    },
    {
     "name": "stderr",
     "output_type": "stream",
     "text": [
      "2025-03-11 16:23:03,351 - melo_simulator_adapter - INFO - Simulation run completed\n",
      "2025-03-11 16:23:03,352 - melo_simulator_adapter - INFO - Attempting to get end_sim results (new format)...\n",
      "2025-03-11 16:23:03,354 - melo_simulator_adapter - INFO - Got CDA values: {0: tensor(-11290.0234), 1: tensor(12862.), 2: tensor(0.), 3: tensor(-11261.7969), 4: tensor(11524.3594), 5: tensor(0.), 6: tensor(0.), 7: tensor(0.), 8: tensor(0.), 9: tensor(0.), 10: tensor(0.), 11: tensor(0.), 12: tensor(0.), 13: tensor(0.), 14: tensor(0.), 15: tensor(0.), 16: tensor(0.), 17: tensor(0.), 18: tensor(0.), 19: tensor(0.), 20: tensor(0.)}\n",
      "2025-03-11 16:23:03,355 - melo_simulator_adapter - INFO - Got MELO profits: {0: 0, 1: 0, 2: 0, 3: 0, 4: 0, 5: 0, 6: 0, 7: 0, 8: 0, 9: 0, 10: 0, 11: 0, 12: 0, 13: 0, 14: 0, 15: 0, 16: 0, 17: 0, 18: 0, 19: 0, 20: 0}\n",
      "2025-03-11 16:23:03,355 - melo_simulator_adapter - INFO - Total agents: 21\n",
      "2025-03-11 16:23:03,355 - melo_simulator_adapter - INFO - Agent strategies: {16: 'CDA_Biased', 17: 'CDA_Biased', 18: 'CDA_Biased', 19: 'CDA_Biased', 20: 'CDA_Biased'}\n",
      "2025-03-11 16:23:03,355 - melo_simulator_adapter - INFO - Background agent 0 has non-zero profit: CDA=-11290.02, MELO=0.00, Total=-11290.02\n",
      "2025-03-11 16:23:03,355 - melo_simulator_adapter - INFO - Background agent 1 has non-zero profit: CDA=12862.00, MELO=0.00, Total=12862.00\n",
      "2025-03-11 16:23:03,355 - melo_simulator_adapter - INFO - Background agent 3 has non-zero profit: CDA=-11261.80, MELO=0.00, Total=-11261.80\n",
      "2025-03-11 16:23:03,356 - melo_simulator_adapter - INFO - Background agent 4 has non-zero profit: CDA=11524.36, MELO=0.00, Total=11524.36\n",
      "2025-03-11 16:23:03,356 - melo_simulator_adapter - INFO - Strategy agent 16 (CDA_Biased): CDA=0.00, MELO=0.00, Total=0.00\n",
      "2025-03-11 16:23:03,356 - melo_simulator_adapter - INFO - Strategy agent 17 (CDA_Biased): CDA=0.00, MELO=0.00, Total=0.00\n",
      "2025-03-11 16:23:03,356 - melo_simulator_adapter - INFO - Strategy agent 18 (CDA_Biased): CDA=0.00, MELO=0.00, Total=0.00\n",
      "2025-03-11 16:23:03,356 - melo_simulator_adapter - INFO - Strategy agent 19 (CDA_Biased): CDA=0.00, MELO=0.00, Total=0.00\n",
      "2025-03-11 16:23:03,357 - melo_simulator_adapter - INFO - Strategy agent 20 (CDA_Biased): CDA=0.00, MELO=0.00, Total=0.00\n",
      "2025-03-11 16:23:03,357 - melo_simulator_adapter - INFO - Strategy payoffs: {'CDA_Biased': 0.0}\n",
      "2025-03-11 16:23:03,357 - melo_simulator_adapter - INFO - Simulation 3 payoffs: {'CDA_Biased': 0.0}\n",
      "2025-03-11 16:23:03,357 - melo_simulator_adapter - INFO - Running simulation 4/5...\n",
      "2025-03-11 16:23:03,362 - melo_simulator_adapter - INFO - Simulator has 21 agents\n",
      "2025-03-11 16:23:03,362 - melo_simulator_adapter - INFO - Agent IDs in simulator: [0, 1, 2, 3, 4, 5, 6, 7, 8, 9, 10, 11, 12, 13, 14, 15, 16, 17, 18, 19, 20]\n",
      "2025-03-11 16:23:03,362 - melo_simulator_adapter - INFO - Using agent IDs for strategies: [16, 17, 18, 19, 20]\n",
      "2025-03-11 16:23:03,364 - melo_simulator_adapter - INFO - Starting simulation run...\n"
     ]
    },
    {
     "name": "stdout",
     "output_type": "stream",
     "text": [
      "At the end of the simulation we get {0: tensor(-11290.0234), 1: tensor(12862.), 2: tensor(0.), 3: tensor(-11261.7969), 4: tensor(11524.3594), 5: tensor(0.), 6: tensor(0.), 7: tensor(0.), 8: tensor(0.), 9: tensor(0.), 10: tensor(0.), 11: tensor(0.), 12: tensor(0.), 13: tensor(0.), 14: tensor(0.), 15: tensor(0.), 16: tensor(0.), 17: tensor(0.), 18: tensor(0.), 19: tensor(0.), 20: tensor(0.)}\n",
      "MELO_ At the end of the simulation we get {0: 0, 1: 0, 2: 0, 3: 0, 4: 0, 5: 0, 6: 0, 7: 0, 8: 0, 9: 0, 10: 0, 11: 0, 12: 0, 13: 0, 14: 0, 15: 0, 16: 0, 17: 0, 18: 0, 19: 0, 20: 0}\n",
      "At the end of the simulation we get {0: tensor(-11290.0234), 1: tensor(12862.), 2: tensor(0.), 3: tensor(-11261.7969), 4: tensor(11524.3594), 5: tensor(0.), 6: tensor(0.), 7: tensor(0.), 8: tensor(0.), 9: tensor(0.), 10: tensor(0.), 11: tensor(0.), 12: tensor(0.), 13: tensor(0.), 14: tensor(0.), 15: tensor(0.), 16: tensor(0.), 17: tensor(0.), 18: tensor(0.), 19: tensor(0.), 20: tensor(0.)}\n",
      "MELO_ At the end of the simulation we get {0: 0, 1: 0, 2: 0, 3: 0, 4: 0, 5: 0, 6: 0, 7: 0, 8: 0, 9: 0, 10: 0, 11: 0, 12: 0, 13: 0, 14: 0, 15: 0, 16: 0, 17: 0, 18: 0, 19: 0, 20: 0}\n"
     ]
    },
    {
     "name": "stderr",
     "output_type": "stream",
     "text": [
      "2025-03-11 16:23:03,573 - melo_simulator_adapter - INFO - Simulation run completed\n",
      "2025-03-11 16:23:03,574 - melo_simulator_adapter - INFO - Attempting to get end_sim results (new format)...\n",
      "2025-03-11 16:23:03,577 - melo_simulator_adapter - INFO - Got CDA values: {0: tensor(0.), 1: tensor(-5387.7734), 2: tensor(0.), 3: tensor(5522.5391), 4: tensor(0.), 5: tensor(0.), 6: tensor(0.), 7: tensor(0.), 8: tensor(0.), 9: tensor(0.), 10: tensor(0.), 11: tensor(0.), 12: tensor(0.), 13: tensor(0.), 14: tensor(0.), 15: tensor(0.), 16: tensor(0.), 17: tensor(0.), 18: tensor(0.), 19: tensor(0.), 20: tensor(0.)}\n",
      "2025-03-11 16:23:03,577 - melo_simulator_adapter - INFO - Got MELO profits: {0: 0, 1: 0, 2: 0, 3: 0, 4: 0, 5: 0, 6: 0, 7: 0, 8: 0, 9: 0, 10: 0, 11: 0, 12: 0, 13: 0, 14: 0, 15: 0, 16: 0, 17: 0, 18: 0, 19: 0, 20: 0}\n",
      "2025-03-11 16:23:03,578 - melo_simulator_adapter - INFO - Total agents: 21\n",
      "2025-03-11 16:23:03,578 - melo_simulator_adapter - INFO - Agent strategies: {16: 'CDA_Biased', 17: 'CDA_Biased', 18: 'CDA_Biased', 19: 'CDA_Biased', 20: 'CDA_Biased'}\n",
      "2025-03-11 16:23:03,578 - melo_simulator_adapter - INFO - Background agent 1 has non-zero profit: CDA=-5387.77, MELO=0.00, Total=-5387.77\n",
      "2025-03-11 16:23:03,578 - melo_simulator_adapter - INFO - Background agent 3 has non-zero profit: CDA=5522.54, MELO=0.00, Total=5522.54\n",
      "2025-03-11 16:23:03,578 - melo_simulator_adapter - INFO - Strategy agent 16 (CDA_Biased): CDA=0.00, MELO=0.00, Total=0.00\n",
      "2025-03-11 16:23:03,579 - melo_simulator_adapter - INFO - Strategy agent 17 (CDA_Biased): CDA=0.00, MELO=0.00, Total=0.00\n",
      "2025-03-11 16:23:03,579 - melo_simulator_adapter - INFO - Strategy agent 18 (CDA_Biased): CDA=0.00, MELO=0.00, Total=0.00\n",
      "2025-03-11 16:23:03,579 - melo_simulator_adapter - INFO - Strategy agent 19 (CDA_Biased): CDA=0.00, MELO=0.00, Total=0.00\n",
      "2025-03-11 16:23:03,579 - melo_simulator_adapter - INFO - Strategy agent 20 (CDA_Biased): CDA=0.00, MELO=0.00, Total=0.00\n",
      "2025-03-11 16:23:03,579 - melo_simulator_adapter - INFO - Strategy payoffs: {'CDA_Biased': 0.0}\n",
      "2025-03-11 16:23:03,580 - melo_simulator_adapter - INFO - Simulation 4 payoffs: {'CDA_Biased': 0.0}\n",
      "2025-03-11 16:23:03,580 - melo_simulator_adapter - INFO - Running simulation 5/5...\n",
      "2025-03-11 16:23:03,584 - melo_simulator_adapter - INFO - Simulator has 21 agents\n",
      "2025-03-11 16:23:03,584 - melo_simulator_adapter - INFO - Agent IDs in simulator: [0, 1, 2, 3, 4, 5, 6, 7, 8, 9, 10, 11, 12, 13, 14, 15, 16, 17, 18, 19, 20]\n",
      "2025-03-11 16:23:03,584 - melo_simulator_adapter - INFO - Using agent IDs for strategies: [16, 17, 18, 19, 20]\n",
      "2025-03-11 16:23:03,586 - melo_simulator_adapter - INFO - Starting simulation run...\n"
     ]
    },
    {
     "name": "stdout",
     "output_type": "stream",
     "text": [
      "At the end of the simulation we get {0: tensor(0.), 1: tensor(-5387.7734), 2: tensor(0.), 3: tensor(5522.5391), 4: tensor(0.), 5: tensor(0.), 6: tensor(0.), 7: tensor(0.), 8: tensor(0.), 9: tensor(0.), 10: tensor(0.), 11: tensor(0.), 12: tensor(0.), 13: tensor(0.), 14: tensor(0.), 15: tensor(0.), 16: tensor(0.), 17: tensor(0.), 18: tensor(0.), 19: tensor(0.), 20: tensor(0.)}\n",
      "MELO_ At the end of the simulation we get {0: 0, 1: 0, 2: 0, 3: 0, 4: 0, 5: 0, 6: 0, 7: 0, 8: 0, 9: 0, 10: 0, 11: 0, 12: 0, 13: 0, 14: 0, 15: 0, 16: 0, 17: 0, 18: 0, 19: 0, 20: 0}\n",
      "At the end of the simulation we get {0: tensor(0.), 1: tensor(-5387.7734), 2: tensor(0.), 3: tensor(5522.5391), 4: tensor(0.), 5: tensor(0.), 6: tensor(0.), 7: tensor(0.), 8: tensor(0.), 9: tensor(0.), 10: tensor(0.), 11: tensor(0.), 12: tensor(0.), 13: tensor(0.), 14: tensor(0.), 15: tensor(0.), 16: tensor(0.), 17: tensor(0.), 18: tensor(0.), 19: tensor(0.), 20: tensor(0.)}\n",
      "MELO_ At the end of the simulation we get {0: 0, 1: 0, 2: 0, 3: 0, 4: 0, 5: 0, 6: 0, 7: 0, 8: 0, 9: 0, 10: 0, 11: 0, 12: 0, 13: 0, 14: 0, 15: 0, 16: 0, 17: 0, 18: 0, 19: 0, 20: 0}\n"
     ]
    },
    {
     "name": "stderr",
     "output_type": "stream",
     "text": [
      "2025-03-11 16:23:03,793 - melo_simulator_adapter - INFO - Simulation run completed\n",
      "2025-03-11 16:23:03,794 - melo_simulator_adapter - INFO - Attempting to get end_sim results (new format)...\n",
      "2025-03-11 16:23:03,797 - melo_simulator_adapter - INFO - Got CDA values: {0: tensor(23870.3125), 1: tensor(-14729.2422), 2: tensor(46589.0469), 3: tensor(-54690.4062), 4: tensor(0.), 5: tensor(0.), 6: tensor(0.), 7: tensor(0.), 8: tensor(0.), 9: tensor(0.), 10: tensor(0.), 11: tensor(0.), 12: tensor(0.), 13: tensor(0.), 14: tensor(0.), 15: tensor(0.), 16: tensor(0.), 17: tensor(0.), 18: tensor(0.), 19: tensor(0.), 20: tensor(0.)}\n",
      "2025-03-11 16:23:03,797 - melo_simulator_adapter - INFO - Got MELO profits: {0: 0, 1: 0, 2: 0, 3: 0, 4: 0, 5: 0, 6: 0, 7: 0, 8: 0, 9: 0, 10: 0, 11: 0, 12: 0, 13: 0, 14: 0, 15: 0, 16: 0, 17: 0, 18: 0, 19: 0, 20: 0}\n",
      "2025-03-11 16:23:03,797 - melo_simulator_adapter - INFO - Total agents: 21\n",
      "2025-03-11 16:23:03,798 - melo_simulator_adapter - INFO - Agent strategies: {16: 'CDA_Biased', 17: 'CDA_Biased', 18: 'CDA_Biased', 19: 'CDA_Biased', 20: 'CDA_Biased'}\n",
      "2025-03-11 16:23:03,798 - melo_simulator_adapter - INFO - Background agent 0 has non-zero profit: CDA=23870.31, MELO=0.00, Total=23870.31\n",
      "2025-03-11 16:23:03,798 - melo_simulator_adapter - INFO - Background agent 1 has non-zero profit: CDA=-14729.24, MELO=0.00, Total=-14729.24\n",
      "2025-03-11 16:23:03,799 - melo_simulator_adapter - INFO - Background agent 2 has non-zero profit: CDA=46589.05, MELO=0.00, Total=46589.05\n",
      "2025-03-11 16:23:03,799 - melo_simulator_adapter - INFO - Background agent 3 has non-zero profit: CDA=-54690.41, MELO=0.00, Total=-54690.41\n",
      "2025-03-11 16:23:03,799 - melo_simulator_adapter - INFO - Strategy agent 16 (CDA_Biased): CDA=0.00, MELO=0.00, Total=0.00\n",
      "2025-03-11 16:23:03,800 - melo_simulator_adapter - INFO - Strategy agent 17 (CDA_Biased): CDA=0.00, MELO=0.00, Total=0.00\n",
      "2025-03-11 16:23:03,800 - melo_simulator_adapter - INFO - Strategy agent 18 (CDA_Biased): CDA=0.00, MELO=0.00, Total=0.00\n",
      "2025-03-11 16:23:03,800 - melo_simulator_adapter - INFO - Strategy agent 19 (CDA_Biased): CDA=0.00, MELO=0.00, Total=0.00\n",
      "2025-03-11 16:23:03,800 - melo_simulator_adapter - INFO - Strategy agent 20 (CDA_Biased): CDA=0.00, MELO=0.00, Total=0.00\n",
      "2025-03-11 16:23:03,801 - melo_simulator_adapter - INFO - Strategy payoffs: {'CDA_Biased': 0.0}\n",
      "2025-03-11 16:23:03,801 - melo_simulator_adapter - INFO - Simulation 5 payoffs: {'CDA_Biased': 0.0}\n",
      "2025-03-11 16:23:03,801 - melo_simulator_adapter - INFO - Final average payoffs after 5 simulations: {'CDA_Biased': 0.0}\n",
      "2025-03-11 16:23:03,802 - subgame_search - INFO - Profile sampled successfully: {'CDA_Biased': 5}, payoffs: {'CDA_Biased': 0.0}\n",
      "2025-03-11 16:23:03,804 - subgame_search - INFO - Updated full game with new profile data\n",
      "2025-03-11 16:23:03,804 - subgame_search - INFO - Successfully sampled profiles for subgame with 1 strategies\n",
      "2025-03-11 16:23:03,805 - subgame_search - INFO - Found single-strategy equilibrium: CDA_Biased\n",
      "2025-03-11 16:23:03,806 - subgame_search - INFO - Expected payoff of mixture: 0.000000\n",
      "2025-03-11 16:23:03,807 - subgame_search - INFO - No beneficial deviations found for single-strategy subgame\n",
      "2025-03-11 16:23:03,807 - subgame_search - INFO - Iteration 3: Exploring subgame with strategies ['CDA_Only']\n",
      "2025-03-11 16:23:03,808 - subgame_search - INFO - Sampling profiles for subgame with strategies ['CDA_Only']\n",
      "2025-03-11 16:23:03,808 - subgame_search - INFO - Simulating profile: {'CDA_Only': 5} (attempt 1/3)\n",
      "2025-03-11 16:23:03,808 - melo_simulator_adapter - INFO - Simulating profile: {'CDA_Only': 5} with parameters: {'lam': 0.05, 'mean': 100000.0, 'r': 0.05, 'shock_var': 5000000.0, 'q_max': 10, 'pv_var': 5000000.0, 'shade': [500, 1000]}\n",
      "2025-03-11 16:23:03,809 - melo_simulator_adapter - INFO - Running simulation 1/5...\n",
      "2025-03-11 16:23:03,813 - melo_simulator_adapter - INFO - Simulator has 21 agents\n",
      "2025-03-11 16:23:03,814 - melo_simulator_adapter - INFO - Agent IDs in simulator: [0, 1, 2, 3, 4, 5, 6, 7, 8, 9, 10, 11, 12, 13, 14, 15, 16, 17, 18, 19, 20]\n",
      "2025-03-11 16:23:03,814 - melo_simulator_adapter - INFO - Using agent IDs for strategies: [16, 17, 18, 19, 20]\n",
      "2025-03-11 16:23:03,814 - melo_simulator_adapter - INFO - Starting simulation run...\n"
     ]
    },
    {
     "name": "stdout",
     "output_type": "stream",
     "text": [
      "At the end of the simulation we get {0: tensor(23870.3125), 1: tensor(-14729.2422), 2: tensor(46589.0469), 3: tensor(-54690.4062), 4: tensor(0.), 5: tensor(0.), 6: tensor(0.), 7: tensor(0.), 8: tensor(0.), 9: tensor(0.), 10: tensor(0.), 11: tensor(0.), 12: tensor(0.), 13: tensor(0.), 14: tensor(0.), 15: tensor(0.), 16: tensor(0.), 17: tensor(0.), 18: tensor(0.), 19: tensor(0.), 20: tensor(0.)}\n",
      "MELO_ At the end of the simulation we get {0: 0, 1: 0, 2: 0, 3: 0, 4: 0, 5: 0, 6: 0, 7: 0, 8: 0, 9: 0, 10: 0, 11: 0, 12: 0, 13: 0, 14: 0, 15: 0, 16: 0, 17: 0, 18: 0, 19: 0, 20: 0}\n",
      "At the end of the simulation we get {0: tensor(23870.3125), 1: tensor(-14729.2422), 2: tensor(46589.0469), 3: tensor(-54690.4062), 4: tensor(0.), 5: tensor(0.), 6: tensor(0.), 7: tensor(0.), 8: tensor(0.), 9: tensor(0.), 10: tensor(0.), 11: tensor(0.), 12: tensor(0.), 13: tensor(0.), 14: tensor(0.), 15: tensor(0.), 16: tensor(0.), 17: tensor(0.), 18: tensor(0.), 19: tensor(0.), 20: tensor(0.)}\n",
      "MELO_ At the end of the simulation we get {0: 0, 1: 0, 2: 0, 3: 0, 4: 0, 5: 0, 6: 0, 7: 0, 8: 0, 9: 0, 10: 0, 11: 0, 12: 0, 13: 0, 14: 0, 15: 0, 16: 0, 17: 0, 18: 0, 19: 0, 20: 0}\n"
     ]
    },
    {
     "name": "stderr",
     "output_type": "stream",
     "text": [
      "2025-03-11 16:23:04,027 - melo_simulator_adapter - INFO - Simulation run completed\n",
      "2025-03-11 16:23:04,027 - melo_simulator_adapter - INFO - Attempting to get end_sim results (new format)...\n",
      "2025-03-11 16:23:04,030 - melo_simulator_adapter - INFO - Got CDA values: {0: tensor(-6102.7656), 1: tensor(0.), 2: tensor(6343.8125), 3: tensor(-7956.9297), 4: tensor(8632.8906), 5: tensor(0.), 6: tensor(0.), 7: tensor(0.), 8: tensor(0.), 9: tensor(0.), 10: tensor(0.), 11: tensor(0.), 12: tensor(0.), 13: tensor(0.), 14: tensor(0.), 15: tensor(0.), 16: tensor(0.), 17: tensor(0.), 18: tensor(0.), 19: tensor(0.), 20: tensor(0.)}\n",
      "2025-03-11 16:23:04,030 - melo_simulator_adapter - INFO - Got MELO profits: {0: 0, 1: 0, 2: 0, 3: 0, 4: 0, 5: 0, 6: 0, 7: 0, 8: 0, 9: 0, 10: 0, 11: 0, 12: 0, 13: 0, 14: 0, 15: 0, 16: 0, 17: 0, 18: 0, 19: 0, 20: 0}\n",
      "2025-03-11 16:23:04,030 - melo_simulator_adapter - INFO - Total agents: 21\n",
      "2025-03-11 16:23:04,030 - melo_simulator_adapter - INFO - Agent strategies: {16: 'CDA_Only', 17: 'CDA_Only', 18: 'CDA_Only', 19: 'CDA_Only', 20: 'CDA_Only'}\n",
      "2025-03-11 16:23:04,031 - melo_simulator_adapter - INFO - Background agent 0 has non-zero profit: CDA=-6102.77, MELO=0.00, Total=-6102.77\n",
      "2025-03-11 16:23:04,031 - melo_simulator_adapter - INFO - Background agent 2 has non-zero profit: CDA=6343.81, MELO=0.00, Total=6343.81\n",
      "2025-03-11 16:23:04,031 - melo_simulator_adapter - INFO - Background agent 3 has non-zero profit: CDA=-7956.93, MELO=0.00, Total=-7956.93\n",
      "2025-03-11 16:23:04,031 - melo_simulator_adapter - INFO - Background agent 4 has non-zero profit: CDA=8632.89, MELO=0.00, Total=8632.89\n",
      "2025-03-11 16:23:04,031 - melo_simulator_adapter - INFO - Strategy agent 16 (CDA_Only): CDA=0.00, MELO=0.00, Total=0.00\n",
      "2025-03-11 16:23:04,032 - melo_simulator_adapter - INFO - Strategy agent 17 (CDA_Only): CDA=0.00, MELO=0.00, Total=0.00\n",
      "2025-03-11 16:23:04,032 - melo_simulator_adapter - INFO - Strategy agent 18 (CDA_Only): CDA=0.00, MELO=0.00, Total=0.00\n",
      "2025-03-11 16:23:04,032 - melo_simulator_adapter - INFO - Strategy agent 19 (CDA_Only): CDA=0.00, MELO=0.00, Total=0.00\n",
      "2025-03-11 16:23:04,032 - melo_simulator_adapter - INFO - Strategy agent 20 (CDA_Only): CDA=0.00, MELO=0.00, Total=0.00\n",
      "2025-03-11 16:23:04,032 - melo_simulator_adapter - INFO - Strategy payoffs: {'CDA_Only': 0.0}\n",
      "2025-03-11 16:23:04,033 - melo_simulator_adapter - INFO - Simulation 1 payoffs: {'CDA_Only': 0.0}\n",
      "2025-03-11 16:23:04,033 - melo_simulator_adapter - INFO - Running simulation 2/5...\n",
      "2025-03-11 16:23:04,038 - melo_simulator_adapter - INFO - Simulator has 21 agents\n",
      "2025-03-11 16:23:04,038 - melo_simulator_adapter - INFO - Agent IDs in simulator: [0, 1, 2, 3, 4, 5, 6, 7, 8, 9, 10, 11, 12, 13, 14, 15, 16, 17, 18, 19, 20]\n",
      "2025-03-11 16:23:04,038 - melo_simulator_adapter - INFO - Using agent IDs for strategies: [16, 17, 18, 19, 20]\n",
      "2025-03-11 16:23:04,040 - melo_simulator_adapter - INFO - Starting simulation run...\n"
     ]
    },
    {
     "name": "stdout",
     "output_type": "stream",
     "text": [
      "At the end of the simulation we get {0: tensor(-6102.7656), 1: tensor(0.), 2: tensor(6343.8125), 3: tensor(-7956.9297), 4: tensor(8632.8906), 5: tensor(0.), 6: tensor(0.), 7: tensor(0.), 8: tensor(0.), 9: tensor(0.), 10: tensor(0.), 11: tensor(0.), 12: tensor(0.), 13: tensor(0.), 14: tensor(0.), 15: tensor(0.), 16: tensor(0.), 17: tensor(0.), 18: tensor(0.), 19: tensor(0.), 20: tensor(0.)}\n",
      "MELO_ At the end of the simulation we get {0: 0, 1: 0, 2: 0, 3: 0, 4: 0, 5: 0, 6: 0, 7: 0, 8: 0, 9: 0, 10: 0, 11: 0, 12: 0, 13: 0, 14: 0, 15: 0, 16: 0, 17: 0, 18: 0, 19: 0, 20: 0}\n",
      "At the end of the simulation we get {0: tensor(-6102.7656), 1: tensor(0.), 2: tensor(6343.8125), 3: tensor(-7956.9297), 4: tensor(8632.8906), 5: tensor(0.), 6: tensor(0.), 7: tensor(0.), 8: tensor(0.), 9: tensor(0.), 10: tensor(0.), 11: tensor(0.), 12: tensor(0.), 13: tensor(0.), 14: tensor(0.), 15: tensor(0.), 16: tensor(0.), 17: tensor(0.), 18: tensor(0.), 19: tensor(0.), 20: tensor(0.)}\n",
      "MELO_ At the end of the simulation we get {0: 0, 1: 0, 2: 0, 3: 0, 4: 0, 5: 0, 6: 0, 7: 0, 8: 0, 9: 0, 10: 0, 11: 0, 12: 0, 13: 0, 14: 0, 15: 0, 16: 0, 17: 0, 18: 0, 19: 0, 20: 0}\n"
     ]
    },
    {
     "name": "stderr",
     "output_type": "stream",
     "text": [
      "2025-03-11 16:23:04,299 - melo_simulator_adapter - INFO - Simulation run completed\n",
      "2025-03-11 16:23:04,299 - melo_simulator_adapter - INFO - Attempting to get end_sim results (new format)...\n",
      "2025-03-11 16:23:04,302 - melo_simulator_adapter - INFO - Got CDA values: {0: tensor(-704.3997), 1: tensor(456.5637), 2: tensor(-3939.3125), 3: tensor(0.), 4: tensor(4719.6328), 5: tensor(0.), 6: tensor(0.), 7: tensor(0.), 8: tensor(0.), 9: tensor(0.), 10: tensor(0.), 11: tensor(0.), 12: tensor(0.), 13: tensor(0.), 14: tensor(0.), 15: tensor(0.), 16: tensor(0.), 17: tensor(0.), 18: tensor(0.), 19: tensor(0.), 20: tensor(0.)}\n",
      "2025-03-11 16:23:04,302 - melo_simulator_adapter - INFO - Got MELO profits: {0: 0, 1: 0, 2: 0, 3: 0, 4: 0, 5: 0, 6: 0, 7: 0, 8: 0, 9: 0, 10: 0, 11: 0, 12: 0, 13: 0, 14: 0, 15: 0, 16: 0, 17: 0, 18: 0, 19: 0, 20: 0}\n",
      "2025-03-11 16:23:04,303 - melo_simulator_adapter - INFO - Total agents: 21\n",
      "2025-03-11 16:23:04,303 - melo_simulator_adapter - INFO - Agent strategies: {16: 'CDA_Only', 17: 'CDA_Only', 18: 'CDA_Only', 19: 'CDA_Only', 20: 'CDA_Only'}\n",
      "2025-03-11 16:23:04,303 - melo_simulator_adapter - INFO - Background agent 0 has non-zero profit: CDA=-704.40, MELO=0.00, Total=-704.40\n",
      "2025-03-11 16:23:04,303 - melo_simulator_adapter - INFO - Background agent 1 has non-zero profit: CDA=456.56, MELO=0.00, Total=456.56\n",
      "2025-03-11 16:23:04,304 - melo_simulator_adapter - INFO - Background agent 2 has non-zero profit: CDA=-3939.31, MELO=0.00, Total=-3939.31\n",
      "2025-03-11 16:23:04,304 - melo_simulator_adapter - INFO - Background agent 4 has non-zero profit: CDA=4719.63, MELO=0.00, Total=4719.63\n",
      "2025-03-11 16:23:04,304 - melo_simulator_adapter - INFO - Strategy agent 16 (CDA_Only): CDA=0.00, MELO=0.00, Total=0.00\n",
      "2025-03-11 16:23:04,304 - melo_simulator_adapter - INFO - Strategy agent 17 (CDA_Only): CDA=0.00, MELO=0.00, Total=0.00\n",
      "2025-03-11 16:23:04,304 - melo_simulator_adapter - INFO - Strategy agent 18 (CDA_Only): CDA=0.00, MELO=0.00, Total=0.00\n",
      "2025-03-11 16:23:04,304 - melo_simulator_adapter - INFO - Strategy agent 19 (CDA_Only): CDA=0.00, MELO=0.00, Total=0.00\n",
      "2025-03-11 16:23:04,305 - melo_simulator_adapter - INFO - Strategy agent 20 (CDA_Only): CDA=0.00, MELO=0.00, Total=0.00\n",
      "2025-03-11 16:23:04,305 - melo_simulator_adapter - INFO - Strategy payoffs: {'CDA_Only': 0.0}\n",
      "2025-03-11 16:23:04,305 - melo_simulator_adapter - INFO - Simulation 2 payoffs: {'CDA_Only': 0.0}\n",
      "2025-03-11 16:23:04,305 - melo_simulator_adapter - INFO - Running simulation 3/5...\n",
      "2025-03-11 16:23:04,310 - melo_simulator_adapter - INFO - Simulator has 21 agents\n",
      "2025-03-11 16:23:04,310 - melo_simulator_adapter - INFO - Agent IDs in simulator: [0, 1, 2, 3, 4, 5, 6, 7, 8, 9, 10, 11, 12, 13, 14, 15, 16, 17, 18, 19, 20]\n",
      "2025-03-11 16:23:04,310 - melo_simulator_adapter - INFO - Using agent IDs for strategies: [16, 17, 18, 19, 20]\n",
      "2025-03-11 16:23:04,312 - melo_simulator_adapter - INFO - Starting simulation run...\n"
     ]
    },
    {
     "name": "stdout",
     "output_type": "stream",
     "text": [
      "At the end of the simulation we get {0: tensor(-704.3997), 1: tensor(456.5637), 2: tensor(-3939.3125), 3: tensor(0.), 4: tensor(4719.6328), 5: tensor(0.), 6: tensor(0.), 7: tensor(0.), 8: tensor(0.), 9: tensor(0.), 10: tensor(0.), 11: tensor(0.), 12: tensor(0.), 13: tensor(0.), 14: tensor(0.), 15: tensor(0.), 16: tensor(0.), 17: tensor(0.), 18: tensor(0.), 19: tensor(0.), 20: tensor(0.)}\n",
      "MELO_ At the end of the simulation we get {0: 0, 1: 0, 2: 0, 3: 0, 4: 0, 5: 0, 6: 0, 7: 0, 8: 0, 9: 0, 10: 0, 11: 0, 12: 0, 13: 0, 14: 0, 15: 0, 16: 0, 17: 0, 18: 0, 19: 0, 20: 0}\n",
      "At the end of the simulation we get {0: tensor(-704.3997), 1: tensor(456.5637), 2: tensor(-3939.3125), 3: tensor(0.), 4: tensor(4719.6328), 5: tensor(0.), 6: tensor(0.), 7: tensor(0.), 8: tensor(0.), 9: tensor(0.), 10: tensor(0.), 11: tensor(0.), 12: tensor(0.), 13: tensor(0.), 14: tensor(0.), 15: tensor(0.), 16: tensor(0.), 17: tensor(0.), 18: tensor(0.), 19: tensor(0.), 20: tensor(0.)}\n",
      "MELO_ At the end of the simulation we get {0: 0, 1: 0, 2: 0, 3: 0, 4: 0, 5: 0, 6: 0, 7: 0, 8: 0, 9: 0, 10: 0, 11: 0, 12: 0, 13: 0, 14: 0, 15: 0, 16: 0, 17: 0, 18: 0, 19: 0, 20: 0}\n"
     ]
    },
    {
     "name": "stderr",
     "output_type": "stream",
     "text": [
      "2025-03-11 16:23:04,518 - melo_simulator_adapter - INFO - Simulation run completed\n",
      "2025-03-11 16:23:04,519 - melo_simulator_adapter - INFO - Attempting to get end_sim results (new format)...\n",
      "2025-03-11 16:23:04,522 - melo_simulator_adapter - INFO - Got CDA values: {0: tensor(-1217.9475), 1: tensor(1574.9766), 2: tensor(-797.1484), 3: tensor(-3.2656), 4: tensor(1995.1250), 5: tensor(0.), 6: tensor(0.), 7: tensor(0.), 8: tensor(0.), 9: tensor(0.), 10: tensor(0.), 11: tensor(0.), 12: tensor(0.), 13: tensor(0.), 14: tensor(0.), 15: tensor(0.), 16: tensor(0.), 17: tensor(0.), 18: tensor(0.), 19: tensor(0.), 20: tensor(0.)}\n",
      "2025-03-11 16:23:04,522 - melo_simulator_adapter - INFO - Got MELO profits: {0: 0, 1: 0, 2: 0, 3: 0, 4: 0, 5: 0, 6: 0, 7: 0, 8: 0, 9: 0, 10: 0, 11: 0, 12: 0, 13: 0, 14: 0, 15: 0, 16: 0, 17: 0, 18: 0, 19: 0, 20: 0}\n",
      "2025-03-11 16:23:04,523 - melo_simulator_adapter - INFO - Total agents: 21\n",
      "2025-03-11 16:23:04,523 - melo_simulator_adapter - INFO - Agent strategies: {16: 'CDA_Only', 17: 'CDA_Only', 18: 'CDA_Only', 19: 'CDA_Only', 20: 'CDA_Only'}\n",
      "2025-03-11 16:23:04,523 - melo_simulator_adapter - INFO - Background agent 0 has non-zero profit: CDA=-1217.95, MELO=0.00, Total=-1217.95\n",
      "2025-03-11 16:23:04,523 - melo_simulator_adapter - INFO - Background agent 1 has non-zero profit: CDA=1574.98, MELO=0.00, Total=1574.98\n",
      "2025-03-11 16:23:04,524 - melo_simulator_adapter - INFO - Background agent 2 has non-zero profit: CDA=-797.15, MELO=0.00, Total=-797.15\n",
      "2025-03-11 16:23:04,524 - melo_simulator_adapter - INFO - Background agent 3 has non-zero profit: CDA=-3.27, MELO=0.00, Total=-3.27\n",
      "2025-03-11 16:23:04,524 - melo_simulator_adapter - INFO - Background agent 4 has non-zero profit: CDA=1995.12, MELO=0.00, Total=1995.12\n",
      "2025-03-11 16:23:04,525 - melo_simulator_adapter - INFO - Strategy agent 16 (CDA_Only): CDA=0.00, MELO=0.00, Total=0.00\n",
      "2025-03-11 16:23:04,525 - melo_simulator_adapter - INFO - Strategy agent 17 (CDA_Only): CDA=0.00, MELO=0.00, Total=0.00\n",
      "2025-03-11 16:23:04,525 - melo_simulator_adapter - INFO - Strategy agent 18 (CDA_Only): CDA=0.00, MELO=0.00, Total=0.00\n",
      "2025-03-11 16:23:04,526 - melo_simulator_adapter - INFO - Strategy agent 19 (CDA_Only): CDA=0.00, MELO=0.00, Total=0.00\n",
      "2025-03-11 16:23:04,526 - melo_simulator_adapter - INFO - Strategy agent 20 (CDA_Only): CDA=0.00, MELO=0.00, Total=0.00\n",
      "2025-03-11 16:23:04,526 - melo_simulator_adapter - INFO - Strategy payoffs: {'CDA_Only': 0.0}\n",
      "2025-03-11 16:23:04,526 - melo_simulator_adapter - INFO - Simulation 3 payoffs: {'CDA_Only': 0.0}\n",
      "2025-03-11 16:23:04,527 - melo_simulator_adapter - INFO - Running simulation 4/5...\n",
      "2025-03-11 16:23:04,531 - melo_simulator_adapter - INFO - Simulator has 21 agents\n",
      "2025-03-11 16:23:04,531 - melo_simulator_adapter - INFO - Agent IDs in simulator: [0, 1, 2, 3, 4, 5, 6, 7, 8, 9, 10, 11, 12, 13, 14, 15, 16, 17, 18, 19, 20]\n",
      "2025-03-11 16:23:04,532 - melo_simulator_adapter - INFO - Using agent IDs for strategies: [16, 17, 18, 19, 20]\n",
      "2025-03-11 16:23:04,533 - melo_simulator_adapter - INFO - Starting simulation run...\n"
     ]
    },
    {
     "name": "stdout",
     "output_type": "stream",
     "text": [
      "At the end of the simulation we get {0: tensor(-1217.9475), 1: tensor(1574.9766), 2: tensor(-797.1484), 3: tensor(-3.2656), 4: tensor(1995.1250), 5: tensor(0.), 6: tensor(0.), 7: tensor(0.), 8: tensor(0.), 9: tensor(0.), 10: tensor(0.), 11: tensor(0.), 12: tensor(0.), 13: tensor(0.), 14: tensor(0.), 15: tensor(0.), 16: tensor(0.), 17: tensor(0.), 18: tensor(0.), 19: tensor(0.), 20: tensor(0.)}\n",
      "MELO_ At the end of the simulation we get {0: 0, 1: 0, 2: 0, 3: 0, 4: 0, 5: 0, 6: 0, 7: 0, 8: 0, 9: 0, 10: 0, 11: 0, 12: 0, 13: 0, 14: 0, 15: 0, 16: 0, 17: 0, 18: 0, 19: 0, 20: 0}\n",
      "At the end of the simulation we get {0: tensor(-1217.9475), 1: tensor(1574.9766), 2: tensor(-797.1484), 3: tensor(-3.2656), 4: tensor(1995.1250), 5: tensor(0.), 6: tensor(0.), 7: tensor(0.), 8: tensor(0.), 9: tensor(0.), 10: tensor(0.), 11: tensor(0.), 12: tensor(0.), 13: tensor(0.), 14: tensor(0.), 15: tensor(0.), 16: tensor(0.), 17: tensor(0.), 18: tensor(0.), 19: tensor(0.), 20: tensor(0.)}\n",
      "MELO_ At the end of the simulation we get {0: 0, 1: 0, 2: 0, 3: 0, 4: 0, 5: 0, 6: 0, 7: 0, 8: 0, 9: 0, 10: 0, 11: 0, 12: 0, 13: 0, 14: 0, 15: 0, 16: 0, 17: 0, 18: 0, 19: 0, 20: 0}\n"
     ]
    },
    {
     "name": "stderr",
     "output_type": "stream",
     "text": [
      "2025-03-11 16:23:04,747 - melo_simulator_adapter - INFO - Simulation run completed\n",
      "2025-03-11 16:23:04,748 - melo_simulator_adapter - INFO - Attempting to get end_sim results (new format)...\n",
      "2025-03-11 16:23:04,750 - melo_simulator_adapter - INFO - Got CDA values: {0: tensor(-4760.6172), 1: tensor(3871.6328), 2: tensor(-3308.1016), 3: tensor(4862.9297), 4: tensor(0.), 5: tensor(0.), 6: tensor(0.), 7: tensor(0.), 8: tensor(0.), 9: tensor(0.), 10: tensor(0.), 11: tensor(0.), 12: tensor(0.), 13: tensor(0.), 14: tensor(0.), 15: tensor(0.), 16: tensor(0.), 17: tensor(0.), 18: tensor(0.), 19: tensor(0.), 20: tensor(0.)}\n",
      "2025-03-11 16:23:04,751 - melo_simulator_adapter - INFO - Got MELO profits: {0: 0, 1: 0, 2: 0, 3: 0, 4: 0, 5: 0, 6: 0, 7: 0, 8: 0, 9: 0, 10: 0, 11: 0, 12: 0, 13: 0, 14: 0, 15: 0, 16: 0, 17: 0, 18: 0, 19: 0, 20: 0}\n",
      "2025-03-11 16:23:04,751 - melo_simulator_adapter - INFO - Total agents: 21\n",
      "2025-03-11 16:23:04,751 - melo_simulator_adapter - INFO - Agent strategies: {16: 'CDA_Only', 17: 'CDA_Only', 18: 'CDA_Only', 19: 'CDA_Only', 20: 'CDA_Only'}\n",
      "2025-03-11 16:23:04,752 - melo_simulator_adapter - INFO - Background agent 0 has non-zero profit: CDA=-4760.62, MELO=0.00, Total=-4760.62\n",
      "2025-03-11 16:23:04,752 - melo_simulator_adapter - INFO - Background agent 1 has non-zero profit: CDA=3871.63, MELO=0.00, Total=3871.63\n",
      "2025-03-11 16:23:04,752 - melo_simulator_adapter - INFO - Background agent 2 has non-zero profit: CDA=-3308.10, MELO=0.00, Total=-3308.10\n",
      "2025-03-11 16:23:04,752 - melo_simulator_adapter - INFO - Background agent 3 has non-zero profit: CDA=4862.93, MELO=0.00, Total=4862.93\n",
      "2025-03-11 16:23:04,753 - melo_simulator_adapter - INFO - Strategy agent 16 (CDA_Only): CDA=0.00, MELO=0.00, Total=0.00\n",
      "2025-03-11 16:23:04,753 - melo_simulator_adapter - INFO - Strategy agent 17 (CDA_Only): CDA=0.00, MELO=0.00, Total=0.00\n",
      "2025-03-11 16:23:04,753 - melo_simulator_adapter - INFO - Strategy agent 18 (CDA_Only): CDA=0.00, MELO=0.00, Total=0.00\n",
      "2025-03-11 16:23:04,753 - melo_simulator_adapter - INFO - Strategy agent 19 (CDA_Only): CDA=0.00, MELO=0.00, Total=0.00\n",
      "2025-03-11 16:23:04,753 - melo_simulator_adapter - INFO - Strategy agent 20 (CDA_Only): CDA=0.00, MELO=0.00, Total=0.00\n",
      "2025-03-11 16:23:04,754 - melo_simulator_adapter - INFO - Strategy payoffs: {'CDA_Only': 0.0}\n",
      "2025-03-11 16:23:04,754 - melo_simulator_adapter - INFO - Simulation 4 payoffs: {'CDA_Only': 0.0}\n",
      "2025-03-11 16:23:04,754 - melo_simulator_adapter - INFO - Running simulation 5/5...\n",
      "2025-03-11 16:23:04,758 - melo_simulator_adapter - INFO - Simulator has 21 agents\n",
      "2025-03-11 16:23:04,759 - melo_simulator_adapter - INFO - Agent IDs in simulator: [0, 1, 2, 3, 4, 5, 6, 7, 8, 9, 10, 11, 12, 13, 14, 15, 16, 17, 18, 19, 20]\n",
      "2025-03-11 16:23:04,759 - melo_simulator_adapter - INFO - Using agent IDs for strategies: [16, 17, 18, 19, 20]\n",
      "2025-03-11 16:23:04,760 - melo_simulator_adapter - INFO - Starting simulation run...\n"
     ]
    },
    {
     "name": "stdout",
     "output_type": "stream",
     "text": [
      "At the end of the simulation we get {0: tensor(-4760.6172), 1: tensor(3871.6328), 2: tensor(-3308.1016), 3: tensor(4862.9297), 4: tensor(0.), 5: tensor(0.), 6: tensor(0.), 7: tensor(0.), 8: tensor(0.), 9: tensor(0.), 10: tensor(0.), 11: tensor(0.), 12: tensor(0.), 13: tensor(0.), 14: tensor(0.), 15: tensor(0.), 16: tensor(0.), 17: tensor(0.), 18: tensor(0.), 19: tensor(0.), 20: tensor(0.)}\n",
      "MELO_ At the end of the simulation we get {0: 0, 1: 0, 2: 0, 3: 0, 4: 0, 5: 0, 6: 0, 7: 0, 8: 0, 9: 0, 10: 0, 11: 0, 12: 0, 13: 0, 14: 0, 15: 0, 16: 0, 17: 0, 18: 0, 19: 0, 20: 0}\n",
      "At the end of the simulation we get {0: tensor(-4760.6172), 1: tensor(3871.6328), 2: tensor(-3308.1016), 3: tensor(4862.9297), 4: tensor(0.), 5: tensor(0.), 6: tensor(0.), 7: tensor(0.), 8: tensor(0.), 9: tensor(0.), 10: tensor(0.), 11: tensor(0.), 12: tensor(0.), 13: tensor(0.), 14: tensor(0.), 15: tensor(0.), 16: tensor(0.), 17: tensor(0.), 18: tensor(0.), 19: tensor(0.), 20: tensor(0.)}\n",
      "MELO_ At the end of the simulation we get {0: 0, 1: 0, 2: 0, 3: 0, 4: 0, 5: 0, 6: 0, 7: 0, 8: 0, 9: 0, 10: 0, 11: 0, 12: 0, 13: 0, 14: 0, 15: 0, 16: 0, 17: 0, 18: 0, 19: 0, 20: 0}\n"
     ]
    },
    {
     "name": "stderr",
     "output_type": "stream",
     "text": [
      "2025-03-11 16:23:04,968 - melo_simulator_adapter - INFO - Simulation run completed\n",
      "2025-03-11 16:23:04,969 - melo_simulator_adapter - INFO - Attempting to get end_sim results (new format)...\n",
      "2025-03-11 16:23:04,972 - melo_simulator_adapter - INFO - Got CDA values: {0: tensor(-3930.8594), 1: tensor(3281.2891), 2: tensor(5232.0156), 3: tensor(-3831.7969), 4: tensor(0.), 5: tensor(0.), 6: tensor(0.), 7: tensor(0.), 8: tensor(0.), 9: tensor(0.), 10: tensor(0.), 11: tensor(0.), 12: tensor(0.), 13: tensor(0.), 14: tensor(0.), 15: tensor(0.), 16: tensor(0.), 17: tensor(0.), 18: tensor(0.), 19: tensor(0.), 20: tensor(0.)}\n",
      "2025-03-11 16:23:04,972 - melo_simulator_adapter - INFO - Got MELO profits: {0: 0, 1: 0, 2: 0, 3: 0, 4: 0, 5: 0, 6: 0, 7: 0, 8: 0, 9: 0, 10: 0, 11: 0, 12: 0, 13: 0, 14: 0, 15: 0, 16: 0, 17: 0, 18: 0, 19: 0, 20: 0}\n",
      "2025-03-11 16:23:04,973 - melo_simulator_adapter - INFO - Total agents: 21\n",
      "2025-03-11 16:23:04,973 - melo_simulator_adapter - INFO - Agent strategies: {16: 'CDA_Only', 17: 'CDA_Only', 18: 'CDA_Only', 19: 'CDA_Only', 20: 'CDA_Only'}\n",
      "2025-03-11 16:23:04,973 - melo_simulator_adapter - INFO - Background agent 0 has non-zero profit: CDA=-3930.86, MELO=0.00, Total=-3930.86\n",
      "2025-03-11 16:23:04,973 - melo_simulator_adapter - INFO - Background agent 1 has non-zero profit: CDA=3281.29, MELO=0.00, Total=3281.29\n",
      "2025-03-11 16:23:04,974 - melo_simulator_adapter - INFO - Background agent 2 has non-zero profit: CDA=5232.02, MELO=0.00, Total=5232.02\n",
      "2025-03-11 16:23:04,974 - melo_simulator_adapter - INFO - Background agent 3 has non-zero profit: CDA=-3831.80, MELO=0.00, Total=-3831.80\n",
      "2025-03-11 16:23:04,974 - melo_simulator_adapter - INFO - Strategy agent 16 (CDA_Only): CDA=0.00, MELO=0.00, Total=0.00\n",
      "2025-03-11 16:23:04,974 - melo_simulator_adapter - INFO - Strategy agent 17 (CDA_Only): CDA=0.00, MELO=0.00, Total=0.00\n",
      "2025-03-11 16:23:04,974 - melo_simulator_adapter - INFO - Strategy agent 18 (CDA_Only): CDA=0.00, MELO=0.00, Total=0.00\n",
      "2025-03-11 16:23:04,975 - melo_simulator_adapter - INFO - Strategy agent 19 (CDA_Only): CDA=0.00, MELO=0.00, Total=0.00\n",
      "2025-03-11 16:23:04,975 - melo_simulator_adapter - INFO - Strategy agent 20 (CDA_Only): CDA=0.00, MELO=0.00, Total=0.00\n",
      "2025-03-11 16:23:04,975 - melo_simulator_adapter - INFO - Strategy payoffs: {'CDA_Only': 0.0}\n",
      "2025-03-11 16:23:04,976 - melo_simulator_adapter - INFO - Simulation 5 payoffs: {'CDA_Only': 0.0}\n",
      "2025-03-11 16:23:04,976 - melo_simulator_adapter - INFO - Final average payoffs after 5 simulations: {'CDA_Only': 0.0}\n",
      "2025-03-11 16:23:04,977 - subgame_search - INFO - Profile sampled successfully: {'CDA_Only': 5}, payoffs: {'CDA_Only': 0.0}\n",
      "2025-03-11 16:23:04,979 - subgame_search - INFO - Updated full game with new profile data\n",
      "2025-03-11 16:23:04,979 - subgame_search - INFO - Successfully sampled profiles for subgame with 1 strategies\n",
      "2025-03-11 16:23:04,980 - subgame_search - INFO - Found single-strategy equilibrium: CDA_Only\n",
      "2025-03-11 16:23:04,982 - subgame_search - INFO - Expected payoff of mixture: 0.000000\n",
      "2025-03-11 16:23:04,984 - subgame_search - INFO - No beneficial deviations found for single-strategy subgame\n",
      "2025-03-11 16:23:04,984 - subgame_search - INFO - Iteration 4: Exploring subgame with strategies ['MELO_Biased']\n",
      "2025-03-11 16:23:04,984 - subgame_search - INFO - Sampling profiles for subgame with strategies ['MELO_Biased']\n",
      "2025-03-11 16:23:04,985 - subgame_search - INFO - Simulating profile: {'MELO_Biased': 5} (attempt 1/3)\n",
      "2025-03-11 16:23:04,985 - melo_simulator_adapter - INFO - Simulating profile: {'MELO_Biased': 5} with parameters: {'lam': 0.05, 'mean': 100000.0, 'r': 0.05, 'shock_var': 5000000.0, 'q_max': 10, 'pv_var': 5000000.0, 'shade': [500, 1000]}\n",
      "2025-03-11 16:23:04,985 - melo_simulator_adapter - INFO - Running simulation 1/5...\n",
      "2025-03-11 16:23:04,989 - melo_simulator_adapter - INFO - Simulator has 21 agents\n",
      "2025-03-11 16:23:04,989 - melo_simulator_adapter - INFO - Agent IDs in simulator: [0, 1, 2, 3, 4, 5, 6, 7, 8, 9, 10, 11, 12, 13, 14, 15, 16, 17, 18, 19, 20]\n",
      "2025-03-11 16:23:04,990 - melo_simulator_adapter - INFO - Using agent IDs for strategies: [16, 17, 18, 19, 20]\n",
      "2025-03-11 16:23:04,990 - melo_simulator_adapter - INFO - Starting simulation run...\n"
     ]
    },
    {
     "name": "stdout",
     "output_type": "stream",
     "text": [
      "At the end of the simulation we get {0: tensor(-3930.8594), 1: tensor(3281.2891), 2: tensor(5232.0156), 3: tensor(-3831.7969), 4: tensor(0.), 5: tensor(0.), 6: tensor(0.), 7: tensor(0.), 8: tensor(0.), 9: tensor(0.), 10: tensor(0.), 11: tensor(0.), 12: tensor(0.), 13: tensor(0.), 14: tensor(0.), 15: tensor(0.), 16: tensor(0.), 17: tensor(0.), 18: tensor(0.), 19: tensor(0.), 20: tensor(0.)}\n",
      "MELO_ At the end of the simulation we get {0: 0, 1: 0, 2: 0, 3: 0, 4: 0, 5: 0, 6: 0, 7: 0, 8: 0, 9: 0, 10: 0, 11: 0, 12: 0, 13: 0, 14: 0, 15: 0, 16: 0, 17: 0, 18: 0, 19: 0, 20: 0}\n",
      "At the end of the simulation we get {0: tensor(-3930.8594), 1: tensor(3281.2891), 2: tensor(5232.0156), 3: tensor(-3831.7969), 4: tensor(0.), 5: tensor(0.), 6: tensor(0.), 7: tensor(0.), 8: tensor(0.), 9: tensor(0.), 10: tensor(0.), 11: tensor(0.), 12: tensor(0.), 13: tensor(0.), 14: tensor(0.), 15: tensor(0.), 16: tensor(0.), 17: tensor(0.), 18: tensor(0.), 19: tensor(0.), 20: tensor(0.)}\n",
      "MELO_ At the end of the simulation we get {0: 0, 1: 0, 2: 0, 3: 0, 4: 0, 5: 0, 6: 0, 7: 0, 8: 0, 9: 0, 10: 0, 11: 0, 12: 0, 13: 0, 14: 0, 15: 0, 16: 0, 17: 0, 18: 0, 19: 0, 20: 0}\n"
     ]
    },
    {
     "name": "stderr",
     "output_type": "stream",
     "text": [
      "2025-03-11 16:23:05,243 - melo_simulator_adapter - INFO - Simulation run completed\n",
      "2025-03-11 16:23:05,243 - melo_simulator_adapter - INFO - Attempting to get end_sim results (new format)...\n",
      "2025-03-11 16:23:05,246 - melo_simulator_adapter - INFO - Got CDA values: {0: tensor(19048.0938), 1: tensor(0.), 2: tensor(-4902.8125), 3: tensor(-9413.5312), 4: tensor(0.), 5: tensor(0.), 6: tensor(0.), 7: tensor(0.), 8: tensor(0.), 9: tensor(0.), 10: tensor(0.), 11: tensor(0.), 12: tensor(0.), 13: tensor(0.), 14: tensor(0.), 15: tensor(0.), 16: tensor(0.), 17: tensor(0.), 18: tensor(0.), 19: tensor(0.), 20: tensor(0.)}\n",
      "2025-03-11 16:23:05,246 - melo_simulator_adapter - INFO - Got MELO profits: {0: 0, 1: 0, 2: 0, 3: 0, 4: 0, 5: 0, 6: 0, 7: 0, 8: 0, 9: 0, 10: 0, 11: 0, 12: 0, 13: 0, 14: 0, 15: 0, 16: 0, 17: 0, 18: 0, 19: 0, 20: 0}\n",
      "2025-03-11 16:23:05,246 - melo_simulator_adapter - INFO - Total agents: 21\n",
      "2025-03-11 16:23:05,246 - melo_simulator_adapter - INFO - Agent strategies: {16: 'MELO_Biased', 17: 'MELO_Biased', 18: 'MELO_Biased', 19: 'MELO_Biased', 20: 'MELO_Biased'}\n",
      "2025-03-11 16:23:05,247 - melo_simulator_adapter - INFO - Background agent 0 has non-zero profit: CDA=19048.09, MELO=0.00, Total=19048.09\n",
      "2025-03-11 16:23:05,247 - melo_simulator_adapter - INFO - Background agent 2 has non-zero profit: CDA=-4902.81, MELO=0.00, Total=-4902.81\n",
      "2025-03-11 16:23:05,247 - melo_simulator_adapter - INFO - Background agent 3 has non-zero profit: CDA=-9413.53, MELO=0.00, Total=-9413.53\n",
      "2025-03-11 16:23:05,247 - melo_simulator_adapter - INFO - Strategy agent 16 (MELO_Biased): CDA=0.00, MELO=0.00, Total=0.00\n",
      "2025-03-11 16:23:05,248 - melo_simulator_adapter - INFO - Strategy agent 17 (MELO_Biased): CDA=0.00, MELO=0.00, Total=0.00\n",
      "2025-03-11 16:23:05,248 - melo_simulator_adapter - INFO - Strategy agent 18 (MELO_Biased): CDA=0.00, MELO=0.00, Total=0.00\n",
      "2025-03-11 16:23:05,248 - melo_simulator_adapter - INFO - Strategy agent 19 (MELO_Biased): CDA=0.00, MELO=0.00, Total=0.00\n",
      "2025-03-11 16:23:05,248 - melo_simulator_adapter - INFO - Strategy agent 20 (MELO_Biased): CDA=0.00, MELO=0.00, Total=0.00\n",
      "2025-03-11 16:23:05,248 - melo_simulator_adapter - INFO - Strategy payoffs: {'MELO_Biased': 0.0}\n",
      "2025-03-11 16:23:05,249 - melo_simulator_adapter - INFO - Simulation 1 payoffs: {'MELO_Biased': 0.0}\n",
      "2025-03-11 16:23:05,249 - melo_simulator_adapter - INFO - Running simulation 2/5...\n",
      "2025-03-11 16:23:05,254 - melo_simulator_adapter - INFO - Simulator has 21 agents\n",
      "2025-03-11 16:23:05,254 - melo_simulator_adapter - INFO - Agent IDs in simulator: [0, 1, 2, 3, 4, 5, 6, 7, 8, 9, 10, 11, 12, 13, 14, 15, 16, 17, 18, 19, 20]\n",
      "2025-03-11 16:23:05,254 - melo_simulator_adapter - INFO - Using agent IDs for strategies: [16, 17, 18, 19, 20]\n",
      "2025-03-11 16:23:05,255 - melo_simulator_adapter - INFO - Starting simulation run...\n"
     ]
    },
    {
     "name": "stdout",
     "output_type": "stream",
     "text": [
      "At the end of the simulation we get {0: tensor(19048.0938), 1: tensor(0.), 2: tensor(-4902.8125), 3: tensor(-9413.5312), 4: tensor(0.), 5: tensor(0.), 6: tensor(0.), 7: tensor(0.), 8: tensor(0.), 9: tensor(0.), 10: tensor(0.), 11: tensor(0.), 12: tensor(0.), 13: tensor(0.), 14: tensor(0.), 15: tensor(0.), 16: tensor(0.), 17: tensor(0.), 18: tensor(0.), 19: tensor(0.), 20: tensor(0.)}\n",
      "MELO_ At the end of the simulation we get {0: 0, 1: 0, 2: 0, 3: 0, 4: 0, 5: 0, 6: 0, 7: 0, 8: 0, 9: 0, 10: 0, 11: 0, 12: 0, 13: 0, 14: 0, 15: 0, 16: 0, 17: 0, 18: 0, 19: 0, 20: 0}\n",
      "At the end of the simulation we get {0: tensor(19048.0938), 1: tensor(0.), 2: tensor(-4902.8125), 3: tensor(-9413.5312), 4: tensor(0.), 5: tensor(0.), 6: tensor(0.), 7: tensor(0.), 8: tensor(0.), 9: tensor(0.), 10: tensor(0.), 11: tensor(0.), 12: tensor(0.), 13: tensor(0.), 14: tensor(0.), 15: tensor(0.), 16: tensor(0.), 17: tensor(0.), 18: tensor(0.), 19: tensor(0.), 20: tensor(0.)}\n",
      "MELO_ At the end of the simulation we get {0: 0, 1: 0, 2: 0, 3: 0, 4: 0, 5: 0, 6: 0, 7: 0, 8: 0, 9: 0, 10: 0, 11: 0, 12: 0, 13: 0, 14: 0, 15: 0, 16: 0, 17: 0, 18: 0, 19: 0, 20: 0}\n"
     ]
    },
    {
     "name": "stderr",
     "output_type": "stream",
     "text": [
      "2025-03-11 16:23:05,465 - melo_simulator_adapter - INFO - Simulation run completed\n",
      "2025-03-11 16:23:05,465 - melo_simulator_adapter - INFO - Attempting to get end_sim results (new format)...\n",
      "2025-03-11 16:23:05,468 - melo_simulator_adapter - INFO - Got CDA values: {0: tensor(-7362.0625), 1: tensor(0.), 2: tensor(7778.2969), 3: tensor(0.), 4: tensor(2193.0938), 5: tensor(0.), 6: tensor(0.), 7: tensor(0.), 8: tensor(0.), 9: tensor(0.), 10: tensor(0.), 11: tensor(0.), 12: tensor(0.), 13: tensor(0.), 14: tensor(0.), 15: tensor(0.), 16: tensor(0.), 17: tensor(0.), 18: tensor(0.), 19: tensor(0.), 20: tensor(0.)}\n",
      "2025-03-11 16:23:05,468 - melo_simulator_adapter - INFO - Got MELO profits: {0: 0, 1: 0, 2: 0, 3: 0, 4: 0, 5: 0, 6: 0, 7: 0, 8: 0, 9: 0, 10: 0, 11: 0, 12: 0, 13: 0, 14: 0, 15: 0, 16: 0, 17: 0, 18: 0, 19: 0, 20: 0}\n",
      "2025-03-11 16:23:05,469 - melo_simulator_adapter - INFO - Total agents: 21\n",
      "2025-03-11 16:23:05,469 - melo_simulator_adapter - INFO - Agent strategies: {16: 'MELO_Biased', 17: 'MELO_Biased', 18: 'MELO_Biased', 19: 'MELO_Biased', 20: 'MELO_Biased'}\n",
      "2025-03-11 16:23:05,469 - melo_simulator_adapter - INFO - Background agent 0 has non-zero profit: CDA=-7362.06, MELO=0.00, Total=-7362.06\n",
      "2025-03-11 16:23:05,470 - melo_simulator_adapter - INFO - Background agent 2 has non-zero profit: CDA=7778.30, MELO=0.00, Total=7778.30\n",
      "2025-03-11 16:23:05,470 - melo_simulator_adapter - INFO - Background agent 4 has non-zero profit: CDA=2193.09, MELO=0.00, Total=2193.09\n",
      "2025-03-11 16:23:05,470 - melo_simulator_adapter - INFO - Strategy agent 16 (MELO_Biased): CDA=0.00, MELO=0.00, Total=0.00\n",
      "2025-03-11 16:23:05,470 - melo_simulator_adapter - INFO - Strategy agent 17 (MELO_Biased): CDA=0.00, MELO=0.00, Total=0.00\n",
      "2025-03-11 16:23:05,470 - melo_simulator_adapter - INFO - Strategy agent 18 (MELO_Biased): CDA=0.00, MELO=0.00, Total=0.00\n",
      "2025-03-11 16:23:05,470 - melo_simulator_adapter - INFO - Strategy agent 19 (MELO_Biased): CDA=0.00, MELO=0.00, Total=0.00\n",
      "2025-03-11 16:23:05,471 - melo_simulator_adapter - INFO - Strategy agent 20 (MELO_Biased): CDA=0.00, MELO=0.00, Total=0.00\n",
      "2025-03-11 16:23:05,471 - melo_simulator_adapter - INFO - Strategy payoffs: {'MELO_Biased': 0.0}\n",
      "2025-03-11 16:23:05,471 - melo_simulator_adapter - INFO - Simulation 2 payoffs: {'MELO_Biased': 0.0}\n",
      "2025-03-11 16:23:05,471 - melo_simulator_adapter - INFO - Running simulation 3/5...\n",
      "2025-03-11 16:23:05,475 - melo_simulator_adapter - INFO - Simulator has 21 agents\n",
      "2025-03-11 16:23:05,476 - melo_simulator_adapter - INFO - Agent IDs in simulator: [0, 1, 2, 3, 4, 5, 6, 7, 8, 9, 10, 11, 12, 13, 14, 15, 16, 17, 18, 19, 20]\n",
      "2025-03-11 16:23:05,476 - melo_simulator_adapter - INFO - Using agent IDs for strategies: [16, 17, 18, 19, 20]\n",
      "2025-03-11 16:23:05,477 - melo_simulator_adapter - INFO - Starting simulation run...\n"
     ]
    },
    {
     "name": "stdout",
     "output_type": "stream",
     "text": [
      "At the end of the simulation we get {0: tensor(-7362.0625), 1: tensor(0.), 2: tensor(7778.2969), 3: tensor(0.), 4: tensor(2193.0938), 5: tensor(0.), 6: tensor(0.), 7: tensor(0.), 8: tensor(0.), 9: tensor(0.), 10: tensor(0.), 11: tensor(0.), 12: tensor(0.), 13: tensor(0.), 14: tensor(0.), 15: tensor(0.), 16: tensor(0.), 17: tensor(0.), 18: tensor(0.), 19: tensor(0.), 20: tensor(0.)}\n",
      "MELO_ At the end of the simulation we get {0: 0, 1: 0, 2: 0, 3: 0, 4: 0, 5: 0, 6: 0, 7: 0, 8: 0, 9: 0, 10: 0, 11: 0, 12: 0, 13: 0, 14: 0, 15: 0, 16: 0, 17: 0, 18: 0, 19: 0, 20: 0}\n",
      "At the end of the simulation we get {0: tensor(-7362.0625), 1: tensor(0.), 2: tensor(7778.2969), 3: tensor(0.), 4: tensor(2193.0938), 5: tensor(0.), 6: tensor(0.), 7: tensor(0.), 8: tensor(0.), 9: tensor(0.), 10: tensor(0.), 11: tensor(0.), 12: tensor(0.), 13: tensor(0.), 14: tensor(0.), 15: tensor(0.), 16: tensor(0.), 17: tensor(0.), 18: tensor(0.), 19: tensor(0.), 20: tensor(0.)}\n",
      "MELO_ At the end of the simulation we get {0: 0, 1: 0, 2: 0, 3: 0, 4: 0, 5: 0, 6: 0, 7: 0, 8: 0, 9: 0, 10: 0, 11: 0, 12: 0, 13: 0, 14: 0, 15: 0, 16: 0, 17: 0, 18: 0, 19: 0, 20: 0}\n"
     ]
    },
    {
     "name": "stderr",
     "output_type": "stream",
     "text": [
      "2025-03-11 16:23:05,709 - melo_simulator_adapter - INFO - Simulation run completed\n",
      "2025-03-11 16:23:05,712 - melo_simulator_adapter - INFO - Attempting to get end_sim results (new format)...\n",
      "2025-03-11 16:23:05,718 - melo_simulator_adapter - INFO - Got CDA values: {0: tensor(3328.3047), 1: tensor(0.), 2: tensor(-4431.8984), 3: tensor(3015.9219), 4: tensor(-2611.6797), 5: tensor(0.), 6: tensor(0.), 7: tensor(0.), 8: tensor(0.), 9: tensor(0.), 10: tensor(0.), 11: tensor(0.), 12: tensor(0.), 13: tensor(0.), 14: tensor(0.), 15: tensor(0.), 16: tensor(0.), 17: tensor(0.), 18: tensor(0.), 19: tensor(0.), 20: tensor(0.)}\n",
      "2025-03-11 16:23:05,719 - melo_simulator_adapter - INFO - Got MELO profits: {0: 0, 1: 0, 2: 0, 3: 0, 4: 0, 5: 0, 6: 0, 7: 0, 8: 0, 9: 0, 10: 0, 11: 0, 12: 0, 13: 0, 14: 0, 15: 0, 16: 0, 17: 0, 18: 0, 19: 0, 20: 0}\n",
      "2025-03-11 16:23:05,719 - melo_simulator_adapter - INFO - Total agents: 21\n",
      "2025-03-11 16:23:05,719 - melo_simulator_adapter - INFO - Agent strategies: {16: 'MELO_Biased', 17: 'MELO_Biased', 18: 'MELO_Biased', 19: 'MELO_Biased', 20: 'MELO_Biased'}\n",
      "2025-03-11 16:23:05,720 - melo_simulator_adapter - INFO - Background agent 0 has non-zero profit: CDA=3328.30, MELO=0.00, Total=3328.30\n",
      "2025-03-11 16:23:05,721 - melo_simulator_adapter - INFO - Background agent 2 has non-zero profit: CDA=-4431.90, MELO=0.00, Total=-4431.90\n",
      "2025-03-11 16:23:05,721 - melo_simulator_adapter - INFO - Background agent 3 has non-zero profit: CDA=3015.92, MELO=0.00, Total=3015.92\n",
      "2025-03-11 16:23:05,721 - melo_simulator_adapter - INFO - Background agent 4 has non-zero profit: CDA=-2611.68, MELO=0.00, Total=-2611.68\n",
      "2025-03-11 16:23:05,722 - melo_simulator_adapter - INFO - Strategy agent 16 (MELO_Biased): CDA=0.00, MELO=0.00, Total=0.00\n",
      "2025-03-11 16:23:05,722 - melo_simulator_adapter - INFO - Strategy agent 17 (MELO_Biased): CDA=0.00, MELO=0.00, Total=0.00\n",
      "2025-03-11 16:23:05,722 - melo_simulator_adapter - INFO - Strategy agent 18 (MELO_Biased): CDA=0.00, MELO=0.00, Total=0.00\n",
      "2025-03-11 16:23:05,724 - melo_simulator_adapter - INFO - Strategy agent 19 (MELO_Biased): CDA=0.00, MELO=0.00, Total=0.00\n",
      "2025-03-11 16:23:05,726 - melo_simulator_adapter - INFO - Strategy agent 20 (MELO_Biased): CDA=0.00, MELO=0.00, Total=0.00\n",
      "2025-03-11 16:23:05,736 - melo_simulator_adapter - INFO - Strategy payoffs: {'MELO_Biased': 0.0}\n",
      "2025-03-11 16:23:05,736 - melo_simulator_adapter - INFO - Simulation 3 payoffs: {'MELO_Biased': 0.0}\n",
      "2025-03-11 16:23:05,738 - melo_simulator_adapter - INFO - Running simulation 4/5...\n",
      "2025-03-11 16:23:05,781 - melo_simulator_adapter - INFO - Simulator has 21 agents\n",
      "2025-03-11 16:23:05,781 - melo_simulator_adapter - INFO - Agent IDs in simulator: [0, 1, 2, 3, 4, 5, 6, 7, 8, 9, 10, 11, 12, 13, 14, 15, 16, 17, 18, 19, 20]\n",
      "2025-03-11 16:23:05,782 - melo_simulator_adapter - INFO - Using agent IDs for strategies: [16, 17, 18, 19, 20]\n",
      "2025-03-11 16:23:05,791 - melo_simulator_adapter - INFO - Starting simulation run...\n"
     ]
    },
    {
     "name": "stdout",
     "output_type": "stream",
     "text": [
      "At the end of the simulation we get {0: tensor(3328.3047), 1: tensor(0.), 2: tensor(-4431.8984), 3: tensor(3015.9219), 4: tensor(-2611.6797), 5: tensor(0.), 6: tensor(0.), 7: tensor(0.), 8: tensor(0.), 9: tensor(0.), 10: tensor(0.), 11: tensor(0.), 12: tensor(0.), 13: tensor(0.), 14: tensor(0.), 15: tensor(0.), 16: tensor(0.), 17: tensor(0.), 18: tensor(0.), 19: tensor(0.), 20: tensor(0.)}\n",
      "MELO_ At the end of the simulation we get {0: 0, 1: 0, 2: 0, 3: 0, 4: 0, 5: 0, 6: 0, 7: 0, 8: 0, 9: 0, 10: 0, 11: 0, 12: 0, 13: 0, 14: 0, 15: 0, 16: 0, 17: 0, 18: 0, 19: 0, 20: 0}\n",
      "At the end of the simulation we get {0: tensor(3328.3047), 1: tensor(0.), 2: tensor(-4431.8984), 3: tensor(3015.9219), 4: tensor(-2611.6797), 5: tensor(0.), 6: tensor(0.), 7: tensor(0.), 8: tensor(0.), 9: tensor(0.), 10: tensor(0.), 11: tensor(0.), 12: tensor(0.), 13: tensor(0.), 14: tensor(0.), 15: tensor(0.), 16: tensor(0.), 17: tensor(0.), 18: tensor(0.), 19: tensor(0.), 20: tensor(0.)}\n",
      "MELO_ At the end of the simulation we get {0: 0, 1: 0, 2: 0, 3: 0, 4: 0, 5: 0, 6: 0, 7: 0, 8: 0, 9: 0, 10: 0, 11: 0, 12: 0, 13: 0, 14: 0, 15: 0, 16: 0, 17: 0, 18: 0, 19: 0, 20: 0}\n"
     ]
    },
    {
     "name": "stderr",
     "output_type": "stream",
     "text": [
      "2025-03-11 16:23:06,084 - melo_simulator_adapter - INFO - Simulation run completed\n",
      "2025-03-11 16:23:06,085 - melo_simulator_adapter - INFO - Attempting to get end_sim results (new format)...\n",
      "2025-03-11 16:23:06,088 - melo_simulator_adapter - INFO - Got CDA values: {0: tensor(-2116.2266), 1: tensor(-4780.2656), 2: tensor(4547.4839), 3: tensor(9363.4688), 4: tensor(-2001.9531), 5: tensor(0.), 6: tensor(0.), 7: tensor(0.), 8: tensor(0.), 9: tensor(0.), 10: tensor(0.), 11: tensor(0.), 12: tensor(0.), 13: tensor(0.), 14: tensor(0.), 15: tensor(0.), 16: tensor(0.), 17: tensor(0.), 18: tensor(0.), 19: tensor(0.), 20: tensor(0.)}\n",
      "2025-03-11 16:23:06,088 - melo_simulator_adapter - INFO - Got MELO profits: {0: 0, 1: 0, 2: 0, 3: 0, 4: 0, 5: 0, 6: 0, 7: 0, 8: 0, 9: 0, 10: 0, 11: 0, 12: 0, 13: 0, 14: 0, 15: 0, 16: 0, 17: 0, 18: 0, 19: 0, 20: 0}\n",
      "2025-03-11 16:23:06,088 - melo_simulator_adapter - INFO - Total agents: 21\n",
      "2025-03-11 16:23:06,089 - melo_simulator_adapter - INFO - Agent strategies: {16: 'MELO_Biased', 17: 'MELO_Biased', 18: 'MELO_Biased', 19: 'MELO_Biased', 20: 'MELO_Biased'}\n",
      "2025-03-11 16:23:06,089 - melo_simulator_adapter - INFO - Background agent 0 has non-zero profit: CDA=-2116.23, MELO=0.00, Total=-2116.23\n",
      "2025-03-11 16:23:06,089 - melo_simulator_adapter - INFO - Background agent 1 has non-zero profit: CDA=-4780.27, MELO=0.00, Total=-4780.27\n",
      "2025-03-11 16:23:06,089 - melo_simulator_adapter - INFO - Background agent 2 has non-zero profit: CDA=4547.48, MELO=0.00, Total=4547.48\n",
      "2025-03-11 16:23:06,089 - melo_simulator_adapter - INFO - Background agent 3 has non-zero profit: CDA=9363.47, MELO=0.00, Total=9363.47\n",
      "2025-03-11 16:23:06,090 - melo_simulator_adapter - INFO - Background agent 4 has non-zero profit: CDA=-2001.95, MELO=0.00, Total=-2001.95\n",
      "2025-03-11 16:23:06,090 - melo_simulator_adapter - INFO - Strategy agent 16 (MELO_Biased): CDA=0.00, MELO=0.00, Total=0.00\n",
      "2025-03-11 16:23:06,090 - melo_simulator_adapter - INFO - Strategy agent 17 (MELO_Biased): CDA=0.00, MELO=0.00, Total=0.00\n",
      "2025-03-11 16:23:06,090 - melo_simulator_adapter - INFO - Strategy agent 18 (MELO_Biased): CDA=0.00, MELO=0.00, Total=0.00\n",
      "2025-03-11 16:23:06,090 - melo_simulator_adapter - INFO - Strategy agent 19 (MELO_Biased): CDA=0.00, MELO=0.00, Total=0.00\n",
      "2025-03-11 16:23:06,091 - melo_simulator_adapter - INFO - Strategy agent 20 (MELO_Biased): CDA=0.00, MELO=0.00, Total=0.00\n",
      "2025-03-11 16:23:06,091 - melo_simulator_adapter - INFO - Strategy payoffs: {'MELO_Biased': 0.0}\n",
      "2025-03-11 16:23:06,091 - melo_simulator_adapter - INFO - Simulation 4 payoffs: {'MELO_Biased': 0.0}\n",
      "2025-03-11 16:23:06,092 - melo_simulator_adapter - INFO - Running simulation 5/5...\n",
      "2025-03-11 16:23:06,097 - melo_simulator_adapter - INFO - Simulator has 21 agents\n",
      "2025-03-11 16:23:06,097 - melo_simulator_adapter - INFO - Agent IDs in simulator: [0, 1, 2, 3, 4, 5, 6, 7, 8, 9, 10, 11, 12, 13, 14, 15, 16, 17, 18, 19, 20]\n",
      "2025-03-11 16:23:06,097 - melo_simulator_adapter - INFO - Using agent IDs for strategies: [16, 17, 18, 19, 20]\n",
      "2025-03-11 16:23:06,099 - melo_simulator_adapter - INFO - Starting simulation run...\n"
     ]
    },
    {
     "name": "stdout",
     "output_type": "stream",
     "text": [
      "At the end of the simulation we get {0: tensor(-2116.2266), 1: tensor(-4780.2656), 2: tensor(4547.4839), 3: tensor(9363.4688), 4: tensor(-2001.9531), 5: tensor(0.), 6: tensor(0.), 7: tensor(0.), 8: tensor(0.), 9: tensor(0.), 10: tensor(0.), 11: tensor(0.), 12: tensor(0.), 13: tensor(0.), 14: tensor(0.), 15: tensor(0.), 16: tensor(0.), 17: tensor(0.), 18: tensor(0.), 19: tensor(0.), 20: tensor(0.)}\n",
      "MELO_ At the end of the simulation we get {0: 0, 1: 0, 2: 0, 3: 0, 4: 0, 5: 0, 6: 0, 7: 0, 8: 0, 9: 0, 10: 0, 11: 0, 12: 0, 13: 0, 14: 0, 15: 0, 16: 0, 17: 0, 18: 0, 19: 0, 20: 0}\n",
      "At the end of the simulation we get {0: tensor(-2116.2266), 1: tensor(-4780.2656), 2: tensor(4547.4839), 3: tensor(9363.4688), 4: tensor(-2001.9531), 5: tensor(0.), 6: tensor(0.), 7: tensor(0.), 8: tensor(0.), 9: tensor(0.), 10: tensor(0.), 11: tensor(0.), 12: tensor(0.), 13: tensor(0.), 14: tensor(0.), 15: tensor(0.), 16: tensor(0.), 17: tensor(0.), 18: tensor(0.), 19: tensor(0.), 20: tensor(0.)}\n",
      "MELO_ At the end of the simulation we get {0: 0, 1: 0, 2: 0, 3: 0, 4: 0, 5: 0, 6: 0, 7: 0, 8: 0, 9: 0, 10: 0, 11: 0, 12: 0, 13: 0, 14: 0, 15: 0, 16: 0, 17: 0, 18: 0, 19: 0, 20: 0}\n"
     ]
    },
    {
     "name": "stderr",
     "output_type": "stream",
     "text": [
      "2025-03-11 16:23:06,306 - melo_simulator_adapter - INFO - Simulation run completed\n",
      "2025-03-11 16:23:06,307 - melo_simulator_adapter - INFO - Attempting to get end_sim results (new format)...\n",
      "2025-03-11 16:23:06,310 - melo_simulator_adapter - INFO - Got CDA values: {0: tensor(3209.4062), 1: tensor(-454.4023), 2: tensor(914.7578), 3: tensor(-61.6094), 4: tensor(-2232.6094), 5: tensor(0.), 6: tensor(0.), 7: tensor(0.), 8: tensor(0.), 9: tensor(0.), 10: tensor(0.), 11: tensor(0.), 12: tensor(0.), 13: tensor(0.), 14: tensor(0.), 15: tensor(0.), 16: tensor(0.), 17: tensor(0.), 18: tensor(0.), 19: tensor(0.), 20: tensor(0.)}\n",
      "2025-03-11 16:23:06,310 - melo_simulator_adapter - INFO - Got MELO profits: {0: 0, 1: 0, 2: 0, 3: 0, 4: 0, 5: 0, 6: 0, 7: 0, 8: 0, 9: 0, 10: 0, 11: 0, 12: 0, 13: 0, 14: 0, 15: 0, 16: 0, 17: 0, 18: 0, 19: 0, 20: 0}\n",
      "2025-03-11 16:23:06,310 - melo_simulator_adapter - INFO - Total agents: 21\n",
      "2025-03-11 16:23:06,310 - melo_simulator_adapter - INFO - Agent strategies: {16: 'MELO_Biased', 17: 'MELO_Biased', 18: 'MELO_Biased', 19: 'MELO_Biased', 20: 'MELO_Biased'}\n",
      "2025-03-11 16:23:06,311 - melo_simulator_adapter - INFO - Background agent 0 has non-zero profit: CDA=3209.41, MELO=0.00, Total=3209.41\n",
      "2025-03-11 16:23:06,311 - melo_simulator_adapter - INFO - Background agent 1 has non-zero profit: CDA=-454.40, MELO=0.00, Total=-454.40\n",
      "2025-03-11 16:23:06,311 - melo_simulator_adapter - INFO - Background agent 2 has non-zero profit: CDA=914.76, MELO=0.00, Total=914.76\n",
      "2025-03-11 16:23:06,311 - melo_simulator_adapter - INFO - Background agent 3 has non-zero profit: CDA=-61.61, MELO=0.00, Total=-61.61\n",
      "2025-03-11 16:23:06,312 - melo_simulator_adapter - INFO - Background agent 4 has non-zero profit: CDA=-2232.61, MELO=0.00, Total=-2232.61\n",
      "2025-03-11 16:23:06,312 - melo_simulator_adapter - INFO - Strategy agent 16 (MELO_Biased): CDA=0.00, MELO=0.00, Total=0.00\n",
      "2025-03-11 16:23:06,312 - melo_simulator_adapter - INFO - Strategy agent 17 (MELO_Biased): CDA=0.00, MELO=0.00, Total=0.00\n",
      "2025-03-11 16:23:06,312 - melo_simulator_adapter - INFO - Strategy agent 18 (MELO_Biased): CDA=0.00, MELO=0.00, Total=0.00\n",
      "2025-03-11 16:23:06,313 - melo_simulator_adapter - INFO - Strategy agent 19 (MELO_Biased): CDA=0.00, MELO=0.00, Total=0.00\n",
      "2025-03-11 16:23:06,313 - melo_simulator_adapter - INFO - Strategy agent 20 (MELO_Biased): CDA=0.00, MELO=0.00, Total=0.00\n",
      "2025-03-11 16:23:06,313 - melo_simulator_adapter - INFO - Strategy payoffs: {'MELO_Biased': 0.0}\n",
      "2025-03-11 16:23:06,313 - melo_simulator_adapter - INFO - Simulation 5 payoffs: {'MELO_Biased': 0.0}\n",
      "2025-03-11 16:23:06,314 - melo_simulator_adapter - INFO - Final average payoffs after 5 simulations: {'MELO_Biased': 0.0}\n",
      "2025-03-11 16:23:06,315 - subgame_search - INFO - Profile sampled successfully: {'MELO_Biased': 5}, payoffs: {'MELO_Biased': 0.0}\n",
      "2025-03-11 16:23:06,317 - subgame_search - INFO - Updated full game with new profile data\n",
      "2025-03-11 16:23:06,318 - subgame_search - INFO - Successfully sampled profiles for subgame with 1 strategies\n",
      "2025-03-11 16:23:06,318 - subgame_search - INFO - Found single-strategy equilibrium: MELO_Biased\n",
      "2025-03-11 16:23:06,320 - subgame_search - INFO - Expected payoff of mixture: 0.000000\n",
      "2025-03-11 16:23:06,324 - subgame_search - INFO - No beneficial deviations found for single-strategy subgame\n",
      "2025-03-11 16:23:06,324 - subgame_search - INFO - Subgame search completed after 5 iterations\n",
      "2025-03-11 16:23:06,324 - subgame_search - INFO - Found 5 equilibria\n",
      "2025-03-11 16:23:06,325 - subgame_search - INFO - Explored 5 subgames\n",
      "2025-03-11 16:23:06,325 - subgame_search - INFO - Sampled 5 unique profiles\n"
     ]
    },
    {
     "name": "stdout",
     "output_type": "stream",
     "text": [
      "At the end of the simulation we get {0: tensor(3209.4062), 1: tensor(-454.4023), 2: tensor(914.7578), 3: tensor(-61.6094), 4: tensor(-2232.6094), 5: tensor(0.), 6: tensor(0.), 7: tensor(0.), 8: tensor(0.), 9: tensor(0.), 10: tensor(0.), 11: tensor(0.), 12: tensor(0.), 13: tensor(0.), 14: tensor(0.), 15: tensor(0.), 16: tensor(0.), 17: tensor(0.), 18: tensor(0.), 19: tensor(0.), 20: tensor(0.)}\n",
      "MELO_ At the end of the simulation we get {0: 0, 1: 0, 2: 0, 3: 0, 4: 0, 5: 0, 6: 0, 7: 0, 8: 0, 9: 0, 10: 0, 11: 0, 12: 0, 13: 0, 14: 0, 15: 0, 16: 0, 17: 0, 18: 0, 19: 0, 20: 0}\n",
      "At the end of the simulation we get {0: tensor(3209.4062), 1: tensor(-454.4023), 2: tensor(914.7578), 3: tensor(-61.6094), 4: tensor(-2232.6094), 5: tensor(0.), 6: tensor(0.), 7: tensor(0.), 8: tensor(0.), 9: tensor(0.), 10: tensor(0.), 11: tensor(0.), 12: tensor(0.), 13: tensor(0.), 14: tensor(0.), 15: tensor(0.), 16: tensor(0.), 17: tensor(0.), 18: tensor(0.), 19: tensor(0.), 20: tensor(0.)}\n",
      "MELO_ At the end of the simulation we get {0: 0, 1: 0, 2: 0, 3: 0, 4: 0, 5: 0, 6: 0, 7: 0, 8: 0, 9: 0, 10: 0, 11: 0, 12: 0, 13: 0, 14: 0, 15: 0, 16: 0, 17: 0, 18: 0, 19: 0, 20: 0}\n",
      "Subgame search completed\n"
     ]
    }
   ],
   "source": [
    "# Initialize the subgame search\n",
    "subgame_search.initialize()\n",
    "\n",
    "# Run the subgame search\n",
    "results = subgame_search.run()\n",
    "\n",
    "print(\"Subgame search completed\")"
   ]
  },
  {
   "cell_type": "markdown",
   "metadata": {},
   "source": [
    "### Analyze Subgame Search Results"
   ]
  },
  {
   "cell_type": "code",
   "execution_count": 38,
   "metadata": {},
   "outputs": [
    {
     "ename": "TypeError",
     "evalue": "list indices must be integers or slices, not str",
     "output_type": "error",
     "traceback": [
      "\u001b[0;31m---------------------------------------------------------------------------\u001b[0m",
      "\u001b[0;31mTypeError\u001b[0m                                 Traceback (most recent call last)",
      "Cell \u001b[0;32mIn[38], line 2\u001b[0m\n\u001b[1;32m      1\u001b[0m \u001b[38;5;66;03m# Extract the equilibria and regrets\u001b[39;00m\n\u001b[0;32m----> 2\u001b[0m equilibria \u001b[38;5;241m=\u001b[39m \u001b[43mresults\u001b[49m\u001b[43m[\u001b[49m\u001b[38;5;124;43m'\u001b[39;49m\u001b[38;5;124;43mequilibria\u001b[39;49m\u001b[38;5;124;43m'\u001b[39;49m\u001b[43m]\u001b[49m\n\u001b[1;32m      3\u001b[0m regrets \u001b[38;5;241m=\u001b[39m results[\u001b[38;5;124m'\u001b[39m\u001b[38;5;124mregrets\u001b[39m\u001b[38;5;124m'\u001b[39m]\n\u001b[1;32m      5\u001b[0m \u001b[38;5;66;03m# Display the results\u001b[39;00m\n",
      "\u001b[0;31mTypeError\u001b[0m: list indices must be integers or slices, not str"
     ]
    }
   ],
   "source": [
    "# Extract the equilibria and regrets\n",
    "equilibria = results['equilibria']\n",
    "regrets = results['regrets']\n",
    "\n",
    "# Display the results\n",
    "print(f\"Found {len(equilibria)} equilibria\")\n",
    "for i, (eq, regret) in enumerate(zip(equilibria, regrets)):\n",
    "    print(f\"\\nEquilibrium {i+1}:\")\n",
    "    print(f\"Regret: {regret:.6f}\")\n",
    "    \n",
    "    # Convert tensor to numpy if needed\n",
    "    if isinstance(eq, torch.Tensor):\n",
    "        eq_np = eq.numpy()\n",
    "    else:\n",
    "        eq_np = eq\n",
    "        \n",
    "    # Create a dataframe for nicer display\n",
    "    eq_df = pd.DataFrame({\n",
    "        'Strategy': strategies,\n",
    "        'Probability': eq_np\n",
    "    })\n",
    "    print(eq_df)"
   ]
  },
  {
   "cell_type": "code",
   "execution_count": null,
   "metadata": {},
   "outputs": [],
   "source": [
    "# Visualize the equilibria\n",
    "plt.figure(figsize=(12, 6))\n",
    "\n",
    "for i, eq in enumerate(equilibria):\n",
    "    # Convert tensor to numpy if needed\n",
    "    if isinstance(eq, torch.Tensor):\n",
    "        eq_np = eq.numpy()\n",
    "    else:\n",
    "        eq_np = eq\n",
    "        \n",
    "    plt.bar([s + i*0.2 for s in range(len(strategies))], eq_np, width=0.2, label=f\"Eq {i+1}\")\n",
    "\n",
    "plt.title('Strategy Probabilities in Equilibria')\n",
    "plt.ylabel('Probability')\n",
    "plt.xlabel('Strategy')\n",
    "plt.xticks([s + (len(equilibria)-1)/2*0.2 for s in range(len(strategies))], strategies, rotation=45)\n",
    "plt.grid(axis='y', linestyle='--', alpha=0.7)\n",
    "plt.legend(title='Equilibrium')\n",
    "plt.tight_layout()\n",
    "plt.show()"
   ]
  },
  {
   "cell_type": "markdown",
   "metadata": {},
   "source": [
    "## 4. Expected Payoffs Analysis"
   ]
  },
  {
   "cell_type": "code",
   "execution_count": null,
   "metadata": {},
   "outputs": [],
   "source": [
    "# Calculate expected payoffs for each strategy against the equilibrium\n",
    "def expected_payoffs(game, eq_mixture):\n",
    "    # Convert mixture to numpy if needed\n",
    "    if isinstance(eq_mixture, torch.Tensor):\n",
    "        eq_np = eq_mixture.numpy()\n",
    "    else:\n",
    "        eq_np = eq_mixture\n",
    "    \n",
    "    payoffs = []\n",
    "    for i, strategy in enumerate(strategies):\n",
    "        # Create a profile with one agent using the strategy and the rest using the equilibrium\n",
    "        exp_payoff = 0\n",
    "        \n",
    "        # We need to calculate expected payoff against the equilibrium\n",
    "        for j, opp_strategy in enumerate(strategies):\n",
    "            if eq_np[j] > 0:  # Only consider strategies with non-zero probability\n",
    "                profile = {strategy: 1, opp_strategy: 1}\n",
    "                # If it's the same strategy, we need just one agent\n",
    "                if strategy == opp_strategy:\n",
    "                    profile = {strategy: 1}\n",
    "                    \n",
    "                # Try to get the payoff from the game's payoff matrix\n",
    "                try:\n",
    "                    strat_payoff = game.get_payoff(profile, strategy)\n",
    "                except Exception:\n",
    "                    # If not available, simulate it\n",
    "                    simulated_payoffs = adapter.simulate_profile(profile)\n",
    "                    strat_payoff = simulated_payoffs.get(strategy, 0)\n",
    "                \n",
    "                exp_payoff += eq_np[j] * strat_payoff\n",
    "        \n",
    "        payoffs.append(exp_payoff)\n",
    "    \n",
    "    return payoffs\n",
    "\n",
    "# Calculate expected payoffs for the first equilibrium\n",
    "if equilibria:\n",
    "    exp_payoffs = expected_payoffs(game, equilibria[0])\n",
    "    \n",
    "    # Create a dataframe\n",
    "    exp_df = pd.DataFrame({\n",
    "        'Strategy': strategies,\n",
    "        'Expected Payoff': exp_payoffs\n",
    "    })\n",
    "    \n",
    "    print(\"Expected payoffs against the equilibrium:\")\n",
    "    print(exp_df)\n",
    "    \n",
    "    # Visualize\n",
    "    plt.figure(figsize=(10, 5))\n",
    "    plt.bar(strategies, exp_payoffs)\n",
    "    plt.title('Expected Payoffs Against Equilibrium')\n",
    "    plt.ylabel('Expected Payoff')\n",
    "    plt.xlabel('Strategy')\n",
    "    plt.xticks(rotation=45)\n",
    "    plt.grid(axis='y', linestyle='--', alpha=0.7)\n",
    "    plt.tight_layout()\n",
    "    plt.show()\n",
    "else:\n",
    "    print(\"No equilibria found to analyze\")"
   ]
  },
  {
   "cell_type": "markdown",
   "metadata": {},
   "source": [
    "## 5. Conclusion and Summary"
   ]
  },
  {
   "cell_type": "markdown",
   "metadata": {},
   "source": [
    "### Key Findings:\n",
    "\n",
    "1. **Strategy Performance**: \n",
    "   - Which strategies performed best in the different tests?\n",
    "   - How did the strategies' performance change in different contexts?\n",
    "\n",
    "2. **Equilibrium Analysis**:\n",
    "   - What equilibria did the subgame search find?\n",
    "   - Which strategies had the highest probabilities in these equilibria?\n",
    "\n",
    "3. **Economic Insights**:\n",
    "   - What can we learn about the MELO vs CDA market choice based on these results?\n",
    "   - How might these findings apply to real-world market scenarios?\n",
    "\n",
    "4. **Technical Observations**:\n",
    "   - Did the subgame search algorithm work correctly?\n",
    "   - Were there any issues or improvements needed in the implementation?\n",
    "\n",
    "### Next Steps:\n",
    "\n",
    "- Further testing with different parameter settings\n",
    "- More detailed analysis of specific strategy interactions\n",
    "- Exploration of additional strategy types\n",
    "- Performance optimization for larger-scale simulations"
   ]
  }
 ],
 "metadata": {
  "kernelspec": {
   "display_name": "Python 3",
   "language": "python",
   "name": "python3"
  },
  "language_info": {
   "codemirror_mode": {
    "name": "ipython",
    "version": 3
   },
   "file_extension": ".py",
   "mimetype": "text/x-python",
   "name": "python",
   "nbconvert_exporter": "python",
   "pygments_lexer": "ipython3",
   "version": "3.8.10"
  }
 },
 "nbformat": 4,
 "nbformat_minor": 4
}
