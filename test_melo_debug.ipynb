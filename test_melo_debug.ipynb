{
 "cells": [
  {
   "cell_type": "code",
   "execution_count": 2,
   "metadata": {},
   "outputs": [],
   "source": [
    "# %%\n",
    "import sys\n",
    "sys.path.append(\"/Users/gabesmithline/Desktop/SRG/melo_project/marketsim\")\n",
    "from marketsim.simulator.simulator import Simulator\n",
    "from marketsim.simulator.sampled_arrival_simulator import SimulatorSampledArrival\n",
    "from tqdm import tqdm\n",
    "from marketsim.simulator.melo_simulator import *"
   ]
  }
 ],
 "metadata": {
  "kernelspec": {
   "display_name": "Python 3",
   "language": "python",
   "name": "python3"
  },
  "language_info": {
   "codemirror_mode": {
    "name": "ipython",
    "version": 3
   },
   "file_extension": ".py",
   "mimetype": "text/x-python",
   "name": "python",
   "nbconvert_exporter": "python",
   "pygments_lexer": "ipython3",
   "version": "3.11.9"
  }
 },
 "nbformat": 4,
 "nbformat_minor": 2
}
