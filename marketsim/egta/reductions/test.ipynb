{
 "cells": [
  {
   "cell_type": "code",
   "execution_count": 1,
   "metadata": {},
   "outputs": [
    {
     "data": {
      "text/plain": [
       "'\\ntest data\\n'"
      ]
     },
     "execution_count": 1,
     "metadata": {},
     "output_type": "execute_result"
    }
   ],
   "source": [
    "import sys\n",
    "sys.path.append('/Users/gabesmithline/Desktop/SRG/melo_project/marketsim')\n",
    "from egta.reductions.dpr import DPRGame\n",
    "from egta.game import Game\n",
    "\n",
    "import numpy as np\n",
    "from collections import defaultdict\n",
    "from egta.process_data import process_game_data\n",
    "'''\n",
    "test data\n",
    "'''\n"
   ]
  },
  {
   "cell_type": "markdown",
   "metadata": {},
   "source": [
    "## Test data"
   ]
  },
  {
   "cell_type": "code",
   "execution_count": 2,
   "metadata": {},
   "outputs": [
    {
     "name": "stdout",
     "output_type": "stream",
     "text": [
      "(('LIT_ORDERBOOK + ZI STRAT', 2), ('MELO + ZI STRAT', 4))\n",
      "Repeat profile: (('LIT_ORDERBOOK + ZI STRAT', 2), ('MELO + ZI STRAT', 4))\n",
      "['# LIT_ORDERBOOK + ZI STRAT', '# MELO + ZI STRAT', 'Payoff (LIT_ORDERBOOK + ZI STRAT)', 'Payoff (MELO + ZI STRAT)']\n",
      "[2, 4, 18.0, 44.125]\n",
      "[3, 3, 36.666666666666664, 45.0]\n",
      "[4, 2, 38.75, 45.0]\n",
      "[5, 1, 39.0, 50.0]\n",
      "[1, 5, 30.0, 43.0]\n",
      "[0, 6, 0, 40.833333333333336]\n",
      "Prior payoff matrix\n",
      "['# LIT_ORDERBOOK + ZI STRAT', '# MELO + ZI STRAT', 'Payoff (LIT_ORDERBOOK + ZI STRAT)', 'Payoff (MELO + ZI STRAT)']\n",
      "[2, 4, 18.0, 44.125]\n",
      "[3, 3, 36.666666666666664, 45.0]\n",
      "[4, 2, 38.75, 45.0]\n",
      "[5, 1, 39.0, 50.0]\n",
      "[1, 5, 30.0, 43.0]\n",
      "[0, 6, 0, 40.833333333333336]\n",
      "New payoff matrix\n",
      "['# LIT_ORDERBOOK + ZI STRAT', '# MELO + ZI STRAT', 'Payoff (LIT_ORDERBOOK + ZI STRAT)', 'Payoff (MELO + ZI STRAT)']\n",
      "[2, 4, 18.0, 44.125]\n",
      "[3, 3, 22.833333333333332, 27.0]\n",
      "[4, 2, 38.75, 45.0]\n",
      "[5, 1, 24.2, 30.5]\n",
      "[1, 5, 30.0, 43.0]\n",
      "[0, 6, 0, 40.833333333333336]\n"
     ]
    }
   ],
   "source": [
    "#example payoff matrix for 6 agents and 2 strategies\n",
    "\"\"\"\n",
    "Melo  Lit   \n",
    "0  6   | 0 50\n",
    "1  5   | 50 10\n",
    "2  4   | 30 20\n",
    "3  3   | 50 50\n",
    "4  2   | 40 70\n",
    "5  1   | 10 100\n",
    "6  0   | 100 0 \n",
    "\"\"\"\n",
    "\n",
    "#example raw data input for each strategy profile for 6 agents and 2 strategies\n",
    "raw_data_single = [[ #2, 4\n",
    "    ['agent_1', 'MELO + ZI STRAT', 50],\n",
    "    ['agent_2', 'LIT_ORDERBOOK + ZI STRAT', 30],\n",
    "    ['agent_3', 'MELO + ZI STRAT', 40],\n",
    "    ['agent_4', 'LIT_ORDERBOOK + ZI STRAT', 20],\n",
    "    ['agent_5', 'MELO + ZI STRAT', 60],\n",
    "    ['agent_6', 'MELO + ZI STRAT', 45]\n",
    "],\n",
    "[ #2, 4\n",
    "    ['agent_1', 'MELO + ZI STRAT', 45],\n",
    "    ['agent_2', 'LIT_ORDERBOOK + ZI STRAT', 20],\n",
    "    ['agent_3', 'MELO + ZI STRAT', 13],\n",
    "    ['agent_4', 'LIT_ORDERBOOK + ZI STRAT', 2],\n",
    "    ['agent_5', 'MELO + ZI STRAT', 90],\n",
    "    ['agent_6', 'MELO + ZI STRAT', 10],\n",
    "],\n",
    "[ #3, 3\n",
    "    ['agent_1', 'MELO + ZI STRAT', 50],\n",
    "    ['agent_2', 'LIT_ORDERBOOK + ZI STRAT', 30],\n",
    "    ['agent_3', 'MELO + ZI STRAT', 40],\n",
    "    ['agent_4', 'LIT_ORDERBOOK + ZI STRAT', 20],\n",
    "    ['agent_5', 'LIT_ORDERBOOK + ZI STRAT', 60],\n",
    "    ['agent_6', 'MELO + ZI STRAT', 45]\n",
    "],\n",
    "[ #4, 2\n",
    "    ['agent_1', 'MELO + ZI STRAT', 50],\n",
    "    ['agent_2', 'LIT_ORDERBOOK + ZI STRAT', 30],\n",
    "    ['agent_3', 'MELO + ZI STRAT', 40],\n",
    "    ['agent_4', 'LIT_ORDERBOOK + ZI STRAT', 20],\n",
    "    ['agent_5', 'LIT_ORDERBOOK + ZI STRAT', 60],\n",
    "    ['agent_6', 'LIT_ORDERBOOK + ZI STRAT', 45]\n",
    "],\n",
    "[ #5, 1\n",
    "    ['agent_1', 'MELO + ZI STRAT', 50],\n",
    "    ['agent_2', 'LIT_ORDERBOOK + ZI STRAT', 30],\n",
    "    ['agent_3', 'LIT_ORDERBOOK + ZI STRAT', 40],\n",
    "    ['agent_4', 'LIT_ORDERBOOK + ZI STRAT', 20],\n",
    "    ['agent_5', 'LIT_ORDERBOOK + ZI STRAT', 60],\n",
    "    ['agent_6', 'LIT_ORDERBOOK + ZI STRAT', 45]\n",
    "],\n",
    "[ #1, 5\n",
    "    ['agent_1', 'MELO + ZI STRAT', 50],\n",
    "    ['agent_2', 'LIT_ORDERBOOK + ZI STRAT', 30],\n",
    "    ['agent_3', 'MELO + ZI STRAT', 40],\n",
    "    ['agent_4', 'MELO + ZI STRAT', 20],\n",
    "    ['agent_5', 'MELO + ZI STRAT', 60],\n",
    "    ['agent_6', 'MELO + ZI STRAT', 45]\n",
    "], \n",
    "[ #0, 6\n",
    "    ['agent_1', 'MELO + ZI STRAT', 50],\n",
    "    ['agent_2', 'MELO + ZI STRAT', 30],\n",
    "    ['agent_3', 'MELO + ZI STRAT', 40],\n",
    "    ['agent_4', 'MELO + ZI STRAT', 20],\n",
    "    ['agent_5', 'MELO + ZI STRAT', 60],\n",
    "    ['agent_6', 'MELO + ZI STRAT', 45]\n",
    "]]\n",
    "\n",
    "\n",
    "game_single = process_game_data(raw_data_single)\n",
    "for row in game_single.get_payoff_matrix():\n",
    "    print(row)\n",
    "\n",
    "new_raw_data = [\n",
    "[ #5, 1\n",
    "    ['agent_1', 'MELO + ZI STRAT', 11],\n",
    "    ['agent_2', 'LIT_ORDERBOOK + ZI STRAT', 11],\n",
    "    ['agent_3', 'LIT_ORDERBOOK + ZI STRAT', 11],\n",
    "    ['agent_4', 'LIT_ORDERBOOK + ZI STRAT', 11],\n",
    "    ['agent_5', 'LIT_ORDERBOOK + ZI STRAT', 11],\n",
    "    ['agent_6', 'LIT_ORDERBOOK + ZI STRAT', 3]\n",
    "],\n",
    "[ #3, 3\n",
    "    ['agent_1', 'MELO + ZI STRAT', 9],\n",
    "    ['agent_2', 'LIT_ORDERBOOK + ZI STRAT', 9],\n",
    "    ['agent_3', 'MELO + ZI STRAT', 9],\n",
    "    ['agent_4', 'LIT_ORDERBOOK + ZI STRAT', 9],\n",
    "    ['agent_5', 'LIT_ORDERBOOK + ZI STRAT', 9],\n",
    "    ['agent_6', 'MELO + ZI STRAT', 9]\n",
    "]\n",
    "\n",
    "\n",
    "]\n",
    "\n",
    "\n",
    "prior_payoff_matrix, new_payoff_matrix = game_single.update_payoffs(new_raw_data)  \n",
    "print(\"Prior payoff matrix\")\n",
    "for row in prior_payoff_matrix:\n",
    "    print(row)\n",
    "print(\"New payoff matrix\")\n",
    "for row in new_payoff_matrix:\n",
    "    print(row)\n",
    "\n",
    "    \n",
    "\n"
   ]
  },
  {
   "cell_type": "code",
   "execution_count": 3,
   "metadata": {},
   "outputs": [
    {
     "ename": "AttributeError",
     "evalue": "'DPRGame' object has no attribute 'scaling_factor'",
     "output_type": "error",
     "traceback": [
      "\u001b[0;31m---------------------------------------------------------------------------\u001b[0m",
      "\u001b[0;31mAttributeError\u001b[0m                            Traceback (most recent call last)",
      "Cell \u001b[0;32mIn[3], line 1\u001b[0m\n\u001b[0;32m----> 1\u001b[0m dprgame \u001b[38;5;241m=\u001b[39m \u001b[43mDPRGame\u001b[49m\u001b[43m(\u001b[49m\u001b[43mgame_single\u001b[49m\u001b[43m,\u001b[49m\u001b[43m \u001b[49m\u001b[43mgame_single\u001b[49m\u001b[38;5;241;43m.\u001b[39;49m\u001b[43mnum_players\u001b[49m\u001b[43m,\u001b[49m\u001b[43m \u001b[49m\u001b[38;5;241;43m2\u001b[39;49m\u001b[43m)\u001b[49m\n",
      "File \u001b[0;32m~/Desktop/SRG/melo_project/marketsim/egta/reductions/dpr.py:30\u001b[0m, in \u001b[0;36mDPRGame.__init__\u001b[0;34m(self, full_game, full_game_players, reduced_players)\u001b[0m\n\u001b[1;32m     28\u001b[0m \u001b[38;5;28mself\u001b[39m\u001b[38;5;241m.\u001b[39mstrategies \u001b[38;5;241m=\u001b[39m full_game\u001b[38;5;241m.\u001b[39mstrategy_names\n\u001b[1;32m     29\u001b[0m \u001b[38;5;28mself\u001b[39m\u001b[38;5;241m.\u001b[39mnum_strategies \u001b[38;5;241m=\u001b[39m \u001b[38;5;28mlen\u001b[39m(\u001b[38;5;28mself\u001b[39m\u001b[38;5;241m.\u001b[39mstrategies)\n\u001b[0;32m---> 30\u001b[0m \u001b[38;5;28mself\u001b[39m\u001b[38;5;241m.\u001b[39mreduced_game \u001b[38;5;241m=\u001b[39m \u001b[38;5;28;43mself\u001b[39;49m\u001b[38;5;241;43m.\u001b[39;49m\u001b[43mconstruct_reduced_game\u001b[49m\u001b[43m(\u001b[49m\u001b[43m)\u001b[49m\n\u001b[1;32m     32\u001b[0m \u001b[38;5;66;03m# Validate the reduction\u001b[39;00m\n\u001b[1;32m     33\u001b[0m \u001b[38;5;28;01mif\u001b[39;00m \u001b[38;5;129;01mnot\u001b[39;00m \u001b[38;5;28mself\u001b[39m\u001b[38;5;241m.\u001b[39mcheck_reduced_players_ratio():\n",
      "File \u001b[0;32m~/Desktop/SRG/melo_project/marketsim/egta/reductions/dpr.py:74\u001b[0m, in \u001b[0;36mDPRGame.construct_reduced_game\u001b[0;34m(self)\u001b[0m\n\u001b[1;32m     72\u001b[0m         reduced_profiles\u001b[38;5;241m.\u001b[39mappend(reduced_profile)\n\u001b[1;32m     73\u001b[0m         reduced_payoffs\u001b[38;5;241m.\u001b[39mappend(payoff\u001b[38;5;241m.\u001b[39mcopy())  \n\u001b[0;32m---> 74\u001b[0m \u001b[38;5;28mprint\u001b[39m(\u001b[38;5;28;43mself\u001b[39;49m\u001b[38;5;241;43m.\u001b[39;49m\u001b[43mscaling_factor\u001b[49m)\n\u001b[1;32m     75\u001b[0m \u001b[38;5;28;01mreturn\u001b[39;00m ReducedGame(\n\u001b[1;32m     76\u001b[0m     \u001b[38;5;28mself\u001b[39m\u001b[38;5;241m.\u001b[39mstrategies,\n\u001b[1;32m     77\u001b[0m     reduced_profiles, \n\u001b[0;32m   (...)\u001b[0m\n\u001b[1;32m     81\u001b[0m     \u001b[38;5;28mself\u001b[39m\u001b[38;5;241m.\u001b[39mscaling_factor \n\u001b[1;32m     82\u001b[0m )\n",
      "\u001b[0;31mAttributeError\u001b[0m: 'DPRGame' object has no attribute 'scaling_factor'"
     ]
    }
   ],
   "source": [
    "dprgame = DPRGame(game_single, game_single.num_players, 2)\n",
    "\n"
   ]
  },
  {
   "cell_type": "markdown",
   "metadata": {},
   "source": [
    "## Check Ratio Validator"
   ]
  },
  {
   "cell_type": "code",
   "execution_count": 4,
   "metadata": {},
   "outputs": [
    {
     "data": {
      "text/plain": [
       "True"
      ]
     },
     "execution_count": 4,
     "metadata": {},
     "output_type": "execute_result"
    }
   ],
   "source": [
    "dprgame.check_reduced_players_ratio()\n"
   ]
  },
  {
   "cell_type": "markdown",
   "metadata": {},
   "source": []
  }
 ],
 "metadata": {
  "kernelspec": {
   "display_name": "Python 3",
   "language": "python",
   "name": "python3"
  },
  "language_info": {
   "codemirror_mode": {
    "name": "ipython",
    "version": 3
   },
   "file_extension": ".py",
   "mimetype": "text/x-python",
   "name": "python",
   "nbconvert_exporter": "python",
   "pygments_lexer": "ipython3",
   "version": "3.11.9"
  }
 },
 "nbformat": 4,
 "nbformat_minor": 2
}
